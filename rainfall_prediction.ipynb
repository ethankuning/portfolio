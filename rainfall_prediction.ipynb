{
 "cells": [
  {
   "cell_type": "markdown",
   "metadata": {},
   "source": [
    "# Prediksi Curah Hujan"
   ]
  },
  {
   "cell_type": "markdown",
   "metadata": {},
   "source": [
    "## Import Dataset dan Library Dasar"
   ]
  },
  {
   "cell_type": "code",
   "execution_count": 1,
   "metadata": {},
   "outputs": [],
   "source": [
    "import pandas as pd\n",
    "import numpy as np\n",
    "import matplotlib.pyplot as plt"
   ]
  },
  {
   "cell_type": "code",
   "execution_count": 78,
   "metadata": {},
   "outputs": [
    {
     "data": {
      "text/html": [
       "<div>\n",
       "<style scoped>\n",
       "    .dataframe tbody tr th:only-of-type {\n",
       "        vertical-align: middle;\n",
       "    }\n",
       "\n",
       "    .dataframe tbody tr th {\n",
       "        vertical-align: top;\n",
       "    }\n",
       "\n",
       "    .dataframe thead th {\n",
       "        text-align: right;\n",
       "    }\n",
       "</style>\n",
       "<table border=\"1\" class=\"dataframe\">\n",
       "  <thead>\n",
       "    <tr style=\"text-align: right;\">\n",
       "      <th></th>\n",
       "      <th>datetime</th>\n",
       "      <th>datetime_iso</th>\n",
       "      <th>time-zone</th>\n",
       "      <th>temp</th>\n",
       "      <th>visibility</th>\n",
       "      <th>d_point</th>\n",
       "      <th>feels</th>\n",
       "      <th>min_temp</th>\n",
       "      <th>max_temp</th>\n",
       "      <th>prssr</th>\n",
       "      <th>sea_level</th>\n",
       "      <th>grnd_level</th>\n",
       "      <th>hum</th>\n",
       "      <th>wind_spd</th>\n",
       "      <th>wind_deg</th>\n",
       "      <th>rain_1h</th>\n",
       "      <th>rain_3h</th>\n",
       "      <th>snow_1h</th>\n",
       "      <th>snow_3h</th>\n",
       "      <th>clouds</th>\n",
       "    </tr>\n",
       "  </thead>\n",
       "  <tbody>\n",
       "    <tr>\n",
       "      <th>0</th>\n",
       "      <td>283996800</td>\n",
       "      <td>1979-01-01 00:00:00+00:00</td>\n",
       "      <td>28800</td>\n",
       "      <td>24.75 Celcius</td>\n",
       "      <td>NaN</td>\n",
       "      <td>23.89  C</td>\n",
       "      <td>25.76 C</td>\n",
       "      <td>24.28</td>\n",
       "      <td>25.22°C</td>\n",
       "      <td>1012</td>\n",
       "      <td>undetermined</td>\n",
       "      <td>NaN</td>\n",
       "      <td>95</td>\n",
       "      <td>0.82</td>\n",
       "      <td>320.0 °</td>\n",
       "      <td>zero</td>\n",
       "      <td>0</td>\n",
       "      <td>NaN</td>\n",
       "      <td>NaN</td>\n",
       "      <td>100</td>\n",
       "    </tr>\n",
       "    <tr>\n",
       "      <th>1</th>\n",
       "      <td>284000400</td>\n",
       "      <td>1979-01-01 01:00:00+00:00</td>\n",
       "      <td>28800</td>\n",
       "      <td>24.58 C</td>\n",
       "      <td>NaN</td>\n",
       "      <td>23.73 C</td>\n",
       "      <td>25.57 C</td>\n",
       "      <td>23.99 C</td>\n",
       "      <td>25.26 C</td>\n",
       "      <td>1012</td>\n",
       "      <td>NaN</td>\n",
       "      <td>NaN</td>\n",
       "      <td>95</td>\n",
       "      <td>0.96 m/s</td>\n",
       "      <td>338.0°</td>\n",
       "      <td>0</td>\n",
       "      <td>0</td>\n",
       "      <td>0</td>\n",
       "      <td>0</td>\n",
       "      <td>100</td>\n",
       "    </tr>\n",
       "    <tr>\n",
       "      <th>2</th>\n",
       "      <td>284004000</td>\n",
       "      <td>1979-01-01 02:00:00+00:00</td>\n",
       "      <td>28800</td>\n",
       "      <td>26.6 Celcius</td>\n",
       "      <td>unidentified</td>\n",
       "      <td>24.06 C</td>\n",
       "      <td>26.6 C</td>\n",
       "      <td>26.1 C</td>\n",
       "      <td>27.39</td>\n",
       "      <td>1012</td>\n",
       "      <td>NaN</td>\n",
       "      <td>undetermined</td>\n",
       "      <td>86</td>\n",
       "      <td>1.22 m/s</td>\n",
       "      <td>339.0°</td>\n",
       "      <td>0</td>\n",
       "      <td>volume:zero</td>\n",
       "      <td>NaN</td>\n",
       "      <td>NaN</td>\n",
       "      <td>99</td>\n",
       "    </tr>\n",
       "    <tr>\n",
       "      <th>3</th>\n",
       "      <td>284007600</td>\n",
       "      <td>1979-01-01 03:00:00+00:00</td>\n",
       "      <td>28800</td>\n",
       "      <td>27.31 Celcius</td>\n",
       "      <td>NaN</td>\n",
       "      <td>24.37 C</td>\n",
       "      <td>30.9 C</td>\n",
       "      <td>26.59</td>\n",
       "      <td>28.36 C</td>\n",
       "      <td>1012</td>\n",
       "      <td>NaN</td>\n",
       "      <td>undetermined</td>\n",
       "      <td>84</td>\n",
       "      <td>1.08 m/s</td>\n",
       "      <td>342</td>\n",
       "      <td>0.13</td>\n",
       "      <td>nol</td>\n",
       "      <td>0</td>\n",
       "      <td>NaN</td>\n",
       "      <td>94</td>\n",
       "    </tr>\n",
       "    <tr>\n",
       "      <th>4</th>\n",
       "      <td>284011200</td>\n",
       "      <td>1979-01-01 04:00:00+00:00</td>\n",
       "      <td>28800</td>\n",
       "      <td>27.41</td>\n",
       "      <td>NaN</td>\n",
       "      <td>25.05  C</td>\n",
       "      <td>31.54 C</td>\n",
       "      <td>26.58 C</td>\n",
       "      <td>28.31 °C</td>\n",
       "      <td>1011</td>\n",
       "      <td>NaN</td>\n",
       "      <td>undetermined</td>\n",
       "      <td>87</td>\n",
       "      <td>0.86</td>\n",
       "      <td>336.0°</td>\n",
       "      <td>0.34</td>\n",
       "      <td>nol</td>\n",
       "      <td>NaN</td>\n",
       "      <td>0</td>\n",
       "      <td>100</td>\n",
       "    </tr>\n",
       "    <tr>\n",
       "      <th>5</th>\n",
       "      <td>284014800</td>\n",
       "      <td>1979-01-01 05:00:00+00:00</td>\n",
       "      <td>28800</td>\n",
       "      <td>28.08</td>\n",
       "      <td>NaN</td>\n",
       "      <td>24.92 °C</td>\n",
       "      <td>32.79</td>\n",
       "      <td>27.36 Celcius</td>\n",
       "      <td>29.4  C</td>\n",
       "      <td>1010</td>\n",
       "      <td>NaN</td>\n",
       "      <td>NaN</td>\n",
       "      <td>83</td>\n",
       "      <td>0.84 m/s</td>\n",
       "      <td>7</td>\n",
       "      <td>3.33</td>\n",
       "      <td>NaN</td>\n",
       "      <td>NaN</td>\n",
       "      <td>NaN</td>\n",
       "      <td>100</td>\n",
       "    </tr>\n",
       "    <tr>\n",
       "      <th>6</th>\n",
       "      <td>284018400</td>\n",
       "      <td>1979-01-01 06:00:00+00:00</td>\n",
       "      <td>28800</td>\n",
       "      <td>28.68 °C</td>\n",
       "      <td>NaN</td>\n",
       "      <td>24.25</td>\n",
       "      <td>33.29°C</td>\n",
       "      <td>27.62 C</td>\n",
       "      <td>31.02</td>\n",
       "      <td>1010.0 hPa</td>\n",
       "      <td>undetermined</td>\n",
       "      <td>undetermined</td>\n",
       "      <td>77</td>\n",
       "      <td>0.82 m/s</td>\n",
       "      <td>309</td>\n",
       "      <td>8.01 mm</td>\n",
       "      <td>volume:zero</td>\n",
       "      <td>nol</td>\n",
       "      <td>no-snow</td>\n",
       "      <td>100</td>\n",
       "    </tr>\n",
       "    <tr>\n",
       "      <th>7</th>\n",
       "      <td>284022000</td>\n",
       "      <td>1979-01-01 07:00:00+00:00</td>\n",
       "      <td>28800</td>\n",
       "      <td>28.62 °C</td>\n",
       "      <td>NaN</td>\n",
       "      <td>25.85</td>\n",
       "      <td>34.7</td>\n",
       "      <td>28.12</td>\n",
       "      <td>29.35</td>\n",
       "      <td>1010</td>\n",
       "      <td>NaN</td>\n",
       "      <td>not recorded</td>\n",
       "      <td>85</td>\n",
       "      <td>0.71m/s</td>\n",
       "      <td>291</td>\n",
       "      <td>2.54mm</td>\n",
       "      <td>NaN</td>\n",
       "      <td>NaN</td>\n",
       "      <td>0</td>\n",
       "      <td>95</td>\n",
       "    </tr>\n",
       "    <tr>\n",
       "      <th>8</th>\n",
       "      <td>284025600</td>\n",
       "      <td>1979-01-01 08:00:00+00:00</td>\n",
       "      <td>28800</td>\n",
       "      <td>26.55</td>\n",
       "      <td>NaN</td>\n",
       "      <td>24.21</td>\n",
       "      <td>26.55 C</td>\n",
       "      <td>26.09</td>\n",
       "      <td>26.83 Celcius</td>\n",
       "      <td>1009</td>\n",
       "      <td>undetermined</td>\n",
       "      <td>undetermined</td>\n",
       "      <td>87</td>\n",
       "      <td>0.62m/s</td>\n",
       "      <td>285</td>\n",
       "      <td>1.29</td>\n",
       "      <td>0</td>\n",
       "      <td>volume:zero</td>\n",
       "      <td>NaN</td>\n",
       "      <td>97</td>\n",
       "    </tr>\n",
       "    <tr>\n",
       "      <th>9</th>\n",
       "      <td>284029200</td>\n",
       "      <td>1979-01-01 09:00:00+00:00</td>\n",
       "      <td>28800</td>\n",
       "      <td>26.38 C</td>\n",
       "      <td>NaN</td>\n",
       "      <td>24.97°C</td>\n",
       "      <td>26.38 C</td>\n",
       "      <td>25.68 C</td>\n",
       "      <td>29.02  C</td>\n",
       "      <td>1009</td>\n",
       "      <td>NaN</td>\n",
       "      <td>undetermined</td>\n",
       "      <td>92</td>\n",
       "      <td>0.44 m/s</td>\n",
       "      <td>294.0°</td>\n",
       "      <td>0.39mm</td>\n",
       "      <td>0</td>\n",
       "      <td>NaN</td>\n",
       "      <td>0</td>\n",
       "      <td>92</td>\n",
       "    </tr>\n",
       "  </tbody>\n",
       "</table>\n",
       "</div>"
      ],
      "text/plain": [
       "    datetime               datetime_iso  time-zone           temp  \\\n",
       "0  283996800  1979-01-01 00:00:00+00:00      28800  24.75 Celcius   \n",
       "1  284000400  1979-01-01 01:00:00+00:00      28800        24.58 C   \n",
       "2  284004000  1979-01-01 02:00:00+00:00      28800   26.6 Celcius   \n",
       "3  284007600  1979-01-01 03:00:00+00:00      28800  27.31 Celcius   \n",
       "4  284011200  1979-01-01 04:00:00+00:00      28800          27.41   \n",
       "5  284014800  1979-01-01 05:00:00+00:00      28800          28.08   \n",
       "6  284018400  1979-01-01 06:00:00+00:00      28800       28.68 °C   \n",
       "7  284022000  1979-01-01 07:00:00+00:00      28800       28.62 °C   \n",
       "8  284025600  1979-01-01 08:00:00+00:00      28800          26.55   \n",
       "9  284029200  1979-01-01 09:00:00+00:00      28800        26.38 C   \n",
       "\n",
       "     visibility   d_point    feels       min_temp       max_temp       prssr  \\\n",
       "0           NaN  23.89  C  25.76 C          24.28        25.22°C        1012   \n",
       "1           NaN   23.73 C  25.57 C        23.99 C        25.26 C        1012   \n",
       "2  unidentified   24.06 C   26.6 C         26.1 C          27.39        1012   \n",
       "3           NaN   24.37 C   30.9 C          26.59        28.36 C        1012   \n",
       "4           NaN  25.05  C  31.54 C        26.58 C       28.31 °C        1011   \n",
       "5           NaN  24.92 °C    32.79  27.36 Celcius        29.4  C        1010   \n",
       "6           NaN     24.25  33.29°C        27.62 C          31.02  1010.0 hPa   \n",
       "7           NaN     25.85     34.7          28.12          29.35        1010   \n",
       "8           NaN     24.21  26.55 C          26.09  26.83 Celcius        1009   \n",
       "9           NaN   24.97°C  26.38 C        25.68 C       29.02  C        1009   \n",
       "\n",
       "      sea_level    grnd_level hum  wind_spd wind_deg  rain_1h      rain_3h  \\\n",
       "0  undetermined           NaN  95      0.82  320.0 °     zero            0   \n",
       "1           NaN           NaN  95  0.96 m/s   338.0°        0            0   \n",
       "2           NaN  undetermined  86  1.22 m/s   339.0°        0  volume:zero   \n",
       "3           NaN  undetermined  84  1.08 m/s      342     0.13          nol   \n",
       "4           NaN  undetermined  87      0.86   336.0°     0.34          nol   \n",
       "5           NaN           NaN  83  0.84 m/s        7     3.33          NaN   \n",
       "6  undetermined  undetermined  77  0.82 m/s      309  8.01 mm  volume:zero   \n",
       "7           NaN  not recorded  85   0.71m/s      291   2.54mm          NaN   \n",
       "8  undetermined  undetermined  87   0.62m/s      285     1.29            0   \n",
       "9           NaN  undetermined  92  0.44 m/s   294.0°   0.39mm            0   \n",
       "\n",
       "       snow_1h  snow_3h clouds  \n",
       "0          NaN      NaN    100  \n",
       "1            0        0    100  \n",
       "2          NaN      NaN     99  \n",
       "3            0      NaN     94  \n",
       "4          NaN        0    100  \n",
       "5          NaN      NaN    100  \n",
       "6          nol  no-snow    100  \n",
       "7          NaN        0     95  \n",
       "8  volume:zero      NaN     97  \n",
       "9          NaN        0     92  "
      ]
     },
     "execution_count": 78,
     "metadata": {},
     "output_type": "execute_result"
    }
   ],
   "source": [
    "train = pd.read_csv('dataset/train.csv')\n",
    "train.head(10)"
   ]
  },
  {
   "cell_type": "code",
   "execution_count": 79,
   "metadata": {},
   "outputs": [
    {
     "name": "stdout",
     "output_type": "stream",
     "text": [
      "<class 'pandas.core.frame.DataFrame'>\n",
      "RangeIndex: 341880 entries, 0 to 341879\n",
      "Data columns (total 20 columns):\n",
      " #   Column        Non-Null Count   Dtype \n",
      "---  ------        --------------   ----- \n",
      " 0   datetime      341880 non-null  int64 \n",
      " 1   datetime_iso  341880 non-null  object\n",
      " 2   time-zone     341880 non-null  int64 \n",
      " 3   temp          341880 non-null  object\n",
      " 4   visibility    51112 non-null   object\n",
      " 5   d_point       341880 non-null  object\n",
      " 6   feels         341880 non-null  object\n",
      " 7   min_temp      341880 non-null  object\n",
      " 8   max_temp      341880 non-null  object\n",
      " 9   prssr         341880 non-null  object\n",
      " 10  sea_level     192964 non-null  object\n",
      " 11  grnd_level    192919 non-null  object\n",
      " 12  hum           341880 non-null  object\n",
      " 13  wind_spd      341880 non-null  object\n",
      " 14  wind_deg      341880 non-null  object\n",
      " 15  rain_1h       341880 non-null  object\n",
      " 16  rain_3h       192329 non-null  object\n",
      " 17  snow_1h       192696 non-null  object\n",
      " 18  snow_3h       192699 non-null  object\n",
      " 19  clouds        341880 non-null  object\n",
      "dtypes: int64(2), object(18)\n",
      "memory usage: 52.2+ MB\n"
     ]
    }
   ],
   "source": [
    "train.info()"
   ]
  },
  {
   "cell_type": "markdown",
   "metadata": {},
   "source": [
    "## Cleaning Data"
   ]
  },
  {
   "cell_type": "markdown",
   "metadata": {},
   "source": [
    "### Penyeragaman Format Data"
   ]
  },
  {
   "cell_type": "code",
   "execution_count": 80,
   "metadata": {},
   "outputs": [],
   "source": [
    "# pembuatan dataframe baru untuk mengakomodasi data hasil cleaning\n",
    "\n",
    "train_clean = train"
   ]
  },
  {
   "cell_type": "markdown",
   "metadata": {},
   "source": [
    "#### Tanggal dan Waktu"
   ]
  },
  {
   "cell_type": "markdown",
   "metadata": {},
   "source": [
    "Ada tiga feature yang berisi data mengenai tanggal dan waktu, yaitu kolom 'datetime', 'datetime_iso', dan 'time-zone'. Selain penyeragaman format dan tipe data, perlu dilakukan juga analisis kegunaan masing-masing feature. Feature yang memiliki kegunaan yang sama dapat dihilangkan atau digabungkan."
   ]
  },
  {
   "cell_type": "code",
   "execution_count": 81,
   "metadata": {},
   "outputs": [
    {
     "name": "stdout",
     "output_type": "stream",
     "text": [
      "Tipe data feature datetime:  int64\n",
      "Tipe data feature datetime_iso:  object\n",
      "Tipe data feature time-zone:  int64\n"
     ]
    }
   ],
   "source": [
    "print('Tipe data feature datetime: ', train['datetime'].dtype)\n",
    "print('Tipe data feature datetime_iso: ', train['datetime_iso'].dtype)\n",
    "print('Tipe data feature time-zone: ', train['time-zone'].dtype)"
   ]
  },
  {
   "cell_type": "markdown",
   "metadata": {},
   "source": [
    "Data waktu yang ada perlu diubah menjadi format tipe data datetime. Kolom 'datetime' dan 'datetime_iso' menunjukkan waktu yang sama dalam format yang berbeda, sehingga kolom yang digunakan cukup satu saja. Di sini, akan digunakan kolom 'datetime'."
   ]
  },
  {
   "cell_type": "code",
   "execution_count": 82,
   "metadata": {},
   "outputs": [],
   "source": [
    "train_clean['parsed_datetime'] = pd.to_datetime(train['datetime_iso'])"
   ]
  },
  {
   "cell_type": "markdown",
   "metadata": {},
   "source": [
    "---"
   ]
  },
  {
   "cell_type": "markdown",
   "metadata": {},
   "source": [
    "Kolom 'time-zone' dicek untuk mengetahui informasi yang dapat diperoleh dari data kolom tersebut."
   ]
  },
  {
   "cell_type": "code",
   "execution_count": 83,
   "metadata": {},
   "outputs": [],
   "source": [
    "# mengubah nama kolom 'time-zone' menjadi 'time_zone'\n",
    "\n",
    "kolom = np.array(train.columns)\n",
    "kolom[2] = 'time_zone'\n",
    "train.columns = kolom"
   ]
  },
  {
   "cell_type": "code",
   "execution_count": 84,
   "metadata": {},
   "outputs": [
    {
     "data": {
      "text/plain": [
       "28800    341880\n",
       "Name: time_zone, dtype: int64"
      ]
     },
     "execution_count": 84,
     "metadata": {},
     "output_type": "execute_result"
    }
   ],
   "source": [
    "train.time_zone.value_counts()"
   ]
  },
  {
   "cell_type": "markdown",
   "metadata": {},
   "source": [
    "Seluruh data pada kolom 'time-zone' bernilai sama (28800), maka tidak ada informasi berguna yang dapat diperoleh dari kolom tersebut sehingga kolom tersebut dapat dihapus. Begitu juga dengan kolom 'datetime' dan 'datetime_iso'."
   ]
  },
  {
   "cell_type": "code",
   "execution_count": 85,
   "metadata": {},
   "outputs": [
    {
     "data": {
      "text/html": [
       "<div>\n",
       "<style scoped>\n",
       "    .dataframe tbody tr th:only-of-type {\n",
       "        vertical-align: middle;\n",
       "    }\n",
       "\n",
       "    .dataframe tbody tr th {\n",
       "        vertical-align: top;\n",
       "    }\n",
       "\n",
       "    .dataframe thead th {\n",
       "        text-align: right;\n",
       "    }\n",
       "</style>\n",
       "<table border=\"1\" class=\"dataframe\">\n",
       "  <thead>\n",
       "    <tr style=\"text-align: right;\">\n",
       "      <th></th>\n",
       "      <th>temp</th>\n",
       "      <th>visibility</th>\n",
       "      <th>d_point</th>\n",
       "      <th>feels</th>\n",
       "      <th>min_temp</th>\n",
       "      <th>max_temp</th>\n",
       "      <th>prssr</th>\n",
       "      <th>sea_level</th>\n",
       "      <th>grnd_level</th>\n",
       "      <th>hum</th>\n",
       "      <th>wind_spd</th>\n",
       "      <th>wind_deg</th>\n",
       "      <th>rain_1h</th>\n",
       "      <th>rain_3h</th>\n",
       "      <th>snow_1h</th>\n",
       "      <th>snow_3h</th>\n",
       "      <th>clouds</th>\n",
       "      <th>parsed_datetime</th>\n",
       "    </tr>\n",
       "  </thead>\n",
       "  <tbody>\n",
       "    <tr>\n",
       "      <th>0</th>\n",
       "      <td>24.75 Celcius</td>\n",
       "      <td>NaN</td>\n",
       "      <td>23.89  C</td>\n",
       "      <td>25.76 C</td>\n",
       "      <td>24.28</td>\n",
       "      <td>25.22°C</td>\n",
       "      <td>1012</td>\n",
       "      <td>undetermined</td>\n",
       "      <td>NaN</td>\n",
       "      <td>95</td>\n",
       "      <td>0.82</td>\n",
       "      <td>320.0 °</td>\n",
       "      <td>zero</td>\n",
       "      <td>0</td>\n",
       "      <td>NaN</td>\n",
       "      <td>NaN</td>\n",
       "      <td>100</td>\n",
       "      <td>1979-01-01 00:00:00+00:00</td>\n",
       "    </tr>\n",
       "    <tr>\n",
       "      <th>1</th>\n",
       "      <td>24.58 C</td>\n",
       "      <td>NaN</td>\n",
       "      <td>23.73 C</td>\n",
       "      <td>25.57 C</td>\n",
       "      <td>23.99 C</td>\n",
       "      <td>25.26 C</td>\n",
       "      <td>1012</td>\n",
       "      <td>NaN</td>\n",
       "      <td>NaN</td>\n",
       "      <td>95</td>\n",
       "      <td>0.96 m/s</td>\n",
       "      <td>338.0°</td>\n",
       "      <td>0</td>\n",
       "      <td>0</td>\n",
       "      <td>0</td>\n",
       "      <td>0</td>\n",
       "      <td>100</td>\n",
       "      <td>1979-01-01 01:00:00+00:00</td>\n",
       "    </tr>\n",
       "    <tr>\n",
       "      <th>2</th>\n",
       "      <td>26.6 Celcius</td>\n",
       "      <td>unidentified</td>\n",
       "      <td>24.06 C</td>\n",
       "      <td>26.6 C</td>\n",
       "      <td>26.1 C</td>\n",
       "      <td>27.39</td>\n",
       "      <td>1012</td>\n",
       "      <td>NaN</td>\n",
       "      <td>undetermined</td>\n",
       "      <td>86</td>\n",
       "      <td>1.22 m/s</td>\n",
       "      <td>339.0°</td>\n",
       "      <td>0</td>\n",
       "      <td>volume:zero</td>\n",
       "      <td>NaN</td>\n",
       "      <td>NaN</td>\n",
       "      <td>99</td>\n",
       "      <td>1979-01-01 02:00:00+00:00</td>\n",
       "    </tr>\n",
       "    <tr>\n",
       "      <th>3</th>\n",
       "      <td>27.31 Celcius</td>\n",
       "      <td>NaN</td>\n",
       "      <td>24.37 C</td>\n",
       "      <td>30.9 C</td>\n",
       "      <td>26.59</td>\n",
       "      <td>28.36 C</td>\n",
       "      <td>1012</td>\n",
       "      <td>NaN</td>\n",
       "      <td>undetermined</td>\n",
       "      <td>84</td>\n",
       "      <td>1.08 m/s</td>\n",
       "      <td>342</td>\n",
       "      <td>0.13</td>\n",
       "      <td>nol</td>\n",
       "      <td>0</td>\n",
       "      <td>NaN</td>\n",
       "      <td>94</td>\n",
       "      <td>1979-01-01 03:00:00+00:00</td>\n",
       "    </tr>\n",
       "    <tr>\n",
       "      <th>4</th>\n",
       "      <td>27.41</td>\n",
       "      <td>NaN</td>\n",
       "      <td>25.05  C</td>\n",
       "      <td>31.54 C</td>\n",
       "      <td>26.58 C</td>\n",
       "      <td>28.31 °C</td>\n",
       "      <td>1011</td>\n",
       "      <td>NaN</td>\n",
       "      <td>undetermined</td>\n",
       "      <td>87</td>\n",
       "      <td>0.86</td>\n",
       "      <td>336.0°</td>\n",
       "      <td>0.34</td>\n",
       "      <td>nol</td>\n",
       "      <td>NaN</td>\n",
       "      <td>0</td>\n",
       "      <td>100</td>\n",
       "      <td>1979-01-01 04:00:00+00:00</td>\n",
       "    </tr>\n",
       "  </tbody>\n",
       "</table>\n",
       "</div>"
      ],
      "text/plain": [
       "            temp    visibility   d_point    feels min_temp  max_temp prssr  \\\n",
       "0  24.75 Celcius           NaN  23.89  C  25.76 C    24.28   25.22°C  1012   \n",
       "1        24.58 C           NaN   23.73 C  25.57 C  23.99 C   25.26 C  1012   \n",
       "2   26.6 Celcius  unidentified   24.06 C   26.6 C   26.1 C     27.39  1012   \n",
       "3  27.31 Celcius           NaN   24.37 C   30.9 C    26.59   28.36 C  1012   \n",
       "4          27.41           NaN  25.05  C  31.54 C  26.58 C  28.31 °C  1011   \n",
       "\n",
       "      sea_level    grnd_level hum  wind_spd wind_deg rain_1h      rain_3h  \\\n",
       "0  undetermined           NaN  95      0.82  320.0 °    zero            0   \n",
       "1           NaN           NaN  95  0.96 m/s   338.0°       0            0   \n",
       "2           NaN  undetermined  86  1.22 m/s   339.0°       0  volume:zero   \n",
       "3           NaN  undetermined  84  1.08 m/s      342    0.13          nol   \n",
       "4           NaN  undetermined  87      0.86   336.0°    0.34          nol   \n",
       "\n",
       "  snow_1h snow_3h clouds           parsed_datetime  \n",
       "0     NaN     NaN    100 1979-01-01 00:00:00+00:00  \n",
       "1       0       0    100 1979-01-01 01:00:00+00:00  \n",
       "2     NaN     NaN     99 1979-01-01 02:00:00+00:00  \n",
       "3       0     NaN     94 1979-01-01 03:00:00+00:00  \n",
       "4     NaN       0    100 1979-01-01 04:00:00+00:00  "
      ]
     },
     "execution_count": 85,
     "metadata": {},
     "output_type": "execute_result"
    }
   ],
   "source": [
    "train_clean = train_clean.drop(['datetime', 'datetime_iso', 'time_zone'], axis=1)\n",
    "train_clean.head()"
   ]
  },
  {
   "cell_type": "markdown",
   "metadata": {},
   "source": [
    "#### Satuan Data Feature Lain"
   ]
  },
  {
   "cell_type": "markdown",
   "metadata": {},
   "source": [
    "Pada feature-feature dalam dataset, terdapat banyak data yang masih memiliki satuan atau format nilai lain yang tidak baku. Oleh karena itu, perlu dilakukan penyeragaman agar seluruh data memiliki angka saja (format int atau float). Penyeragaman ini pada umumnya perlu dilakukan satu per satu untuk tiap feature karena tiap feature memerlukan perlakuan yang berbeda-beda. Akan tetapi, ada beberapa feature yang dapat menggunakan perlakuan yang sama."
   ]
  },
  {
   "cell_type": "markdown",
   "metadata": {},
   "source": [
    "##### Fungsi Umum"
   ]
  },
  {
   "cell_type": "code",
   "execution_count": 86,
   "metadata": {},
   "outputs": [],
   "source": [
    "import re"
   ]
  },
  {
   "cell_type": "code",
   "execution_count": 87,
   "metadata": {},
   "outputs": [],
   "source": [
    "def extract_float(data):\n",
    "    \"\"\"\n",
    "    Mengekstrak float yang ada di dalam sebuah string.\n",
    "\n",
    "    Args:\n",
    "        data (array of object): Array string yang ingin diekstrak floatnya.\n",
    "\n",
    "    Returns:\n",
    "        array of float: Array float yang diekstrak dari input.\n",
    "    \"\"\"\n",
    "    extracted_float = []\n",
    "\n",
    "    for obj in data:\n",
    "        match = re.search(r'-?\\d+\\.?\\d*', obj)\n",
    "\n",
    "        if match:\n",
    "            numeric_part = match.group()\n",
    "            numeric_value = float(numeric_part)\n",
    "            extracted_float.append(numeric_value)\n",
    "        else:\n",
    "            extracted_float.append(obj)\n",
    "    \n",
    "    return np.array(extracted_float)"
   ]
  },
  {
   "cell_type": "code",
   "execution_count": 88,
   "metadata": {},
   "outputs": [],
   "source": [
    "def extract_int(data):\n",
    "    \"\"\"\n",
    "    Mengekstrak integer yang ada di dalam sebuah string.\n",
    "\n",
    "    Args:\n",
    "        data (array of object): Array string yang ingin diekstrak integernya.\n",
    "\n",
    "    Returns:\n",
    "        array of integer: Array integer yang diekstrak dari input.\n",
    "    \"\"\"\n",
    "    extracted_int = []\n",
    "\n",
    "    for obj in data:\n",
    "        match = re.search(r'-?\\d+', obj)\n",
    "\n",
    "        if match:\n",
    "            numeric_part = match.group()\n",
    "            numeric_value = float(numeric_part)\n",
    "            extracted_int.append(numeric_value)\n",
    "        else:\n",
    "            extracted_int.append(obj)\n",
    "    \n",
    "    return np.array(extracted_int)"
   ]
  },
  {
   "cell_type": "code",
   "execution_count": 89,
   "metadata": {},
   "outputs": [
    {
     "data": {
      "text/plain": [
       "array([1012., 1012., 1012., ..., 1007., 1008., 1008.])"
      ]
     },
     "execution_count": 89,
     "metadata": {},
     "output_type": "execute_result"
    }
   ],
   "source": [
    "extract_float(train['prssr'])"
   ]
  },
  {
   "cell_type": "markdown",
   "metadata": {},
   "source": [
    "##### temp, d_point, feels, min_temp, dan max_temp"
   ]
  },
  {
   "cell_type": "code",
   "execution_count": 90,
   "metadata": {},
   "outputs": [],
   "source": [
    "train_clean['temp'] = extract_float(train['temp'])\n",
    "train_clean['d_point'] = extract_float(train['d_point'])\n",
    "train_clean['feels'] = extract_float(train['feels'])\n",
    "train_clean['min_temp'] = extract_float(train['min_temp'])\n",
    "train_clean['max_temp'] = extract_float(train['max_temp'])"
   ]
  },
  {
   "cell_type": "code",
   "execution_count": 91,
   "metadata": {},
   "outputs": [
    {
     "name": "stdout",
     "output_type": "stream",
     "text": [
      "<class 'pandas.core.frame.DataFrame'>\n",
      "RangeIndex: 341880 entries, 0 to 341879\n",
      "Data columns (total 18 columns):\n",
      " #   Column           Non-Null Count   Dtype              \n",
      "---  ------           --------------   -----              \n",
      " 0   temp             341880 non-null  float64            \n",
      " 1   visibility       51112 non-null   object             \n",
      " 2   d_point          341880 non-null  float64            \n",
      " 3   feels            341880 non-null  float64            \n",
      " 4   min_temp         341880 non-null  float64            \n",
      " 5   max_temp         341880 non-null  float64            \n",
      " 6   prssr            341880 non-null  object             \n",
      " 7   sea_level        192964 non-null  object             \n",
      " 8   grnd_level       192919 non-null  object             \n",
      " 9   hum              341880 non-null  object             \n",
      " 10  wind_spd         341880 non-null  object             \n",
      " 11  wind_deg         341880 non-null  object             \n",
      " 12  rain_1h          341880 non-null  object             \n",
      " 13  rain_3h          192329 non-null  object             \n",
      " 14  snow_1h          192696 non-null  object             \n",
      " 15  snow_3h          192699 non-null  object             \n",
      " 16  clouds           341880 non-null  object             \n",
      " 17  parsed_datetime  341880 non-null  datetime64[ns, UTC]\n",
      "dtypes: datetime64[ns, UTC](1), float64(5), object(12)\n",
      "memory usage: 47.0+ MB\n"
     ]
    }
   ],
   "source": [
    "train_clean.info()"
   ]
  },
  {
   "cell_type": "markdown",
   "metadata": {},
   "source": [
    "##### visibility"
   ]
  },
  {
   "cell_type": "code",
   "execution_count": 92,
   "metadata": {},
   "outputs": [
    {
     "data": {
      "text/plain": [
       "unrecognized    4352\n",
       "-1m             4349\n",
       "unknown         4326\n",
       "-1km            4278\n",
       "unidentified    4263\n",
       "-1 km           4263\n",
       "-1              4257\n",
       "                4241\n",
       "undefined       4238\n",
       "-1 m            4234\n",
       "missing         4165\n",
       "empty           4146\n",
       "Name: visibility, dtype: int64"
      ]
     },
     "execution_count": 92,
     "metadata": {},
     "output_type": "execute_result"
    }
   ],
   "source": [
    "train.visibility.value_counts()"
   ]
  },
  {
   "cell_type": "markdown",
   "metadata": {},
   "source": [
    "Nilai data visibility (jarak pandang) seharusnya bernilai positif seluruhnya. Akan tetapi, kolom visibility hanya berisikan nilai negatif atau tidak memiliki nilai sama sekali. Oleh karena itu, kolom ini akan dihilangkan."
   ]
  },
  {
   "cell_type": "code",
   "execution_count": 93,
   "metadata": {},
   "outputs": [],
   "source": [
    "train_clean = train_clean.drop('visibility', axis=1)"
   ]
  },
  {
   "cell_type": "code",
   "execution_count": 94,
   "metadata": {},
   "outputs": [
    {
     "name": "stdout",
     "output_type": "stream",
     "text": [
      "<class 'pandas.core.frame.DataFrame'>\n",
      "RangeIndex: 341880 entries, 0 to 341879\n",
      "Data columns (total 17 columns):\n",
      " #   Column           Non-Null Count   Dtype              \n",
      "---  ------           --------------   -----              \n",
      " 0   temp             341880 non-null  float64            \n",
      " 1   d_point          341880 non-null  float64            \n",
      " 2   feels            341880 non-null  float64            \n",
      " 3   min_temp         341880 non-null  float64            \n",
      " 4   max_temp         341880 non-null  float64            \n",
      " 5   prssr            341880 non-null  object             \n",
      " 6   sea_level        192964 non-null  object             \n",
      " 7   grnd_level       192919 non-null  object             \n",
      " 8   hum              341880 non-null  object             \n",
      " 9   wind_spd         341880 non-null  object             \n",
      " 10  wind_deg         341880 non-null  object             \n",
      " 11  rain_1h          341880 non-null  object             \n",
      " 12  rain_3h          192329 non-null  object             \n",
      " 13  snow_1h          192696 non-null  object             \n",
      " 14  snow_3h          192699 non-null  object             \n",
      " 15  clouds           341880 non-null  object             \n",
      " 16  parsed_datetime  341880 non-null  datetime64[ns, UTC]\n",
      "dtypes: datetime64[ns, UTC](1), float64(5), object(11)\n",
      "memory usage: 44.3+ MB\n"
     ]
    }
   ],
   "source": [
    "train_clean.info()"
   ]
  },
  {
   "cell_type": "markdown",
   "metadata": {},
   "source": [
    "##### prssr"
   ]
  },
  {
   "cell_type": "code",
   "execution_count": 95,
   "metadata": {},
   "outputs": [],
   "source": [
    "train_clean['prssr'] = extract_float(train['prssr'])"
   ]
  },
  {
   "cell_type": "code",
   "execution_count": 96,
   "metadata": {},
   "outputs": [
    {
     "name": "stdout",
     "output_type": "stream",
     "text": [
      "<class 'pandas.core.frame.DataFrame'>\n",
      "RangeIndex: 341880 entries, 0 to 341879\n",
      "Data columns (total 17 columns):\n",
      " #   Column           Non-Null Count   Dtype              \n",
      "---  ------           --------------   -----              \n",
      " 0   temp             341880 non-null  float64            \n",
      " 1   d_point          341880 non-null  float64            \n",
      " 2   feels            341880 non-null  float64            \n",
      " 3   min_temp         341880 non-null  float64            \n",
      " 4   max_temp         341880 non-null  float64            \n",
      " 5   prssr            341880 non-null  float64            \n",
      " 6   sea_level        192964 non-null  object             \n",
      " 7   grnd_level       192919 non-null  object             \n",
      " 8   hum              341880 non-null  object             \n",
      " 9   wind_spd         341880 non-null  object             \n",
      " 10  wind_deg         341880 non-null  object             \n",
      " 11  rain_1h          341880 non-null  object             \n",
      " 12  rain_3h          192329 non-null  object             \n",
      " 13  snow_1h          192696 non-null  object             \n",
      " 14  snow_3h          192699 non-null  object             \n",
      " 15  clouds           341880 non-null  object             \n",
      " 16  parsed_datetime  341880 non-null  datetime64[ns, UTC]\n",
      "dtypes: datetime64[ns, UTC](1), float64(6), object(10)\n",
      "memory usage: 44.3+ MB\n"
     ]
    }
   ],
   "source": [
    "train_clean.info()"
   ]
  },
  {
   "cell_type": "markdown",
   "metadata": {},
   "source": [
    "##### sea_level dan grnd_level"
   ]
  },
  {
   "cell_type": "code",
   "execution_count": 97,
   "metadata": {},
   "outputs": [
    {
     "data": {
      "text/plain": [
       "undetermined     154582\n",
       "-1                 4890\n",
       "unestablished      4823\n",
       "unsettled          4809\n",
       "not_recorded       4804\n",
       "not-recorded       4803\n",
       "unknown            4792\n",
       "not recorded       4735\n",
       "unspecified        4726\n",
       "Name: sea_level, dtype: int64"
      ]
     },
     "execution_count": 97,
     "metadata": {},
     "output_type": "execute_result"
    }
   ],
   "source": [
    "train.sea_level.value_counts()"
   ]
  },
  {
   "cell_type": "code",
   "execution_count": 98,
   "metadata": {},
   "outputs": [
    {
     "data": {
      "text/plain": [
       "undetermined     148814\n",
       "not recorded       5615\n",
       "not_recorded       5579\n",
       "unspecified        5537\n",
       "-1                 5511\n",
       "unsettled          5497\n",
       "not-recorded       5480\n",
       "unknown            5443\n",
       "unestablished      5443\n",
       "Name: grnd_level, dtype: int64"
      ]
     },
     "execution_count": 98,
     "metadata": {},
     "output_type": "execute_result"
    }
   ],
   "source": [
    "train.grnd_level.value_counts()"
   ]
  },
  {
   "cell_type": "markdown",
   "metadata": {},
   "source": [
    "Nilai pressure (tekanan) seharusnya bernilai positif seluruhnya. Akan tetapi, kolom sea_level dan grnd_level hanya berisikan nilai negatif atau tidak memiliki nilai sama sekali. Oleh karena itu, kolom ini akan dihilangkan."
   ]
  },
  {
   "cell_type": "code",
   "execution_count": 99,
   "metadata": {},
   "outputs": [],
   "source": [
    "train_clean = train_clean.drop(['sea_level', 'grnd_level'], axis=1)"
   ]
  },
  {
   "cell_type": "code",
   "execution_count": 100,
   "metadata": {},
   "outputs": [
    {
     "name": "stdout",
     "output_type": "stream",
     "text": [
      "<class 'pandas.core.frame.DataFrame'>\n",
      "RangeIndex: 341880 entries, 0 to 341879\n",
      "Data columns (total 15 columns):\n",
      " #   Column           Non-Null Count   Dtype              \n",
      "---  ------           --------------   -----              \n",
      " 0   temp             341880 non-null  float64            \n",
      " 1   d_point          341880 non-null  float64            \n",
      " 2   feels            341880 non-null  float64            \n",
      " 3   min_temp         341880 non-null  float64            \n",
      " 4   max_temp         341880 non-null  float64            \n",
      " 5   prssr            341880 non-null  float64            \n",
      " 6   hum              341880 non-null  object             \n",
      " 7   wind_spd         341880 non-null  object             \n",
      " 8   wind_deg         341880 non-null  object             \n",
      " 9   rain_1h          341880 non-null  object             \n",
      " 10  rain_3h          192329 non-null  object             \n",
      " 11  snow_1h          192696 non-null  object             \n",
      " 12  snow_3h          192699 non-null  object             \n",
      " 13  clouds           341880 non-null  object             \n",
      " 14  parsed_datetime  341880 non-null  datetime64[ns, UTC]\n",
      "dtypes: datetime64[ns, UTC](1), float64(6), object(8)\n",
      "memory usage: 39.1+ MB\n"
     ]
    }
   ],
   "source": [
    "train_clean.info()"
   ]
  },
  {
   "cell_type": "markdown",
   "metadata": {},
   "source": [
    "##### hum"
   ]
  },
  {
   "cell_type": "code",
   "execution_count": 101,
   "metadata": {},
   "outputs": [],
   "source": [
    "train_clean['hum'] = extract_int(train['hum'])"
   ]
  },
  {
   "cell_type": "code",
   "execution_count": 102,
   "metadata": {},
   "outputs": [
    {
     "name": "stdout",
     "output_type": "stream",
     "text": [
      "<class 'pandas.core.frame.DataFrame'>\n",
      "RangeIndex: 341880 entries, 0 to 341879\n",
      "Data columns (total 15 columns):\n",
      " #   Column           Non-Null Count   Dtype              \n",
      "---  ------           --------------   -----              \n",
      " 0   temp             341880 non-null  float64            \n",
      " 1   d_point          341880 non-null  float64            \n",
      " 2   feels            341880 non-null  float64            \n",
      " 3   min_temp         341880 non-null  float64            \n",
      " 4   max_temp         341880 non-null  float64            \n",
      " 5   prssr            341880 non-null  float64            \n",
      " 6   hum              341880 non-null  float64            \n",
      " 7   wind_spd         341880 non-null  object             \n",
      " 8   wind_deg         341880 non-null  object             \n",
      " 9   rain_1h          341880 non-null  object             \n",
      " 10  rain_3h          192329 non-null  object             \n",
      " 11  snow_1h          192696 non-null  object             \n",
      " 12  snow_3h          192699 non-null  object             \n",
      " 13  clouds           341880 non-null  object             \n",
      " 14  parsed_datetime  341880 non-null  datetime64[ns, UTC]\n",
      "dtypes: datetime64[ns, UTC](1), float64(7), object(7)\n",
      "memory usage: 39.1+ MB\n"
     ]
    }
   ],
   "source": [
    "train_clean.info()"
   ]
  },
  {
   "cell_type": "markdown",
   "metadata": {},
   "source": [
    "##### wind_spd"
   ]
  },
  {
   "cell_type": "code",
   "execution_count": 103,
   "metadata": {},
   "outputs": [],
   "source": [
    "train_clean['wind_spd'] = extract_float(train['wind_spd'])"
   ]
  },
  {
   "cell_type": "code",
   "execution_count": 104,
   "metadata": {},
   "outputs": [
    {
     "name": "stdout",
     "output_type": "stream",
     "text": [
      "<class 'pandas.core.frame.DataFrame'>\n",
      "RangeIndex: 341880 entries, 0 to 341879\n",
      "Data columns (total 15 columns):\n",
      " #   Column           Non-Null Count   Dtype              \n",
      "---  ------           --------------   -----              \n",
      " 0   temp             341880 non-null  float64            \n",
      " 1   d_point          341880 non-null  float64            \n",
      " 2   feels            341880 non-null  float64            \n",
      " 3   min_temp         341880 non-null  float64            \n",
      " 4   max_temp         341880 non-null  float64            \n",
      " 5   prssr            341880 non-null  float64            \n",
      " 6   hum              341880 non-null  float64            \n",
      " 7   wind_spd         341880 non-null  float64            \n",
      " 8   wind_deg         341880 non-null  object             \n",
      " 9   rain_1h          341880 non-null  object             \n",
      " 10  rain_3h          192329 non-null  object             \n",
      " 11  snow_1h          192696 non-null  object             \n",
      " 12  snow_3h          192699 non-null  object             \n",
      " 13  clouds           341880 non-null  object             \n",
      " 14  parsed_datetime  341880 non-null  datetime64[ns, UTC]\n",
      "dtypes: datetime64[ns, UTC](1), float64(8), object(6)\n",
      "memory usage: 39.1+ MB\n"
     ]
    }
   ],
   "source": [
    "train_clean.info()"
   ]
  },
  {
   "cell_type": "markdown",
   "metadata": {},
   "source": [
    "##### wind_deg"
   ]
  },
  {
   "cell_type": "code",
   "execution_count": 105,
   "metadata": {},
   "outputs": [],
   "source": [
    "train_clean['wind_deg'] = extract_int(train['wind_deg'])"
   ]
  },
  {
   "cell_type": "code",
   "execution_count": 106,
   "metadata": {},
   "outputs": [
    {
     "name": "stdout",
     "output_type": "stream",
     "text": [
      "<class 'pandas.core.frame.DataFrame'>\n",
      "RangeIndex: 341880 entries, 0 to 341879\n",
      "Data columns (total 15 columns):\n",
      " #   Column           Non-Null Count   Dtype              \n",
      "---  ------           --------------   -----              \n",
      " 0   temp             341880 non-null  float64            \n",
      " 1   d_point          341880 non-null  float64            \n",
      " 2   feels            341880 non-null  float64            \n",
      " 3   min_temp         341880 non-null  float64            \n",
      " 4   max_temp         341880 non-null  float64            \n",
      " 5   prssr            341880 non-null  float64            \n",
      " 6   hum              341880 non-null  float64            \n",
      " 7   wind_spd         341880 non-null  float64            \n",
      " 8   wind_deg         341880 non-null  float64            \n",
      " 9   rain_1h          341880 non-null  object             \n",
      " 10  rain_3h          192329 non-null  object             \n",
      " 11  snow_1h          192696 non-null  object             \n",
      " 12  snow_3h          192699 non-null  object             \n",
      " 13  clouds           341880 non-null  object             \n",
      " 14  parsed_datetime  341880 non-null  datetime64[ns, UTC]\n",
      "dtypes: datetime64[ns, UTC](1), float64(9), object(5)\n",
      "memory usage: 39.1+ MB\n"
     ]
    }
   ],
   "source": [
    "train_clean.info()"
   ]
  },
  {
   "cell_type": "markdown",
   "metadata": {},
   "source": [
    "##### rain_3h, snow_1h, snow_3h"
   ]
  },
  {
   "cell_type": "code",
   "execution_count": 107,
   "metadata": {},
   "outputs": [
    {
     "data": {
      "text/plain": [
       "0              125413\n",
       "no-rain          7553\n",
       "0 milimeter      7484\n",
       "volume:0         7483\n",
       "nol              7465\n",
       "0mm              7445\n",
       "no_rain          7422\n",
       "volume:zero      7405\n",
       "0 mm             7401\n",
       "zero             7258\n",
       "Name: rain_3h, dtype: int64"
      ]
     },
     "execution_count": 107,
     "metadata": {},
     "output_type": "execute_result"
    }
   ],
   "source": [
    "train.rain_3h.value_counts()"
   ]
  },
  {
   "cell_type": "code",
   "execution_count": 108,
   "metadata": {},
   "outputs": [
    {
     "data": {
      "text/plain": [
       "0              145509\n",
       "0 milimeter      5392\n",
       "no-snow          5328\n",
       "zero             5301\n",
       "volume:zero      5263\n",
       "0 mm             5252\n",
       "nol              5191\n",
       "volume:0         5165\n",
       "0mm              5164\n",
       "no_snow          5131\n",
       "Name: snow_1h, dtype: int64"
      ]
     },
     "execution_count": 108,
     "metadata": {},
     "output_type": "execute_result"
    }
   ],
   "source": [
    "train.snow_1h.value_counts()\n"
   ]
  },
  {
   "cell_type": "code",
   "execution_count": 109,
   "metadata": {},
   "outputs": [
    {
     "data": {
      "text/plain": [
       "0              139397\n",
       "zero             6069\n",
       "nol              6039\n",
       "0 mm             5989\n",
       "no-snow          5896\n",
       "volume:0         5880\n",
       "0mm              5874\n",
       "0 milimeter      5872\n",
       "no_snow          5843\n",
       "volume:zero      5840\n",
       "Name: snow_3h, dtype: int64"
      ]
     },
     "execution_count": 109,
     "metadata": {},
     "output_type": "execute_result"
    }
   ],
   "source": [
    "train.snow_3h.value_counts()\n"
   ]
  },
  {
   "cell_type": "markdown",
   "metadata": {},
   "source": [
    "Ketiga feature tidak memiliki informasi yang berarti karena seluruh datanya bernilai nol, maka feature 'rain_3h', 'snow_1h', dan 'snow_3h' akan dihapus."
   ]
  },
  {
   "cell_type": "code",
   "execution_count": 110,
   "metadata": {},
   "outputs": [],
   "source": [
    "train_clean = train_clean.drop(['rain_3h', 'snow_1h', 'snow_3h'], axis=1)"
   ]
  },
  {
   "cell_type": "code",
   "execution_count": 111,
   "metadata": {},
   "outputs": [
    {
     "name": "stdout",
     "output_type": "stream",
     "text": [
      "<class 'pandas.core.frame.DataFrame'>\n",
      "RangeIndex: 341880 entries, 0 to 341879\n",
      "Data columns (total 12 columns):\n",
      " #   Column           Non-Null Count   Dtype              \n",
      "---  ------           --------------   -----              \n",
      " 0   temp             341880 non-null  float64            \n",
      " 1   d_point          341880 non-null  float64            \n",
      " 2   feels            341880 non-null  float64            \n",
      " 3   min_temp         341880 non-null  float64            \n",
      " 4   max_temp         341880 non-null  float64            \n",
      " 5   prssr            341880 non-null  float64            \n",
      " 6   hum              341880 non-null  float64            \n",
      " 7   wind_spd         341880 non-null  float64            \n",
      " 8   wind_deg         341880 non-null  float64            \n",
      " 9   rain_1h          341880 non-null  object             \n",
      " 10  clouds           341880 non-null  object             \n",
      " 11  parsed_datetime  341880 non-null  datetime64[ns, UTC]\n",
      "dtypes: datetime64[ns, UTC](1), float64(9), object(2)\n",
      "memory usage: 31.3+ MB\n"
     ]
    }
   ],
   "source": [
    "train_clean.info()"
   ]
  },
  {
   "cell_type": "markdown",
   "metadata": {},
   "source": [
    "##### clouds"
   ]
  },
  {
   "cell_type": "code",
   "execution_count": 112,
   "metadata": {},
   "outputs": [],
   "source": [
    "train_clean['clouds'] = extract_int(train['clouds'])"
   ]
  },
  {
   "cell_type": "code",
   "execution_count": 113,
   "metadata": {},
   "outputs": [
    {
     "name": "stdout",
     "output_type": "stream",
     "text": [
      "<class 'pandas.core.frame.DataFrame'>\n",
      "RangeIndex: 341880 entries, 0 to 341879\n",
      "Data columns (total 12 columns):\n",
      " #   Column           Non-Null Count   Dtype              \n",
      "---  ------           --------------   -----              \n",
      " 0   temp             341880 non-null  float64            \n",
      " 1   d_point          341880 non-null  float64            \n",
      " 2   feels            341880 non-null  float64            \n",
      " 3   min_temp         341880 non-null  float64            \n",
      " 4   max_temp         341880 non-null  float64            \n",
      " 5   prssr            341880 non-null  float64            \n",
      " 6   hum              341880 non-null  float64            \n",
      " 7   wind_spd         341880 non-null  float64            \n",
      " 8   wind_deg         341880 non-null  float64            \n",
      " 9   rain_1h          341880 non-null  object             \n",
      " 10  clouds           341880 non-null  float64            \n",
      " 11  parsed_datetime  341880 non-null  datetime64[ns, UTC]\n",
      "dtypes: datetime64[ns, UTC](1), float64(10), object(1)\n",
      "memory usage: 31.3+ MB\n"
     ]
    }
   ],
   "source": [
    "train_clean.info()"
   ]
  },
  {
   "cell_type": "markdown",
   "metadata": {},
   "source": [
    "##### rain_1h (label)"
   ]
  },
  {
   "cell_type": "code",
   "execution_count": 114,
   "metadata": {},
   "outputs": [
    {
     "data": {
      "text/plain": [
       "0       169494\n",
       "         21290\n",
       "0 mm      5476\n",
       "-1mm      5442\n",
       "zero      5308\n",
       "0mm       5253\n",
       "0.11      2757\n",
       "0.12      2522\n",
       "0.13      2338\n",
       "0.14      2334\n",
       "Name: rain_1h, dtype: int64"
      ]
     },
     "execution_count": 114,
     "metadata": {},
     "output_type": "execute_result"
    }
   ],
   "source": [
    "train.rain_1h.value_counts()[:10]"
   ]
  },
  {
   "cell_type": "code",
   "execution_count": 115,
   "metadata": {},
   "outputs": [],
   "source": [
    "extracted_float = []\n",
    "\n",
    "for obj in train['rain_1h']:\n",
    "    match = re.search(r'\\d+\\.?\\d*', obj)\n",
    "\n",
    "    if match:\n",
    "        numeric_part = match.group()\n",
    "        numeric_value = float(numeric_part)\n",
    "        extracted_float.append(numeric_value)\n",
    "    elif obj in ['zero']:\n",
    "        extracted_float.append(0.0)\n",
    "    else:\n",
    "        extracted_float.append(np.nan)\n",
    "\n",
    "train_clean['rain_1h'] = extracted_float\n"
   ]
  },
  {
   "cell_type": "code",
   "execution_count": 116,
   "metadata": {},
   "outputs": [
    {
     "data": {
      "text/plain": [
       "0.00     185531\n",
       "1.00       5747\n",
       "0.11       5083\n",
       "0.12       4593\n",
       "0.13       4290\n",
       "          ...  \n",
       "12.75         1\n",
       "11.87         1\n",
       "9.75          1\n",
       "8.65          1\n",
       "9.16          1\n",
       "Name: rain_1h, Length: 1067, dtype: int64"
      ]
     },
     "execution_count": 116,
     "metadata": {},
     "output_type": "execute_result"
    }
   ],
   "source": [
    "train_clean.rain_1h.value_counts()"
   ]
  },
  {
   "cell_type": "code",
   "execution_count": 117,
   "metadata": {},
   "outputs": [
    {
     "name": "stdout",
     "output_type": "stream",
     "text": [
      "<class 'pandas.core.frame.DataFrame'>\n",
      "RangeIndex: 341880 entries, 0 to 341879\n",
      "Data columns (total 12 columns):\n",
      " #   Column           Non-Null Count   Dtype              \n",
      "---  ------           --------------   -----              \n",
      " 0   temp             341880 non-null  float64            \n",
      " 1   d_point          341880 non-null  float64            \n",
      " 2   feels            341880 non-null  float64            \n",
      " 3   min_temp         341880 non-null  float64            \n",
      " 4   max_temp         341880 non-null  float64            \n",
      " 5   prssr            341880 non-null  float64            \n",
      " 6   hum              341880 non-null  float64            \n",
      " 7   wind_spd         341880 non-null  float64            \n",
      " 8   wind_deg         341880 non-null  float64            \n",
      " 9   rain_1h          320590 non-null  float64            \n",
      " 10  clouds           341880 non-null  float64            \n",
      " 11  parsed_datetime  341880 non-null  datetime64[ns, UTC]\n",
      "dtypes: datetime64[ns, UTC](1), float64(11)\n",
      "memory usage: 31.3 MB\n"
     ]
    }
   ],
   "source": [
    "train_clean.info()"
   ]
  },
  {
   "cell_type": "markdown",
   "metadata": {},
   "source": [
    "### Nilai yang Tidak Mungkin"
   ]
  },
  {
   "cell_type": "code",
   "execution_count": 127,
   "metadata": {},
   "outputs": [],
   "source": [
    "train_clean = pd.read_csv('dataset/train_clean.csv', index_col=[0])"
   ]
  },
  {
   "cell_type": "markdown",
   "metadata": {},
   "source": [
    "Beberapa data feature memiliki range nilai tertentu yang mungkin. Akan tetapi, pada dataset, terdapat data yang berada di luar range tersebut. Data-data tersebut perlu dibersihkan."
   ]
  },
  {
   "cell_type": "code",
   "execution_count": 42,
   "metadata": {},
   "outputs": [
    {
     "data": {
      "text/html": [
       "<div>\n",
       "<style scoped>\n",
       "    .dataframe tbody tr th:only-of-type {\n",
       "        vertical-align: middle;\n",
       "    }\n",
       "\n",
       "    .dataframe tbody tr th {\n",
       "        vertical-align: top;\n",
       "    }\n",
       "\n",
       "    .dataframe thead th {\n",
       "        text-align: right;\n",
       "    }\n",
       "</style>\n",
       "<table border=\"1\" class=\"dataframe\">\n",
       "  <thead>\n",
       "    <tr style=\"text-align: right;\">\n",
       "      <th></th>\n",
       "      <th>temp</th>\n",
       "      <th>d_point</th>\n",
       "      <th>feels</th>\n",
       "      <th>min_temp</th>\n",
       "      <th>max_temp</th>\n",
       "      <th>prssr</th>\n",
       "      <th>hum</th>\n",
       "      <th>wind_spd</th>\n",
       "      <th>wind_deg</th>\n",
       "      <th>rain_1h</th>\n",
       "      <th>clouds</th>\n",
       "    </tr>\n",
       "  </thead>\n",
       "  <tbody>\n",
       "    <tr>\n",
       "      <th>count</th>\n",
       "      <td>341880.000000</td>\n",
       "      <td>341880.000000</td>\n",
       "      <td>341880.000000</td>\n",
       "      <td>341880.000000</td>\n",
       "      <td>341880.000000</td>\n",
       "      <td>341880.000000</td>\n",
       "      <td>341880.000000</td>\n",
       "      <td>341880.000000</td>\n",
       "      <td>341880.000000</td>\n",
       "      <td>341880.000000</td>\n",
       "      <td>341880.00000</td>\n",
       "    </tr>\n",
       "    <tr>\n",
       "      <th>mean</th>\n",
       "      <td>28.296996</td>\n",
       "      <td>26.056234</td>\n",
       "      <td>31.092778</td>\n",
       "      <td>27.483902</td>\n",
       "      <td>29.359565</td>\n",
       "      <td>1070.965439</td>\n",
       "      <td>94.211095</td>\n",
       "      <td>1.474819</td>\n",
       "      <td>210.860112</td>\n",
       "      <td>0.370134</td>\n",
       "      <td>85.44976</td>\n",
       "    </tr>\n",
       "    <tr>\n",
       "      <th>std</th>\n",
       "      <td>13.325830</td>\n",
       "      <td>12.080483</td>\n",
       "      <td>15.228520</td>\n",
       "      <td>12.924432</td>\n",
       "      <td>13.802332</td>\n",
       "      <td>494.701076</td>\n",
       "      <td>44.804522</td>\n",
       "      <td>1.104015</td>\n",
       "      <td>147.628134</td>\n",
       "      <td>0.941208</td>\n",
       "      <td>22.80106</td>\n",
       "    </tr>\n",
       "    <tr>\n",
       "      <th>min</th>\n",
       "      <td>21.550000</td>\n",
       "      <td>13.960000</td>\n",
       "      <td>22.350000</td>\n",
       "      <td>14.120000</td>\n",
       "      <td>22.370000</td>\n",
       "      <td>1001.000000</td>\n",
       "      <td>29.000000</td>\n",
       "      <td>0.000000</td>\n",
       "      <td>0.000000</td>\n",
       "      <td>0.000000</td>\n",
       "      <td>0.00000</td>\n",
       "    </tr>\n",
       "    <tr>\n",
       "      <th>25%</th>\n",
       "      <td>24.980000</td>\n",
       "      <td>23.950000</td>\n",
       "      <td>25.990000</td>\n",
       "      <td>24.250000</td>\n",
       "      <td>25.970000</td>\n",
       "      <td>1009.000000</td>\n",
       "      <td>83.000000</td>\n",
       "      <td>0.880000</td>\n",
       "      <td>149.000000</td>\n",
       "      <td>0.000000</td>\n",
       "      <td>81.00000</td>\n",
       "    </tr>\n",
       "    <tr>\n",
       "      <th>50%</th>\n",
       "      <td>26.200000</td>\n",
       "      <td>24.570000</td>\n",
       "      <td>26.650000</td>\n",
       "      <td>25.480000</td>\n",
       "      <td>27.270000</td>\n",
       "      <td>1010.000000</td>\n",
       "      <td>92.000000</td>\n",
       "      <td>1.270000</td>\n",
       "      <td>203.000000</td>\n",
       "      <td>0.000000</td>\n",
       "      <td>97.00000</td>\n",
       "    </tr>\n",
       "    <tr>\n",
       "      <th>75%</th>\n",
       "      <td>28.390000</td>\n",
       "      <td>25.240000</td>\n",
       "      <td>33.370000</td>\n",
       "      <td>27.640000</td>\n",
       "      <td>29.310000</td>\n",
       "      <td>1011.000000</td>\n",
       "      <td>96.000000</td>\n",
       "      <td>1.800000</td>\n",
       "      <td>279.000000</td>\n",
       "      <td>0.250000</td>\n",
       "      <td>100.00000</td>\n",
       "    </tr>\n",
       "    <tr>\n",
       "      <th>max</th>\n",
       "      <td>177.260000</td>\n",
       "      <td>141.590000</td>\n",
       "      <td>202.710000</td>\n",
       "      <td>162.920000</td>\n",
       "      <td>187.170000</td>\n",
       "      <td>5115.510000</td>\n",
       "      <td>503.000000</td>\n",
       "      <td>25.000000</td>\n",
       "      <td>1810.000000</td>\n",
       "      <td>27.100000</td>\n",
       "      <td>100.00000</td>\n",
       "    </tr>\n",
       "  </tbody>\n",
       "</table>\n",
       "</div>"
      ],
      "text/plain": [
       "                temp        d_point          feels       min_temp  \\\n",
       "count  341880.000000  341880.000000  341880.000000  341880.000000   \n",
       "mean       28.296996      26.056234      31.092778      27.483902   \n",
       "std        13.325830      12.080483      15.228520      12.924432   \n",
       "min        21.550000      13.960000      22.350000      14.120000   \n",
       "25%        24.980000      23.950000      25.990000      24.250000   \n",
       "50%        26.200000      24.570000      26.650000      25.480000   \n",
       "75%        28.390000      25.240000      33.370000      27.640000   \n",
       "max       177.260000     141.590000     202.710000     162.920000   \n",
       "\n",
       "            max_temp          prssr            hum       wind_spd  \\\n",
       "count  341880.000000  341880.000000  341880.000000  341880.000000   \n",
       "mean       29.359565    1070.965439      94.211095       1.474819   \n",
       "std        13.802332     494.701076      44.804522       1.104015   \n",
       "min        22.370000    1001.000000      29.000000       0.000000   \n",
       "25%        25.970000    1009.000000      83.000000       0.880000   \n",
       "50%        27.270000    1010.000000      92.000000       1.270000   \n",
       "75%        29.310000    1011.000000      96.000000       1.800000   \n",
       "max       187.170000    5115.510000     503.000000      25.000000   \n",
       "\n",
       "            wind_deg        rain_1h        clouds  \n",
       "count  341880.000000  341880.000000  341880.00000  \n",
       "mean      210.860112       0.370134      85.44976  \n",
       "std       147.628134       0.941208      22.80106  \n",
       "min         0.000000       0.000000       0.00000  \n",
       "25%       149.000000       0.000000      81.00000  \n",
       "50%       203.000000       0.000000      97.00000  \n",
       "75%       279.000000       0.250000     100.00000  \n",
       "max      1810.000000      27.100000     100.00000  "
      ]
     },
     "execution_count": 42,
     "metadata": {},
     "output_type": "execute_result"
    }
   ],
   "source": [
    "train_clean.describe()"
   ]
  },
  {
   "cell_type": "code",
   "execution_count": 132,
   "metadata": {},
   "outputs": [
    {
     "data": {
      "text/html": [
       "<div>\n",
       "<style scoped>\n",
       "    .dataframe tbody tr th:only-of-type {\n",
       "        vertical-align: middle;\n",
       "    }\n",
       "\n",
       "    .dataframe tbody tr th {\n",
       "        vertical-align: top;\n",
       "    }\n",
       "\n",
       "    .dataframe thead th {\n",
       "        text-align: right;\n",
       "    }\n",
       "</style>\n",
       "<table border=\"1\" class=\"dataframe\">\n",
       "  <thead>\n",
       "    <tr style=\"text-align: right;\">\n",
       "      <th></th>\n",
       "      <th>temp</th>\n",
       "      <th>d_point</th>\n",
       "      <th>feels</th>\n",
       "      <th>min_temp</th>\n",
       "      <th>max_temp</th>\n",
       "      <th>prssr</th>\n",
       "      <th>hum</th>\n",
       "      <th>wind_spd</th>\n",
       "      <th>wind_deg</th>\n",
       "      <th>rain_1h</th>\n",
       "      <th>clouds</th>\n",
       "    </tr>\n",
       "  </thead>\n",
       "  <tbody>\n",
       "    <tr>\n",
       "      <th>count</th>\n",
       "      <td>0.0</td>\n",
       "      <td>0.0</td>\n",
       "      <td>0.0</td>\n",
       "      <td>0.0</td>\n",
       "      <td>0.0</td>\n",
       "      <td>0.0</td>\n",
       "      <td>0.0</td>\n",
       "      <td>0.0</td>\n",
       "      <td>0.0</td>\n",
       "      <td>0.0</td>\n",
       "      <td>0.0</td>\n",
       "    </tr>\n",
       "    <tr>\n",
       "      <th>mean</th>\n",
       "      <td>NaN</td>\n",
       "      <td>NaN</td>\n",
       "      <td>NaN</td>\n",
       "      <td>NaN</td>\n",
       "      <td>NaN</td>\n",
       "      <td>NaN</td>\n",
       "      <td>NaN</td>\n",
       "      <td>NaN</td>\n",
       "      <td>NaN</td>\n",
       "      <td>NaN</td>\n",
       "      <td>NaN</td>\n",
       "    </tr>\n",
       "    <tr>\n",
       "      <th>std</th>\n",
       "      <td>NaN</td>\n",
       "      <td>NaN</td>\n",
       "      <td>NaN</td>\n",
       "      <td>NaN</td>\n",
       "      <td>NaN</td>\n",
       "      <td>NaN</td>\n",
       "      <td>NaN</td>\n",
       "      <td>NaN</td>\n",
       "      <td>NaN</td>\n",
       "      <td>NaN</td>\n",
       "      <td>NaN</td>\n",
       "    </tr>\n",
       "    <tr>\n",
       "      <th>min</th>\n",
       "      <td>NaN</td>\n",
       "      <td>NaN</td>\n",
       "      <td>NaN</td>\n",
       "      <td>NaN</td>\n",
       "      <td>NaN</td>\n",
       "      <td>NaN</td>\n",
       "      <td>NaN</td>\n",
       "      <td>NaN</td>\n",
       "      <td>NaN</td>\n",
       "      <td>NaN</td>\n",
       "      <td>NaN</td>\n",
       "    </tr>\n",
       "    <tr>\n",
       "      <th>25%</th>\n",
       "      <td>NaN</td>\n",
       "      <td>NaN</td>\n",
       "      <td>NaN</td>\n",
       "      <td>NaN</td>\n",
       "      <td>NaN</td>\n",
       "      <td>NaN</td>\n",
       "      <td>NaN</td>\n",
       "      <td>NaN</td>\n",
       "      <td>NaN</td>\n",
       "      <td>NaN</td>\n",
       "      <td>NaN</td>\n",
       "    </tr>\n",
       "    <tr>\n",
       "      <th>50%</th>\n",
       "      <td>NaN</td>\n",
       "      <td>NaN</td>\n",
       "      <td>NaN</td>\n",
       "      <td>NaN</td>\n",
       "      <td>NaN</td>\n",
       "      <td>NaN</td>\n",
       "      <td>NaN</td>\n",
       "      <td>NaN</td>\n",
       "      <td>NaN</td>\n",
       "      <td>NaN</td>\n",
       "      <td>NaN</td>\n",
       "    </tr>\n",
       "    <tr>\n",
       "      <th>75%</th>\n",
       "      <td>NaN</td>\n",
       "      <td>NaN</td>\n",
       "      <td>NaN</td>\n",
       "      <td>NaN</td>\n",
       "      <td>NaN</td>\n",
       "      <td>NaN</td>\n",
       "      <td>NaN</td>\n",
       "      <td>NaN</td>\n",
       "      <td>NaN</td>\n",
       "      <td>NaN</td>\n",
       "      <td>NaN</td>\n",
       "    </tr>\n",
       "    <tr>\n",
       "      <th>max</th>\n",
       "      <td>NaN</td>\n",
       "      <td>NaN</td>\n",
       "      <td>NaN</td>\n",
       "      <td>NaN</td>\n",
       "      <td>NaN</td>\n",
       "      <td>NaN</td>\n",
       "      <td>NaN</td>\n",
       "      <td>NaN</td>\n",
       "      <td>NaN</td>\n",
       "      <td>NaN</td>\n",
       "      <td>NaN</td>\n",
       "    </tr>\n",
       "  </tbody>\n",
       "</table>\n",
       "</div>"
      ],
      "text/plain": [
       "       temp  d_point  feels  min_temp  max_temp  prssr  hum  wind_spd  \\\n",
       "count   0.0      0.0    0.0       0.0       0.0    0.0  0.0       0.0   \n",
       "mean    NaN      NaN    NaN       NaN       NaN    NaN  NaN       NaN   \n",
       "std     NaN      NaN    NaN       NaN       NaN    NaN  NaN       NaN   \n",
       "min     NaN      NaN    NaN       NaN       NaN    NaN  NaN       NaN   \n",
       "25%     NaN      NaN    NaN       NaN       NaN    NaN  NaN       NaN   \n",
       "50%     NaN      NaN    NaN       NaN       NaN    NaN  NaN       NaN   \n",
       "75%     NaN      NaN    NaN       NaN       NaN    NaN  NaN       NaN   \n",
       "max     NaN      NaN    NaN       NaN       NaN    NaN  NaN       NaN   \n",
       "\n",
       "       wind_deg  rain_1h  clouds  \n",
       "count       0.0      0.0     0.0  \n",
       "mean        NaN      NaN     NaN  \n",
       "std         NaN      NaN     NaN  \n",
       "min         NaN      NaN     NaN  \n",
       "25%         NaN      NaN     NaN  \n",
       "50%         NaN      NaN     NaN  \n",
       "75%         NaN      NaN     NaN  \n",
       "max         NaN      NaN     NaN  "
      ]
     },
     "execution_count": 132,
     "metadata": {},
     "output_type": "execute_result"
    }
   ],
   "source": [
    "test = train_clean[train_clean['feels']<20]\n",
    "test.describe()"
   ]
  },
  {
   "cell_type": "markdown",
   "metadata": {},
   "source": [
    "#### Fungsi Umum"
   ]
  },
  {
   "cell_type": "code",
   "execution_count": 119,
   "metadata": {},
   "outputs": [],
   "source": [
    "def correct_value(data, lower_thresh, upper_thresh):\n",
    "    corrected_values = []\n",
    "    \n",
    "    for i in range(len(data)):\n",
    "        if data[i] < lower_thresh or data[i] > upper_thresh:\n",
    "            corrected_value = (data[i-1] + data[i+1])/2\n",
    "            corrected_values.append(corrected_value)\n",
    "        else:\n",
    "            corrected_values.append(data[i])\n",
    "    \n",
    "    return np.array(corrected_values)"
   ]
  },
  {
   "cell_type": "code",
   "execution_count": 120,
   "metadata": {},
   "outputs": [],
   "source": [
    "def delete_value(data, lower_thresh, upper_thresh):\n",
    "    deleted_values = []\n",
    "    \n",
    "    for i in range(len(data)):\n",
    "        if data[i] < lower_thresh or data[i] > upper_thresh:\n",
    "            deleted_values.append(np.nan)\n",
    "        else:\n",
    "            deleted_values.append(data[i])\n",
    "    \n",
    "    return np.array(deleted_values)"
   ]
  },
  {
   "cell_type": "markdown",
   "metadata": {},
   "source": [
    "#### Menghapus Nilai yang Tidak Masuk Akal"
   ]
  },
  {
   "cell_type": "markdown",
   "metadata": {},
   "source": [
    "Feature yang berhubungan dengan suhu selain feature feels memiliki range kurang lebih 10 hingga 40. Feature feels memiliki range 20 sampai 50. Feature tekanan memiliki range 950 sampai 1050. Feature kelembapan memiliki range 0 hingga 100, dan feature arah angin memiliki range 0 sampai dengan 360."
   ]
  },
  {
   "cell_type": "code",
   "execution_count": 133,
   "metadata": {},
   "outputs": [],
   "source": [
    "train_clean['temp'] = delete_value(train_clean['temp'], 10, 40)\n",
    "train_clean['min_temp'] = delete_value(train_clean['min_temp'], 10, 40)\n",
    "train_clean['max_temp'] = delete_value(train_clean['max_temp'], 10, 40)\n",
    "train_clean['d_point'] = delete_value(train_clean['d_point'], 10, 40)\n",
    "train_clean['feels'] = delete_value(train_clean['feels'], 20, 50)\n",
    "train_clean['prssr'] = delete_value(train_clean['prssr'], 950, 1050)\n",
    "train_clean['hum'] = delete_value(train_clean['hum'], 0, 100)\n",
    "train_clean['wind_deg'] = delete_value(train_clean['wind_deg'], 0, 360)"
   ]
  },
  {
   "cell_type": "code",
   "execution_count": 122,
   "metadata": {},
   "outputs": [
    {
     "data": {
      "text/html": [
       "<div>\n",
       "<style scoped>\n",
       "    .dataframe tbody tr th:only-of-type {\n",
       "        vertical-align: middle;\n",
       "    }\n",
       "\n",
       "    .dataframe tbody tr th {\n",
       "        vertical-align: top;\n",
       "    }\n",
       "\n",
       "    .dataframe thead th {\n",
       "        text-align: right;\n",
       "    }\n",
       "</style>\n",
       "<table border=\"1\" class=\"dataframe\">\n",
       "  <thead>\n",
       "    <tr style=\"text-align: right;\">\n",
       "      <th></th>\n",
       "      <th>temp</th>\n",
       "      <th>d_point</th>\n",
       "      <th>feels</th>\n",
       "      <th>min_temp</th>\n",
       "      <th>max_temp</th>\n",
       "      <th>prssr</th>\n",
       "      <th>hum</th>\n",
       "      <th>wind_spd</th>\n",
       "      <th>wind_deg</th>\n",
       "      <th>rain_1h</th>\n",
       "      <th>clouds</th>\n",
       "    </tr>\n",
       "  </thead>\n",
       "  <tbody>\n",
       "    <tr>\n",
       "      <th>count</th>\n",
       "      <td>336752.000000</td>\n",
       "      <td>336752.000000</td>\n",
       "      <td>336515.000000</td>\n",
       "      <td>336752.000000</td>\n",
       "      <td>336752.000000</td>\n",
       "      <td>336752.000000</td>\n",
       "      <td>336752.000000</td>\n",
       "      <td>341880.000000</td>\n",
       "      <td>337487.000000</td>\n",
       "      <td>320590.000000</td>\n",
       "      <td>341880.00000</td>\n",
       "    </tr>\n",
       "    <tr>\n",
       "      <th>mean</th>\n",
       "      <td>26.682751</td>\n",
       "      <td>24.572120</td>\n",
       "      <td>29.312460</td>\n",
       "      <td>25.918448</td>\n",
       "      <td>27.686346</td>\n",
       "      <td>1009.919469</td>\n",
       "      <td>88.851550</td>\n",
       "      <td>1.474819</td>\n",
       "      <td>198.841268</td>\n",
       "      <td>0.394714</td>\n",
       "      <td>85.44976</td>\n",
       "    </tr>\n",
       "    <tr>\n",
       "      <th>std</th>\n",
       "      <td>2.174870</td>\n",
       "      <td>0.980485</td>\n",
       "      <td>4.326863</td>\n",
       "      <td>2.118020</td>\n",
       "      <td>2.212034</td>\n",
       "      <td>1.848665</td>\n",
       "      <td>9.385892</td>\n",
       "      <td>1.104015</td>\n",
       "      <td>95.685738</td>\n",
       "      <td>0.966954</td>\n",
       "      <td>22.80106</td>\n",
       "    </tr>\n",
       "    <tr>\n",
       "      <th>min</th>\n",
       "      <td>21.550000</td>\n",
       "      <td>13.960000</td>\n",
       "      <td>22.350000</td>\n",
       "      <td>14.120000</td>\n",
       "      <td>22.370000</td>\n",
       "      <td>1001.000000</td>\n",
       "      <td>29.000000</td>\n",
       "      <td>0.000000</td>\n",
       "      <td>0.000000</td>\n",
       "      <td>0.000000</td>\n",
       "      <td>0.00000</td>\n",
       "    </tr>\n",
       "    <tr>\n",
       "      <th>25%</th>\n",
       "      <td>24.970000</td>\n",
       "      <td>23.940000</td>\n",
       "      <td>25.980000</td>\n",
       "      <td>24.230000</td>\n",
       "      <td>25.950000</td>\n",
       "      <td>1009.000000</td>\n",
       "      <td>83.000000</td>\n",
       "      <td>0.880000</td>\n",
       "      <td>148.000000</td>\n",
       "      <td>0.000000</td>\n",
       "      <td>81.00000</td>\n",
       "    </tr>\n",
       "    <tr>\n",
       "      <th>50%</th>\n",
       "      <td>26.160000</td>\n",
       "      <td>24.550000</td>\n",
       "      <td>26.630000</td>\n",
       "      <td>25.430000</td>\n",
       "      <td>27.220000</td>\n",
       "      <td>1010.000000</td>\n",
       "      <td>92.000000</td>\n",
       "      <td>1.270000</td>\n",
       "      <td>202.000000</td>\n",
       "      <td>0.000000</td>\n",
       "      <td>97.00000</td>\n",
       "    </tr>\n",
       "    <tr>\n",
       "      <th>75%</th>\n",
       "      <td>28.250000</td>\n",
       "      <td>25.210000</td>\n",
       "      <td>33.120000</td>\n",
       "      <td>27.510000</td>\n",
       "      <td>29.170000</td>\n",
       "      <td>1011.000000</td>\n",
       "      <td>96.000000</td>\n",
       "      <td>1.800000</td>\n",
       "      <td>275.000000</td>\n",
       "      <td>0.280000</td>\n",
       "      <td>100.00000</td>\n",
       "    </tr>\n",
       "    <tr>\n",
       "      <th>max</th>\n",
       "      <td>36.580000</td>\n",
       "      <td>29.310000</td>\n",
       "      <td>40.000000</td>\n",
       "      <td>34.000000</td>\n",
       "      <td>39.720000</td>\n",
       "      <td>1017.000000</td>\n",
       "      <td>100.000000</td>\n",
       "      <td>25.000000</td>\n",
       "      <td>360.000000</td>\n",
       "      <td>27.100000</td>\n",
       "      <td>100.00000</td>\n",
       "    </tr>\n",
       "  </tbody>\n",
       "</table>\n",
       "</div>"
      ],
      "text/plain": [
       "                temp        d_point          feels       min_temp  \\\n",
       "count  336752.000000  336752.000000  336515.000000  336752.000000   \n",
       "mean       26.682751      24.572120      29.312460      25.918448   \n",
       "std         2.174870       0.980485       4.326863       2.118020   \n",
       "min        21.550000      13.960000      22.350000      14.120000   \n",
       "25%        24.970000      23.940000      25.980000      24.230000   \n",
       "50%        26.160000      24.550000      26.630000      25.430000   \n",
       "75%        28.250000      25.210000      33.120000      27.510000   \n",
       "max        36.580000      29.310000      40.000000      34.000000   \n",
       "\n",
       "            max_temp          prssr            hum       wind_spd  \\\n",
       "count  336752.000000  336752.000000  336752.000000  341880.000000   \n",
       "mean       27.686346    1009.919469      88.851550       1.474819   \n",
       "std         2.212034       1.848665       9.385892       1.104015   \n",
       "min        22.370000    1001.000000      29.000000       0.000000   \n",
       "25%        25.950000    1009.000000      83.000000       0.880000   \n",
       "50%        27.220000    1010.000000      92.000000       1.270000   \n",
       "75%        29.170000    1011.000000      96.000000       1.800000   \n",
       "max        39.720000    1017.000000     100.000000      25.000000   \n",
       "\n",
       "            wind_deg        rain_1h        clouds  \n",
       "count  337487.000000  320590.000000  341880.00000  \n",
       "mean      198.841268       0.394714      85.44976  \n",
       "std        95.685738       0.966954      22.80106  \n",
       "min         0.000000       0.000000       0.00000  \n",
       "25%       148.000000       0.000000      81.00000  \n",
       "50%       202.000000       0.000000      97.00000  \n",
       "75%       275.000000       0.280000     100.00000  \n",
       "max       360.000000      27.100000     100.00000  "
      ]
     },
     "execution_count": 122,
     "metadata": {},
     "output_type": "execute_result"
    }
   ],
   "source": [
    "train_clean.describe()"
   ]
  },
  {
   "cell_type": "code",
   "execution_count": 155,
   "metadata": {},
   "outputs": [
    {
     "name": "stdout",
     "output_type": "stream",
     "text": [
      "<class 'pandas.core.frame.DataFrame'>\n",
      "Index: 341880 entries, 1979-01-01 00:00:00+00:00 to 2017-12-31 23:00:00+00:00\n",
      "Data columns (total 12 columns):\n",
      " #   Column      Non-Null Count   Dtype  \n",
      "---  ------      --------------   -----  \n",
      " 0   Unnamed: 0  341880 non-null  int64  \n",
      " 1   temp        336752 non-null  float64\n",
      " 2   d_point     336752 non-null  float64\n",
      " 3   feels       336752 non-null  float64\n",
      " 4   min_temp    336752 non-null  float64\n",
      " 5   max_temp    336752 non-null  float64\n",
      " 6   prssr       336752 non-null  float64\n",
      " 7   hum         336752 non-null  float64\n",
      " 8   wind_spd    341880 non-null  float64\n",
      " 9   wind_deg    337487 non-null  float64\n",
      " 10  rain_1h     320590 non-null  float64\n",
      " 11  clouds      341880 non-null  float64\n",
      "dtypes: float64(11), int64(1)\n",
      "memory usage: 33.9+ MB\n"
     ]
    }
   ],
   "source": [
    "train_clean.info()"
   ]
  },
  {
   "cell_type": "code",
   "execution_count": 158,
   "metadata": {},
   "outputs": [],
   "source": [
    "train_clean.to_csv('dataset/train_clean.csv')"
   ]
  },
  {
   "cell_type": "markdown",
   "metadata": {},
   "source": [
    "### Imputing Nilai yang Hilang"
   ]
  },
  {
   "cell_type": "code",
   "execution_count": 24,
   "metadata": {},
   "outputs": [
    {
     "name": "stdout",
     "output_type": "stream",
     "text": [
      "<class 'pandas.core.frame.DataFrame'>\n",
      "RangeIndex: 341880 entries, 0 to 341879\n",
      "Data columns (total 12 columns):\n",
      " #   Column           Non-Null Count   Dtype  \n",
      "---  ------           --------------   -----  \n",
      " 0   parsed_datetime  341880 non-null  object \n",
      " 1   temp             336752 non-null  float64\n",
      " 2   d_point          336752 non-null  float64\n",
      " 3   feels            336752 non-null  float64\n",
      " 4   min_temp         336752 non-null  float64\n",
      " 5   max_temp         336752 non-null  float64\n",
      " 6   prssr            336752 non-null  float64\n",
      " 7   hum              336752 non-null  float64\n",
      " 8   wind_spd         341880 non-null  float64\n",
      " 9   wind_deg         337487 non-null  float64\n",
      " 10  rain_1h          320590 non-null  float64\n",
      " 11  clouds           341880 non-null  float64\n",
      "dtypes: float64(11), object(1)\n",
      "memory usage: 31.3+ MB\n"
     ]
    }
   ],
   "source": [
    "train_clean = pd.read_csv('dataset/train_clean.csv', parse_dates=True)\n",
    "train_clean.info()"
   ]
  },
  {
   "cell_type": "code",
   "execution_count": 26,
   "metadata": {},
   "outputs": [
    {
     "name": "stdout",
     "output_type": "stream",
     "text": [
      "<class 'pandas.core.frame.DataFrame'>\n",
      "RangeIndex: 341880 entries, 0 to 341879\n",
      "Data columns (total 12 columns):\n",
      " #   Column           Non-Null Count   Dtype  \n",
      "---  ------           --------------   -----  \n",
      " 0   parsed_datetime  341880 non-null  object \n",
      " 1   temp             341880 non-null  float64\n",
      " 2   d_point          341880 non-null  float64\n",
      " 3   feels            341880 non-null  float64\n",
      " 4   min_temp         341880 non-null  float64\n",
      " 5   max_temp         341880 non-null  float64\n",
      " 6   prssr            341880 non-null  float64\n",
      " 7   hum              341880 non-null  float64\n",
      " 8   wind_spd         341880 non-null  float64\n",
      " 9   wind_deg         341880 non-null  float64\n",
      " 10  rain_1h          341880 non-null  float64\n",
      " 11  clouds           341880 non-null  float64\n",
      "dtypes: float64(11), object(1)\n",
      "memory usage: 31.3+ MB\n"
     ]
    }
   ],
   "source": [
    "train_impute = train_clean.interpolate(method='linear')\n",
    "train_impute.info()"
   ]
  },
  {
   "cell_type": "code",
   "execution_count": 29,
   "metadata": {},
   "outputs": [],
   "source": [
    "train_impute.to_csv('dataset/train_impute_linear.csv', index=False)"
   ]
  },
  {
   "cell_type": "markdown",
   "metadata": {},
   "source": [
    "## Feature Engineering"
   ]
  },
  {
   "cell_type": "code",
   "execution_count": 2,
   "metadata": {},
   "outputs": [],
   "source": [
    "train_df = pd.read_csv('dataset/train_impute_linear.csv')"
   ]
  },
  {
   "cell_type": "code",
   "execution_count": 4,
   "metadata": {},
   "outputs": [],
   "source": [
    "train_df['parsed_datetime'] = pd.to_datetime(train_df['parsed_datetime'])\n",
    "\n",
    "train_df['month'] = [x.month for x in train_df['parsed_datetime']]\n",
    "train_df['hour'] = [x.hour for x in train_df['parsed_datetime']]\n",
    "train_df['dayofyear'] = [x.dayofyear for x in train_df['parsed_datetime']]\n",
    "\n",
    "train_df.drop('parsed_datetime', axis=1, inplace=True)"
   ]
  },
  {
   "cell_type": "code",
   "execution_count": 3,
   "metadata": {},
   "outputs": [
    {
     "name": "stdout",
     "output_type": "stream",
     "text": [
      "False\n"
     ]
    }
   ],
   "source": [
    "print((train_df['d_point'] > 40).any())"
   ]
  },
  {
   "cell_type": "markdown",
   "metadata": {},
   "source": [
    "### Binarization"
   ]
  },
  {
   "cell_type": "code",
   "execution_count": 21,
   "metadata": {},
   "outputs": [
    {
     "data": {
      "text/plain": [
       "<matplotlib.collections.PathCollection at 0x2313316fe50>"
      ]
     },
     "execution_count": 21,
     "metadata": {},
     "output_type": "execute_result"
    },
    {
     "data": {
      "image/png": "[encoded data removed]",
      "text/plain": [
       "<Figure size 640x480 with 1 Axes>"
      ]
     },
     "metadata": {},
     "output_type": "display_data"
    }
   ],
   "source": [
    "rain_ave_hour = [train_df[train_df['hour']==i].mean()['rain_1h'] for i in range(train_df['hour'].nunique())]\n",
    "plt.scatter([i for i in range(train_df['hour'].nunique())], rain_ave_hour)"
   ]
  },
  {
   "cell_type": "code",
   "execution_count": 85,
   "metadata": {},
   "outputs": [
    {
     "data": {
      "text/plain": [
       "<matplotlib.collections.PathCollection at 0x20b85efc2e0>"
      ]
     },
     "execution_count": 85,
     "metadata": {},
     "output_type": "execute_result"
    },
    {
     "data": {
      "image/png": "[encoded data removed]",
      "text/plain": [
       "<Figure size 640x480 with 1 Axes>"
      ]
     },
     "metadata": {},
     "output_type": "display_data"
    }
   ],
   "source": [
    "rain_ave_month = [train_df[train_df['month']==i+1].mean()['rain_1h'] for i in range(train_df['month'].nunique())]\n",
    "plt.scatter([i+1 for i in range(train_df['month'].nunique())], rain_ave_month)"
   ]
  },
  {
   "cell_type": "code",
   "execution_count": 23,
   "metadata": {},
   "outputs": [
    {
     "data": {
      "text/plain": [
       "<matplotlib.collections.PathCollection at 0x231332068e0>"
      ]
     },
     "execution_count": 23,
     "metadata": {},
     "output_type": "execute_result"
    },
    {
     "data": {
      "image/png": "[encoded data removed]",
      "text/plain": [
       "<Figure size 640x480 with 1 Axes>"
      ]
     },
     "metadata": {},
     "output_type": "display_data"
    }
   ],
   "source": [
    "rain_ave_dayofyear = [train_df[train_df['dayofyear']==i].mean()['rain_1h'] for i in range(train_df['dayofyear'].nunique())]\n",
    "plt.scatter([i for i in range(train_df['dayofyear'].nunique())], rain_ave_dayofyear)"
   ]
  },
  {
   "cell_type": "code",
   "execution_count": 210,
   "metadata": {},
   "outputs": [],
   "source": [
    "month_list = train_df.groupby('month').mean()['rain_1h'].sort_values(ascending=False).reset_index()['month'].to_list()\n",
    "hour_list = train_df.groupby('hour').mean()['rain_1h'].sort_values(ascending=False).reset_index()['hour'].to_list()\n",
    "day_of_year_list = train_df.groupby('dayofyear').mean()['rain_1h'].sort_values(ascending=False).reset_index()['dayofyear'].to_list()\n",
    "\n",
    "month = train_df['month'].unique()\n",
    "hour = train_df['hour'].unique()\n",
    "dayofyear = train_df['dayofyear'].unique()\n",
    "\n",
    "train_df['month_sorted'] = train_df['month'].replace(month_list, month)\n",
    "train_df['hour_sorted'] = train_df['hour'].replace(hour_list, hour)\n",
    "train_df['dayofyear_sorted'] = train_df['dayofyear'].replace(day_of_year_list, dayofyear)"
   ]
  },
  {
   "cell_type": "code",
   "execution_count": 24,
   "metadata": {},
   "outputs": [
    {
     "data": {
      "text/plain": [
       "<matplotlib.collections.PathCollection at 0x23133266f70>"
      ]
     },
     "execution_count": 24,
     "metadata": {},
     "output_type": "execute_result"
    },
    {
     "data": {
      "image/png": "[encoded data removed]",
      "text/plain": [
       "<Figure size 640x480 with 1 Axes>"
      ]
     },
     "metadata": {},
     "output_type": "display_data"
    }
   ],
   "source": [
    "rain_ave_hour = [train_df[train_df['hour_sorted']==i].mean()['rain_1h'] for i in range(train_df['hour_sorted'].nunique())]\n",
    "plt.scatter([i for i in range(train_df['hour'].nunique())], rain_ave_hour)"
   ]
  },
  {
   "cell_type": "code",
   "execution_count": 25,
   "metadata": {},
   "outputs": [
    {
     "data": {
      "text/plain": [
       "<matplotlib.collections.PathCollection at 0x23133339700>"
      ]
     },
     "execution_count": 25,
     "metadata": {},
     "output_type": "execute_result"
    },
    {
     "data": {
      "image/png": "[encoded data removed]",
      "text/plain": [
       "<Figure size 640x480 with 1 Axes>"
      ]
     },
     "metadata": {},
     "output_type": "display_data"
    }
   ],
   "source": [
    "rain_ave_hour = [train_df[train_df['month_sorted']==i+1].mean()['rain_1h'] for i in range(train_df['month_sorted'].nunique())]\n",
    "plt.scatter([i for i in range(train_df['month'].nunique())], rain_ave_hour)"
   ]
  },
  {
   "cell_type": "code",
   "execution_count": 26,
   "metadata": {},
   "outputs": [
    {
     "data": {
      "text/plain": [
       "<matplotlib.collections.PathCollection at 0x2313336c220>"
      ]
     },
     "execution_count": 26,
     "metadata": {},
     "output_type": "execute_result"
    },
    {
     "data": {
      "image/png": "[encoded data removed]",
      "text/plain": [
       "<Figure size 640x480 with 1 Axes>"
      ]
     },
     "metadata": {},
     "output_type": "display_data"
    }
   ],
   "source": [
    "rain_ave_hour = [train_df[train_df['dayofyear_sorted']==i].mean()['rain_1h'] for i in range(train_df['dayofyear_sorted'].nunique())]\n",
    "plt.scatter([i for i in range(train_df['dayofyear'].nunique())], rain_ave_hour)"
   ]
  },
  {
   "cell_type": "code",
   "execution_count": 221,
   "metadata": {},
   "outputs": [
    {
     "name": "stdout",
     "output_type": "stream",
     "text": [
      "<class 'pandas.core.frame.DataFrame'>\n",
      "RangeIndex: 341880 entries, 0 to 341879\n",
      "Data columns (total 66 columns):\n",
      " #   Column                  Non-Null Count   Dtype  \n",
      "---  ------                  --------------   -----  \n",
      " 0   temp                    341880 non-null  float64\n",
      " 1   d_point                 341880 non-null  float64\n",
      " 2   feels                   341880 non-null  float64\n",
      " 3   min_temp                341880 non-null  float64\n",
      " 4   max_temp                341880 non-null  float64\n",
      " 5   prssr                   341880 non-null  float64\n",
      " 6   hum                     341880 non-null  float64\n",
      " 7   wind_spd                341880 non-null  float64\n",
      " 8   wind_deg                341880 non-null  float64\n",
      " 9   rain_1h                 341880 non-null  float64\n",
      " 10  clouds                  341880 non-null  float64\n",
      " 11  month                   341880 non-null  int64  \n",
      " 12  hour                    341880 non-null  int64  \n",
      " 13  dayofyear               341880 non-null  int64  \n",
      " 14  month_sorted            341880 non-null  int64  \n",
      " 15  hour_sorted             341880 non-null  int64  \n",
      " 16  dayofyear_sorted        341880 non-null  int64  \n",
      " 17  temp_range              341880 non-null  float64\n",
      " 18  prssr_trend_hourly1     341879 non-null  float64\n",
      " 19  temp_trend_hourly1      341879 non-null  float64\n",
      " 20  min_temp_trend_hourly1  341879 non-null  float64\n",
      " 21  max_temp_trend_hourly1  341879 non-null  float64\n",
      " 22  d_point_trend_hourly1   341879 non-null  float64\n",
      " 23  hum_trend_hourly1       341879 non-null  float64\n",
      " 24  prssr_trend_hourly2     341878 non-null  float64\n",
      " 25  temp_trend_hourly2      341878 non-null  float64\n",
      " 26  min_temp_trend_hourly2  341878 non-null  float64\n",
      " 27  max_temp_trend_hourly2  341878 non-null  float64\n",
      " 28  d_point_trend_hourly2   341878 non-null  float64\n",
      " 29  hum_trend_hourly2       341878 non-null  float64\n",
      " 30  prssr_trend_hourly3     341877 non-null  float64\n",
      " 31  temp_trend_hourly3      341877 non-null  float64\n",
      " 32  min_temp_trend_hourly3  341877 non-null  float64\n",
      " 33  max_temp_trend_hourly3  341877 non-null  float64\n",
      " 34  d_point_trend_hourly3   341877 non-null  float64\n",
      " 35  hum_trend_hourly3       341877 non-null  float64\n",
      " 36  prssr_trend_hourly4     341876 non-null  float64\n",
      " 37  temp_trend_hourly4      341876 non-null  float64\n",
      " 38  min_temp_trend_hourly4  341876 non-null  float64\n",
      " 39  max_temp_trend_hourly4  341876 non-null  float64\n",
      " 40  d_point_trend_hourly4   341876 non-null  float64\n",
      " 41  hum_trend_hourly4       341876 non-null  float64\n",
      " 42  prssr_trend_hourly5     341875 non-null  float64\n",
      " 43  temp_trend_hourly5      341875 non-null  float64\n",
      " 44  min_temp_trend_hourly5  341875 non-null  float64\n",
      " 45  max_temp_trend_hourly5  341875 non-null  float64\n",
      " 46  d_point_trend_hourly5   341875 non-null  float64\n",
      " 47  hum_trend_hourly5       341875 non-null  float64\n",
      " 48  prssr_trend_hourly6     341874 non-null  float64\n",
      " 49  temp_trend_hourly6      341874 non-null  float64\n",
      " 50  min_temp_trend_hourly6  341874 non-null  float64\n",
      " 51  max_temp_trend_hourly6  341874 non-null  float64\n",
      " 52  d_point_trend_hourly6   341874 non-null  float64\n",
      " 53  hum_trend_hourly6       341874 non-null  float64\n",
      " 54  prssr_trend_hourly7     341873 non-null  float64\n",
      " 55  temp_trend_hourly7      341873 non-null  float64\n",
      " 56  min_temp_trend_hourly7  341873 non-null  float64\n",
      " 57  max_temp_trend_hourly7  341873 non-null  float64\n",
      " 58  d_point_trend_hourly7   341873 non-null  float64\n",
      " 59  hum_trend_hourly7       341873 non-null  float64\n",
      " 60  prssr_trend_hourly8     341872 non-null  float64\n",
      " 61  temp_trend_hourly8      341872 non-null  float64\n",
      " 62  min_temp_trend_hourly8  341872 non-null  float64\n",
      " 63  max_temp_trend_hourly8  341872 non-null  float64\n",
      " 64  d_point_trend_hourly8   341872 non-null  float64\n",
      " 65  hum_trend_hourly8       341872 non-null  float64\n",
      "dtypes: float64(60), int64(6)\n",
      "memory usage: 172.2 MB\n"
     ]
    }
   ],
   "source": [
    "train_df.info()"
   ]
  },
  {
   "cell_type": "code",
   "execution_count": 211,
   "metadata": {},
   "outputs": [],
   "source": [
    "train_df['temp_range'] = train_df['max_temp'] - train_df['min_temp']"
   ]
  },
  {
   "cell_type": "markdown",
   "metadata": {},
   "source": [
    "### Row to Feature"
   ]
  },
  {
   "cell_type": "code",
   "execution_count": 5,
   "metadata": {},
   "outputs": [],
   "source": [
    "def to_feature(dataframe, new_features, backstep):\n",
    "    new_dataframe = pd.DataFrame([])\n",
    "    for feature in new_features:\n",
    "        added_features_columns = [feature+str(i) for i in range(backstep)]\n",
    "        added_features = []\n",
    "        for i in range(backstep, len(dataframe)):\n",
    "            row = []\n",
    "            for j in range(backstep):\n",
    "                row.append(dataframe[feature][i-backstep+j])\n",
    "            added_features.append(row)\n",
    "        added_features = pd.DataFrame(added_features)\n",
    "        added_features.columns = added_features_columns\n",
    "        new_dataframe = pd.concat([new_dataframe, added_features], axis=1)\n",
    "    \n",
    "    for ori in dataframe.columns:\n",
    "        new_dataframe = pd.concat([new_dataframe, dataframe[ori][backstep:].reset_index()], axis=1)\n",
    "    \n",
    "    return new_dataframe.drop('index', axis=1)"
   ]
  },
  {
   "cell_type": "code",
   "execution_count": 6,
   "metadata": {},
   "outputs": [],
   "source": [
    "backstep = 8\n",
    "for i in range(backstep):\n",
    "    j = str(i+1)\n",
    "    train_df['prssr_trend_hourly'+j] = train_df['prssr'].diff(periods=i+1)\n",
    "    train_df['temp_trend_hourly'+j] = train_df['temp'].diff(periods=i+1)\n",
    "    train_df['min_temp_trend_hourly'+j] = train_df['min_temp'].diff(periods=i+1)\n",
    "    train_df['max_temp_trend_hourly'+j] = train_df['max_temp'].diff(periods=i+1)\n",
    "    train_df['d_point_trend_hourly'+j] = train_df['d_point'].diff(periods=i+1)\n",
    "    train_df['hum_trend_hourly'+j] = train_df['hum'].diff(periods=i+1)"
   ]
  },
  {
   "cell_type": "code",
   "execution_count": 53,
   "metadata": {},
   "outputs": [],
   "source": [
    "from scipy.stats import linregress\n",
    "\n",
    "def lsma(dataframe, features, window):\n",
    "    new_dataframe = dataframe.copy()[window:]\n",
    "    x = [a for a in range(window)]\n",
    "    for feature in features:\n",
    "        feature_lsma = []\n",
    "        for i in range(len(dataframe)-window):\n",
    "            y = [dataframe[feature][i+j] for j in range(window)]\n",
    "            slope, _, _, _, _ = linregress(x, y)\n",
    "            feature_lsma.append(slope)\n",
    "        new_dataframe[feature+'_lsma'] = feature_lsma\n",
    "    \n",
    "    return pd.DataFrame(new_dataframe).reset_index().drop('index', axis=1)"
   ]
  },
  {
   "cell_type": "code",
   "execution_count": 49,
   "metadata": {},
   "outputs": [],
   "source": [
    "def sma(dataframe, features, window):\n",
    "    new_dataframe = dataframe.copy()\n",
    "    for feature in features:\n",
    "        feature_sma = []\n",
    "        for i in range(len(dataframe)-window):\n",
    "            y = [dataframe[feature][i+j] for j in range(window)]\n",
    "            mean = sum(y)/len(y)\n",
    "            feature_sma.append(mean)\n",
    "        custom_nan = [np.nan] * window\n",
    "        custom_nan.append(feature_sma)\n",
    "        new_dataframe[feature+'_sma'] = custom_nan\n",
    "    \n",
    "    return new_dataframe.reset_index().drop('index', axis=1)[window:]"
   ]
  },
  {
   "cell_type": "code",
   "execution_count": 51,
   "metadata": {},
   "outputs": [],
   "source": [
    "window = 8\n",
    "ma_features = ['temp', 'min_temp', 'max_temp', 'd_point', 'hum', 'prssr']"
   ]
  },
  {
   "cell_type": "code",
   "execution_count": null,
   "metadata": {},
   "outputs": [],
   "source": [
    "abc = lsma(train_df, ma_features, window)"
   ]
  },
  {
   "cell_type": "code",
   "execution_count": 7,
   "metadata": {},
   "outputs": [],
   "source": [
    "features_list = ['temp', 'feels', 'min_temp', 'max_temp', 'd_point', 'hum', 'prssr', 'wind_spd']\n",
    "for i in range(backstep):\n",
    "    j = str(i+1)\n",
    "    features_list.append('prssr_trend_hourly'+str(i+1))\n",
    "    \n",
    "new_train_df = to_feature(train_df, features_list, backstep)"
   ]
  },
  {
   "cell_type": "code",
   "execution_count": 9,
   "metadata": {},
   "outputs": [],
   "source": [
    "window = 8\n",
    "ma_features = ['temp', 'min_temp', 'max_temp', 'd_point', 'hum', 'prssr']\n",
    "new_train_df = sma(new_train_df, ma_features, window)"
   ]
  },
  {
   "cell_type": "code",
   "execution_count": 8,
   "metadata": {},
   "outputs": [],
   "source": [
    "remove_one = []\n",
    "new_train_df = new_train_df.reset_index().drop('index', axis=1)\n",
    "\n",
    "for i in range(len(new_train_df['rain_1h'])):\n",
    "    if new_train_df['rain_1h'][i] == 1 and new_train_df['rain_1h'][i-1] == 0 and new_train_df['rain_1h'][i+1] == 0:\n",
    "        remove_one.append(0)\n",
    "    else:\n",
    "        remove_one.append(new_train_df['rain_1h'][i])\n",
    "\n",
    "new_train_df['rain_1h'] = remove_one"
   ]
  },
  {
   "cell_type": "code",
   "execution_count": 9,
   "metadata": {},
   "outputs": [],
   "source": [
    "hour_bins = [-1, 2, 10, np.inf]\n",
    "month_bins = [0, 4, 10, np.inf]\n",
    "hour_labels = [0, 1, 0]\n",
    "month_labels = [1, 0, 1]\n",
    "\n",
    "new_train_df['new_hour'] = pd.cut(new_train_df['hour'], hour_bins, labels=hour_labels, ordered=False).astype('int')\n",
    "new_train_df['new_month'] = pd.cut(new_train_df['month'], month_bins, labels=month_labels, ordered=False).astype('int')"
   ]
  },
  {
   "cell_type": "code",
   "execution_count": 231,
   "metadata": {},
   "outputs": [],
   "source": [
    "# new_train_df['wind_x'] = new_train_df['wind_spd'] * np.cos(np.deg2rad(new_train_df['wind_deg']))\n",
    "# new_train_df['wind_y'] = new_train_df['wind_spd'] * np.sin(np.deg2rad(new_train_df['wind_deg']))"
   ]
  },
  {
   "cell_type": "code",
   "execution_count": 10,
   "metadata": {},
   "outputs": [],
   "source": [
    "new_train_df['wind_sin'] = np.sin(np.deg2rad(new_train_df['wind_deg']))\n",
    "new_train_df['wind_cos'] = np.cos(np.deg2rad(new_train_df['wind_deg']))"
   ]
  },
  {
   "cell_type": "code",
   "execution_count": 232,
   "metadata": {},
   "outputs": [],
   "source": [
    "# bins = [0, 22.5, 67.5, 112.5, 157.5, 202.5, 247.5, 292.5, 337.5, np.inf]\n",
    "# labels = ['n', 'ne', 'e', 'se', 's', 'sw', 'w', 'nw', 'n']\n",
    "\n",
    "# new_train_df['wind_deg'] = pd.cut(new_train_df['wind_deg'], bins, labels=labels, ordered=False)\n",
    "# new_train_df = pd.get_dummies(new_train_df, prefix='wind_deg', columns=['wind_deg'])"
   ]
  },
  {
   "cell_type": "code",
   "execution_count": 12,
   "metadata": {},
   "outputs": [],
   "source": [
    "from scipy.stats import linregress\n",
    "\n",
    "def add_rolling_features(df, columns, window):\n",
    "    for column in columns:\n",
    "        df[column + f'_rolling_mean_{window}'] = df[column].rolling(window=window).mean()\n",
    "        rolling_slope = df[column].rolling(window=window).apply(lambda x: linregress(range(window), x).slope, raw=False)\n",
    "        df[column + f'_rolling_slope_{window}'] = rolling_slope\n",
    "        # df[column + f'_rolling_median_{window}'] = df[column].rolling(window=window).median()\n",
    "        # df[column + f'_rolling_std_{window}'] = df[column].rolling(window=window).std()\n",
    "        # df[column + f'_rolling_min_{window}'] = df[column].rolling(window=window).min()\n",
    "        # df[column + f'_rolling_max_{window}'] = df[column].rolling(window=window).max()\n",
    "        # df[column + f'_rolling_var_{window}'] = df[column].rolling(window=window).var()\n",
    "        # df[column + f'_rolling_25_{window}'] = df[column].rolling(window=window).quantile(0.25)\n",
    "        # df[column + f'_rolling_75_{window}'] = df[column].rolling(window=window).quantile(0.75)\n",
    "        # df[column + f'_rolling_sum_{window}'] = df[column].rolling(window=window).sum()\n",
    "        # df[column + f'_rolling_sem_{window}'] = df[column].rolling(window=window).sem()\n",
    "    return df\n",
    "\n",
    "new_train_df = add_rolling_features(new_train_df, ['temp', 'min_temp', 'max_temp', 'd_point', 'hum', 'prssr'], 8)\n",
    "# new_train_df = add_rolling_features(new_train_df, ['temp', 'feels', 'min_temp', 'max_temp', 'd_point', 'hum', 'prssr', 'wind_spd'], 12)\n",
    "# new_train_df = add_rolling_features(new_train_df, ['temp', 'feels', 'min_temp', 'max_temp', 'd_point', 'hum', 'prssr', 'wind_spd'], 6)\n",
    "# new_train_df = add_rolling_features(new_train_df, ['temp', 'feels', 'min_temp', 'max_temp', 'd_point', 'hum', 'prssr', 'wind_spd'], 3)"
   ]
  },
  {
   "cell_type": "code",
   "execution_count": 194,
   "metadata": {},
   "outputs": [],
   "source": [
    "# new_train_df = new_train_df.dropna()"
   ]
  },
  {
   "cell_type": "markdown",
   "metadata": {},
   "source": [
    "## Preprocessing"
   ]
  },
  {
   "cell_type": "code",
   "execution_count": 14,
   "metadata": {},
   "outputs": [],
   "source": [
    "random_state = 1"
   ]
  },
  {
   "cell_type": "markdown",
   "metadata": {},
   "source": [
    "### Splitting"
   ]
  },
  {
   "cell_type": "code",
   "execution_count": 15,
   "metadata": {},
   "outputs": [],
   "source": [
    "from sklearn.model_selection import train_test_split\n",
    "\n",
    "X_train, X_test, y_train, y_test = train_test_split(new_train_df.drop('rain_1h', axis=1), new_train_df['rain_1h'], test_size=0.2, random_state=random_state) "
   ]
  },
  {
   "cell_type": "code",
   "execution_count": 63,
   "metadata": {},
   "outputs": [
    {
     "name": "stdout",
     "output_type": "stream",
     "text": [
      "(273497, 199)\n",
      "(68375, 199)\n",
      "(273497,)\n",
      "(68375,)\n"
     ]
    }
   ],
   "source": [
    "print(X_train.shape)\n",
    "print(X_test.shape)\n",
    "print(y_train.shape)\n",
    "print(y_test.shape)"
   ]
  },
  {
   "cell_type": "markdown",
   "metadata": {},
   "source": [
    "### Scaling"
   ]
  },
  {
   "cell_type": "code",
   "execution_count": 17,
   "metadata": {},
   "outputs": [],
   "source": [
    "from sklearn.preprocessing import StandardScaler\n",
    "\n",
    "scaler = StandardScaler()\n",
    "scaler.fit(X_train)\n",
    "X_train = scaler.transform(X_train)\n",
    "X_test = scaler.transform(X_test)"
   ]
  },
  {
   "cell_type": "markdown",
   "metadata": {},
   "source": [
    "## Model"
   ]
  },
  {
   "cell_type": "code",
   "execution_count": 15,
   "metadata": {},
   "outputs": [
    {
     "name": "stdout",
     "output_type": "stream",
     "text": [
      "rmse:  0.7107002481141561\n"
     ]
    }
   ],
   "source": [
    "from flaml.default import LGBMRegressor\n",
    "from sklearn.metrics import mean_squared_error\n",
    "\n",
    "clas = LGBMRegressor(random_state=random_state)\n",
    "clas.fit(X_train, y_train)\n",
    "clas_pred = clas.predict(X_test)\n",
    "print('rmse: ', np.sqrt(mean_squared_error(y_test, clas_pred)))"
   ]
  },
  {
   "cell_type": "code",
   "execution_count": 66,
   "metadata": {},
   "outputs": [],
   "source": [
    "from lightgbm import LGBMRegressor\n",
    "\n",
    "model = LGBMRegressor(random_state=random_state)\n",
    "model.fit(X_train, y_train)\n",
    "y_pred = model.predict(X_test)"
   ]
  },
  {
   "cell_type": "code",
   "execution_count": 18,
   "metadata": {},
   "outputs": [],
   "source": [
    "from xgboost.sklearn import XGBRegressor\n",
    "\n",
    "model = XGBRegressor(random_state=random_state, depth=8)\n",
    "model.fit(X_train, y_train)\n",
    "y_pred = model.predict(X_test)"
   ]
  },
  {
   "cell_type": "code",
   "execution_count": 18,
   "metadata": {},
   "outputs": [
    {
     "name": "stdout",
     "output_type": "stream",
     "text": [
      "Learning rate set to 0.099361\n",
      "0:\tlearn: 0.9223780\ttotal: 254ms\tremaining: 4m 14s\n",
      "1:\tlearn: 0.9033300\ttotal: 495ms\tremaining: 4m 7s\n",
      "2:\tlearn: 0.8869099\ttotal: 728ms\tremaining: 4m 2s\n",
      "3:\tlearn: 0.8727914\ttotal: 944ms\tremaining: 3m 55s\n",
      "4:\tlearn: 0.8610411\ttotal: 1.16s\tremaining: 3m 50s\n",
      "5:\tlearn: 0.8510432\ttotal: 1.35s\tremaining: 3m 43s\n",
      "6:\tlearn: 0.8427003\ttotal: 1.55s\tremaining: 3m 40s\n",
      "7:\tlearn: 0.8351025\ttotal: 1.72s\tremaining: 3m 32s\n",
      "8:\tlearn: 0.8288050\ttotal: 1.92s\tremaining: 3m 31s\n",
      "9:\tlearn: 0.8231547\ttotal: 2.11s\tremaining: 3m 28s\n",
      "10:\tlearn: 0.8181583\ttotal: 2.32s\tremaining: 3m 28s\n",
      "11:\tlearn: 0.8138458\ttotal: 2.53s\tremaining: 3m 28s\n",
      "12:\tlearn: 0.8095027\ttotal: 2.73s\tremaining: 3m 27s\n",
      "13:\tlearn: 0.8061946\ttotal: 2.92s\tremaining: 3m 26s\n",
      "14:\tlearn: 0.8029121\ttotal: 3.09s\tremaining: 3m 22s\n",
      "15:\tlearn: 0.7998192\ttotal: 3.27s\tremaining: 3m 20s\n",
      "16:\tlearn: 0.7974880\ttotal: 3.45s\tremaining: 3m 19s\n",
      "17:\tlearn: 0.7951553\ttotal: 3.64s\tremaining: 3m 18s\n",
      "18:\tlearn: 0.7931411\ttotal: 3.83s\tremaining: 3m 17s\n",
      "19:\tlearn: 0.7915901\ttotal: 4.04s\tremaining: 3m 17s\n",
      "20:\tlearn: 0.7898288\ttotal: 4.2s\tremaining: 3m 15s\n",
      "21:\tlearn: 0.7885177\ttotal: 4.41s\tremaining: 3m 16s\n",
      "22:\tlearn: 0.7871071\ttotal: 4.62s\tremaining: 3m 16s\n",
      "23:\tlearn: 0.7857474\ttotal: 4.85s\tremaining: 3m 17s\n",
      "24:\tlearn: 0.7847980\ttotal: 5.01s\tremaining: 3m 15s\n",
      "25:\tlearn: 0.7835264\ttotal: 5.24s\tremaining: 3m 16s\n",
      "26:\tlearn: 0.7824120\ttotal: 5.41s\tremaining: 3m 14s\n",
      "27:\tlearn: 0.7815117\ttotal: 5.59s\tremaining: 3m 14s\n",
      "28:\tlearn: 0.7804983\ttotal: 5.77s\tremaining: 3m 13s\n",
      "29:\tlearn: 0.7797745\ttotal: 5.95s\tremaining: 3m 12s\n",
      "30:\tlearn: 0.7789205\ttotal: 6.16s\tremaining: 3m 12s\n",
      "31:\tlearn: 0.7780568\ttotal: 6.37s\tremaining: 3m 12s\n",
      "32:\tlearn: 0.7771724\ttotal: 6.55s\tremaining: 3m 11s\n",
      "33:\tlearn: 0.7764410\ttotal: 6.76s\tremaining: 3m 12s\n",
      "34:\tlearn: 0.7756963\ttotal: 6.93s\tremaining: 3m 11s\n",
      "35:\tlearn: 0.7751811\ttotal: 7.13s\tremaining: 3m 10s\n",
      "36:\tlearn: 0.7745790\ttotal: 7.29s\tremaining: 3m 9s\n",
      "37:\tlearn: 0.7739172\ttotal: 7.47s\tremaining: 3m 9s\n",
      "38:\tlearn: 0.7733727\ttotal: 7.63s\tremaining: 3m 8s\n",
      "39:\tlearn: 0.7727702\ttotal: 7.79s\tremaining: 3m 6s\n",
      "40:\tlearn: 0.7723062\ttotal: 7.91s\tremaining: 3m 5s\n",
      "41:\tlearn: 0.7718645\ttotal: 8.07s\tremaining: 3m 4s\n",
      "42:\tlearn: 0.7711796\ttotal: 8.26s\tremaining: 3m 3s\n",
      "43:\tlearn: 0.7707167\ttotal: 8.46s\tremaining: 3m 3s\n",
      "44:\tlearn: 0.7702846\ttotal: 8.63s\tremaining: 3m 3s\n",
      "45:\tlearn: 0.7698584\ttotal: 8.82s\tremaining: 3m 2s\n",
      "46:\tlearn: 0.7694237\ttotal: 9.01s\tremaining: 3m 2s\n",
      "47:\tlearn: 0.7688953\ttotal: 9.16s\tremaining: 3m 1s\n",
      "48:\tlearn: 0.7683234\ttotal: 9.33s\tremaining: 3m 1s\n",
      "49:\tlearn: 0.7679248\ttotal: 9.51s\tremaining: 3m\n",
      "50:\tlearn: 0.7674920\ttotal: 9.69s\tremaining: 3m\n",
      "51:\tlearn: 0.7668790\ttotal: 9.87s\tremaining: 2m 59s\n",
      "52:\tlearn: 0.7663491\ttotal: 10.1s\tremaining: 2m 59s\n",
      "53:\tlearn: 0.7661057\ttotal: 10.2s\tremaining: 2m 58s\n",
      "54:\tlearn: 0.7655717\ttotal: 10.4s\tremaining: 2m 58s\n",
      "55:\tlearn: 0.7652563\ttotal: 10.6s\tremaining: 2m 57s\n",
      "56:\tlearn: 0.7650096\ttotal: 10.7s\tremaining: 2m 57s\n",
      "57:\tlearn: 0.7645692\ttotal: 10.9s\tremaining: 2m 57s\n",
      "58:\tlearn: 0.7643360\ttotal: 11.1s\tremaining: 2m 56s\n",
      "59:\tlearn: 0.7639227\ttotal: 11.3s\tremaining: 2m 56s\n",
      "60:\tlearn: 0.7635812\ttotal: 11.5s\tremaining: 2m 56s\n",
      "61:\tlearn: 0.7632211\ttotal: 11.7s\tremaining: 2m 56s\n",
      "62:\tlearn: 0.7628393\ttotal: 11.9s\tremaining: 2m 56s\n",
      "63:\tlearn: 0.7626090\ttotal: 12s\tremaining: 2m 56s\n",
      "64:\tlearn: 0.7623145\ttotal: 12.2s\tremaining: 2m 55s\n",
      "65:\tlearn: 0.7619890\ttotal: 12.4s\tremaining: 2m 55s\n",
      "66:\tlearn: 0.7615181\ttotal: 12.6s\tremaining: 2m 55s\n",
      "67:\tlearn: 0.7610819\ttotal: 12.8s\tremaining: 2m 55s\n",
      "68:\tlearn: 0.7609073\ttotal: 13s\tremaining: 2m 54s\n",
      "69:\tlearn: 0.7606560\ttotal: 13.1s\tremaining: 2m 54s\n",
      "70:\tlearn: 0.7603706\ttotal: 13.3s\tremaining: 2m 54s\n",
      "71:\tlearn: 0.7601752\ttotal: 13.5s\tremaining: 2m 54s\n",
      "72:\tlearn: 0.7600019\ttotal: 13.7s\tremaining: 2m 53s\n",
      "73:\tlearn: 0.7595508\ttotal: 13.9s\tremaining: 2m 53s\n",
      "74:\tlearn: 0.7593151\ttotal: 14.1s\tremaining: 2m 53s\n",
      "75:\tlearn: 0.7591276\ttotal: 14.2s\tremaining: 2m 53s\n",
      "76:\tlearn: 0.7589881\ttotal: 14.4s\tremaining: 2m 52s\n",
      "77:\tlearn: 0.7587975\ttotal: 14.6s\tremaining: 2m 52s\n",
      "78:\tlearn: 0.7585890\ttotal: 14.8s\tremaining: 2m 52s\n",
      "79:\tlearn: 0.7581168\ttotal: 15s\tremaining: 2m 51s\n",
      "80:\tlearn: 0.7578888\ttotal: 15.1s\tremaining: 2m 51s\n",
      "81:\tlearn: 0.7576086\ttotal: 15.3s\tremaining: 2m 50s\n",
      "82:\tlearn: 0.7572252\ttotal: 15.5s\tremaining: 2m 50s\n",
      "83:\tlearn: 0.7570279\ttotal: 15.6s\tremaining: 2m 50s\n",
      "84:\tlearn: 0.7568625\ttotal: 15.8s\tremaining: 2m 49s\n",
      "85:\tlearn: 0.7566998\ttotal: 15.9s\tremaining: 2m 49s\n",
      "86:\tlearn: 0.7563093\ttotal: 16.1s\tremaining: 2m 49s\n",
      "87:\tlearn: 0.7561393\ttotal: 16.3s\tremaining: 2m 48s\n",
      "88:\tlearn: 0.7559673\ttotal: 16.5s\tremaining: 2m 48s\n",
      "89:\tlearn: 0.7556691\ttotal: 16.6s\tremaining: 2m 48s\n",
      "90:\tlearn: 0.7555024\ttotal: 16.8s\tremaining: 2m 47s\n",
      "91:\tlearn: 0.7552584\ttotal: 17s\tremaining: 2m 47s\n",
      "92:\tlearn: 0.7550880\ttotal: 17.1s\tremaining: 2m 47s\n",
      "93:\tlearn: 0.7548266\ttotal: 17.3s\tremaining: 2m 46s\n",
      "94:\tlearn: 0.7546858\ttotal: 17.5s\tremaining: 2m 46s\n",
      "95:\tlearn: 0.7543405\ttotal: 17.7s\tremaining: 2m 46s\n",
      "96:\tlearn: 0.7541673\ttotal: 17.8s\tremaining: 2m 45s\n",
      "97:\tlearn: 0.7538361\ttotal: 18s\tremaining: 2m 45s\n",
      "98:\tlearn: 0.7535767\ttotal: 18.2s\tremaining: 2m 45s\n",
      "99:\tlearn: 0.7533557\ttotal: 18.4s\tremaining: 2m 45s\n",
      "100:\tlearn: 0.7531507\ttotal: 18.6s\tremaining: 2m 45s\n",
      "101:\tlearn: 0.7529484\ttotal: 18.8s\tremaining: 2m 45s\n",
      "102:\tlearn: 0.7527667\ttotal: 18.9s\tremaining: 2m 45s\n",
      "103:\tlearn: 0.7525951\ttotal: 19.1s\tremaining: 2m 44s\n",
      "104:\tlearn: 0.7523832\ttotal: 19.3s\tremaining: 2m 44s\n",
      "105:\tlearn: 0.7522702\ttotal: 19.5s\tremaining: 2m 44s\n",
      "106:\tlearn: 0.7520435\ttotal: 19.7s\tremaining: 2m 44s\n",
      "107:\tlearn: 0.7518451\ttotal: 19.9s\tremaining: 2m 44s\n",
      "108:\tlearn: 0.7517316\ttotal: 20s\tremaining: 2m 43s\n",
      "109:\tlearn: 0.7515954\ttotal: 20.1s\tremaining: 2m 42s\n",
      "110:\tlearn: 0.7514776\ttotal: 20.3s\tremaining: 2m 42s\n",
      "111:\tlearn: 0.7512735\ttotal: 20.4s\tremaining: 2m 41s\n",
      "112:\tlearn: 0.7509145\ttotal: 20.6s\tremaining: 2m 41s\n",
      "113:\tlearn: 0.7507666\ttotal: 20.8s\tremaining: 2m 41s\n",
      "114:\tlearn: 0.7506088\ttotal: 20.9s\tremaining: 2m 40s\n",
      "115:\tlearn: 0.7504488\ttotal: 21.1s\tremaining: 2m 40s\n",
      "116:\tlearn: 0.7502100\ttotal: 21.2s\tremaining: 2m 40s\n",
      "117:\tlearn: 0.7499929\ttotal: 21.5s\tremaining: 2m 40s\n",
      "118:\tlearn: 0.7497723\ttotal: 21.7s\tremaining: 2m 40s\n",
      "119:\tlearn: 0.7496301\ttotal: 21.9s\tremaining: 2m 40s\n",
      "120:\tlearn: 0.7495046\ttotal: 22s\tremaining: 2m 40s\n",
      "121:\tlearn: 0.7492570\ttotal: 22.2s\tremaining: 2m 39s\n",
      "122:\tlearn: 0.7492104\ttotal: 22.4s\tremaining: 2m 39s\n",
      "123:\tlearn: 0.7490485\ttotal: 22.5s\tremaining: 2m 39s\n",
      "124:\tlearn: 0.7488933\ttotal: 22.7s\tremaining: 2m 39s\n",
      "125:\tlearn: 0.7485438\ttotal: 22.9s\tremaining: 2m 38s\n",
      "126:\tlearn: 0.7483364\ttotal: 23s\tremaining: 2m 38s\n",
      "127:\tlearn: 0.7482504\ttotal: 23.2s\tremaining: 2m 37s\n",
      "128:\tlearn: 0.7481660\ttotal: 23.3s\tremaining: 2m 37s\n",
      "129:\tlearn: 0.7479315\ttotal: 23.4s\tremaining: 2m 36s\n",
      "130:\tlearn: 0.7476831\ttotal: 23.6s\tremaining: 2m 36s\n",
      "131:\tlearn: 0.7474911\ttotal: 23.9s\tremaining: 2m 36s\n",
      "132:\tlearn: 0.7473017\ttotal: 24s\tremaining: 2m 36s\n",
      "133:\tlearn: 0.7469994\ttotal: 24.2s\tremaining: 2m 36s\n",
      "134:\tlearn: 0.7467944\ttotal: 24.4s\tremaining: 2m 36s\n",
      "135:\tlearn: 0.7466328\ttotal: 24.6s\tremaining: 2m 36s\n",
      "136:\tlearn: 0.7464495\ttotal: 24.7s\tremaining: 2m 35s\n",
      "137:\tlearn: 0.7462653\ttotal: 24.9s\tremaining: 2m 35s\n",
      "138:\tlearn: 0.7461940\ttotal: 25s\tremaining: 2m 35s\n",
      "139:\tlearn: 0.7461388\ttotal: 25.2s\tremaining: 2m 34s\n",
      "140:\tlearn: 0.7459967\ttotal: 25.3s\tremaining: 2m 34s\n",
      "141:\tlearn: 0.7457671\ttotal: 25.5s\tremaining: 2m 33s\n",
      "142:\tlearn: 0.7455654\ttotal: 25.7s\tremaining: 2m 33s\n",
      "143:\tlearn: 0.7454657\ttotal: 25.8s\tremaining: 2m 33s\n",
      "144:\tlearn: 0.7452151\ttotal: 26s\tremaining: 2m 33s\n",
      "145:\tlearn: 0.7450358\ttotal: 26.2s\tremaining: 2m 33s\n",
      "146:\tlearn: 0.7448209\ttotal: 26.4s\tremaining: 2m 32s\n",
      "147:\tlearn: 0.7446477\ttotal: 26.5s\tremaining: 2m 32s\n",
      "148:\tlearn: 0.7445034\ttotal: 26.7s\tremaining: 2m 32s\n",
      "149:\tlearn: 0.7442533\ttotal: 26.9s\tremaining: 2m 32s\n",
      "150:\tlearn: 0.7440634\ttotal: 27.1s\tremaining: 2m 32s\n",
      "151:\tlearn: 0.7438385\ttotal: 27.3s\tremaining: 2m 32s\n",
      "152:\tlearn: 0.7436791\ttotal: 27.5s\tremaining: 2m 32s\n",
      "153:\tlearn: 0.7433599\ttotal: 27.7s\tremaining: 2m 31s\n",
      "154:\tlearn: 0.7431626\ttotal: 27.8s\tremaining: 2m 31s\n",
      "155:\tlearn: 0.7429414\ttotal: 28s\tremaining: 2m 31s\n",
      "156:\tlearn: 0.7427385\ttotal: 28.1s\tremaining: 2m 31s\n",
      "157:\tlearn: 0.7424813\ttotal: 28.3s\tremaining: 2m 30s\n",
      "158:\tlearn: 0.7422547\ttotal: 28.5s\tremaining: 2m 30s\n",
      "159:\tlearn: 0.7421134\ttotal: 28.7s\tremaining: 2m 30s\n",
      "160:\tlearn: 0.7419918\ttotal: 28.9s\tremaining: 2m 30s\n",
      "161:\tlearn: 0.7419110\ttotal: 29s\tremaining: 2m 30s\n",
      "162:\tlearn: 0.7417798\ttotal: 29.1s\tremaining: 2m 29s\n",
      "163:\tlearn: 0.7416877\ttotal: 29.3s\tremaining: 2m 29s\n",
      "164:\tlearn: 0.7415822\ttotal: 29.4s\tremaining: 2m 29s\n",
      "165:\tlearn: 0.7414382\ttotal: 29.6s\tremaining: 2m 28s\n",
      "166:\tlearn: 0.7413018\ttotal: 29.8s\tremaining: 2m 28s\n",
      "167:\tlearn: 0.7411306\ttotal: 29.9s\tremaining: 2m 28s\n",
      "168:\tlearn: 0.7410387\ttotal: 30.1s\tremaining: 2m 28s\n",
      "169:\tlearn: 0.7409280\ttotal: 30.3s\tremaining: 2m 27s\n",
      "170:\tlearn: 0.7407566\ttotal: 30.4s\tremaining: 2m 27s\n",
      "171:\tlearn: 0.7405957\ttotal: 30.6s\tremaining: 2m 27s\n",
      "172:\tlearn: 0.7403727\ttotal: 30.8s\tremaining: 2m 27s\n",
      "173:\tlearn: 0.7402825\ttotal: 30.9s\tremaining: 2m 26s\n",
      "174:\tlearn: 0.7401570\ttotal: 31.1s\tremaining: 2m 26s\n",
      "175:\tlearn: 0.7400280\ttotal: 31.2s\tremaining: 2m 26s\n",
      "176:\tlearn: 0.7398286\ttotal: 31.4s\tremaining: 2m 25s\n",
      "177:\tlearn: 0.7396548\ttotal: 31.5s\tremaining: 2m 25s\n",
      "178:\tlearn: 0.7395565\ttotal: 31.7s\tremaining: 2m 25s\n",
      "179:\tlearn: 0.7394980\ttotal: 31.8s\tremaining: 2m 24s\n",
      "180:\tlearn: 0.7393925\ttotal: 32s\tremaining: 2m 24s\n",
      "181:\tlearn: 0.7392693\ttotal: 32.1s\tremaining: 2m 24s\n",
      "182:\tlearn: 0.7390984\ttotal: 32.3s\tremaining: 2m 24s\n",
      "183:\tlearn: 0.7388803\ttotal: 32.5s\tremaining: 2m 23s\n",
      "184:\tlearn: 0.7387266\ttotal: 32.7s\tremaining: 2m 23s\n",
      "185:\tlearn: 0.7384563\ttotal: 32.8s\tremaining: 2m 23s\n",
      "186:\tlearn: 0.7382568\ttotal: 33s\tremaining: 2m 23s\n",
      "187:\tlearn: 0.7380638\ttotal: 33.2s\tremaining: 2m 23s\n",
      "188:\tlearn: 0.7379376\ttotal: 33.3s\tremaining: 2m 22s\n",
      "189:\tlearn: 0.7377998\ttotal: 33.5s\tremaining: 2m 22s\n",
      "190:\tlearn: 0.7376744\ttotal: 33.7s\tremaining: 2m 22s\n",
      "191:\tlearn: 0.7375289\ttotal: 33.8s\tremaining: 2m 22s\n",
      "192:\tlearn: 0.7373635\ttotal: 34s\tremaining: 2m 22s\n",
      "193:\tlearn: 0.7371571\ttotal: 34.2s\tremaining: 2m 22s\n",
      "194:\tlearn: 0.7370370\ttotal: 34.4s\tremaining: 2m 21s\n",
      "195:\tlearn: 0.7368900\ttotal: 34.6s\tremaining: 2m 21s\n",
      "196:\tlearn: 0.7367567\ttotal: 34.7s\tremaining: 2m 21s\n",
      "197:\tlearn: 0.7365892\ttotal: 34.9s\tremaining: 2m 21s\n",
      "198:\tlearn: 0.7364548\ttotal: 35s\tremaining: 2m 21s\n",
      "199:\tlearn: 0.7362570\ttotal: 35.2s\tremaining: 2m 20s\n",
      "200:\tlearn: 0.7361985\ttotal: 35.3s\tremaining: 2m 20s\n",
      "201:\tlearn: 0.7360859\ttotal: 35.5s\tremaining: 2m 20s\n",
      "202:\tlearn: 0.7358721\ttotal: 35.7s\tremaining: 2m 19s\n",
      "203:\tlearn: 0.7357307\ttotal: 35.8s\tremaining: 2m 19s\n",
      "204:\tlearn: 0.7355922\ttotal: 36s\tremaining: 2m 19s\n",
      "205:\tlearn: 0.7355085\ttotal: 36.1s\tremaining: 2m 19s\n",
      "206:\tlearn: 0.7353574\ttotal: 36.3s\tremaining: 2m 19s\n",
      "207:\tlearn: 0.7351872\ttotal: 36.5s\tremaining: 2m 18s\n",
      "208:\tlearn: 0.7351194\ttotal: 36.6s\tremaining: 2m 18s\n",
      "209:\tlearn: 0.7350270\ttotal: 36.7s\tremaining: 2m 18s\n",
      "210:\tlearn: 0.7348538\ttotal: 36.9s\tremaining: 2m 17s\n",
      "211:\tlearn: 0.7347117\ttotal: 37.1s\tremaining: 2m 17s\n",
      "212:\tlearn: 0.7346315\ttotal: 37.2s\tremaining: 2m 17s\n",
      "213:\tlearn: 0.7345949\ttotal: 37.4s\tremaining: 2m 17s\n",
      "214:\tlearn: 0.7344784\ttotal: 37.5s\tremaining: 2m 16s\n",
      "215:\tlearn: 0.7343931\ttotal: 37.6s\tremaining: 2m 16s\n",
      "216:\tlearn: 0.7343059\ttotal: 37.8s\tremaining: 2m 16s\n",
      "217:\tlearn: 0.7341827\ttotal: 38s\tremaining: 2m 16s\n",
      "218:\tlearn: 0.7340439\ttotal: 38.1s\tremaining: 2m 15s\n",
      "219:\tlearn: 0.7338779\ttotal: 38.3s\tremaining: 2m 15s\n",
      "220:\tlearn: 0.7337194\ttotal: 38.5s\tremaining: 2m 15s\n",
      "221:\tlearn: 0.7335696\ttotal: 38.7s\tremaining: 2m 15s\n",
      "222:\tlearn: 0.7335020\ttotal: 38.8s\tremaining: 2m 15s\n",
      "223:\tlearn: 0.7334490\ttotal: 38.9s\tremaining: 2m 14s\n",
      "224:\tlearn: 0.7333744\ttotal: 39.1s\tremaining: 2m 14s\n",
      "225:\tlearn: 0.7331686\ttotal: 39.2s\tremaining: 2m 14s\n",
      "226:\tlearn: 0.7330831\ttotal: 39.4s\tremaining: 2m 14s\n",
      "227:\tlearn: 0.7328504\ttotal: 39.6s\tremaining: 2m 14s\n",
      "228:\tlearn: 0.7327644\ttotal: 39.8s\tremaining: 2m 13s\n",
      "229:\tlearn: 0.7326660\ttotal: 39.9s\tremaining: 2m 13s\n",
      "230:\tlearn: 0.7325463\ttotal: 40.1s\tremaining: 2m 13s\n",
      "231:\tlearn: 0.7324209\ttotal: 40.2s\tremaining: 2m 13s\n",
      "232:\tlearn: 0.7323172\ttotal: 40.4s\tremaining: 2m 12s\n",
      "233:\tlearn: 0.7322144\ttotal: 40.5s\tremaining: 2m 12s\n",
      "234:\tlearn: 0.7321143\ttotal: 40.7s\tremaining: 2m 12s\n",
      "235:\tlearn: 0.7320198\ttotal: 40.8s\tremaining: 2m 12s\n",
      "236:\tlearn: 0.7319418\ttotal: 41s\tremaining: 2m 11s\n",
      "237:\tlearn: 0.7318008\ttotal: 41.1s\tremaining: 2m 11s\n",
      "238:\tlearn: 0.7316940\ttotal: 41.3s\tremaining: 2m 11s\n",
      "239:\tlearn: 0.7315771\ttotal: 41.5s\tremaining: 2m 11s\n",
      "240:\tlearn: 0.7314444\ttotal: 41.6s\tremaining: 2m 11s\n",
      "241:\tlearn: 0.7313747\ttotal: 41.8s\tremaining: 2m 10s\n",
      "242:\tlearn: 0.7313029\ttotal: 42s\tremaining: 2m 10s\n",
      "243:\tlearn: 0.7311830\ttotal: 42.1s\tremaining: 2m 10s\n",
      "244:\tlearn: 0.7310415\ttotal: 42.3s\tremaining: 2m 10s\n",
      "245:\tlearn: 0.7308562\ttotal: 42.5s\tremaining: 2m 10s\n",
      "246:\tlearn: 0.7306696\ttotal: 42.7s\tremaining: 2m 10s\n",
      "247:\tlearn: 0.7305306\ttotal: 42.9s\tremaining: 2m 9s\n",
      "248:\tlearn: 0.7303949\ttotal: 43s\tremaining: 2m 9s\n",
      "249:\tlearn: 0.7302495\ttotal: 43.2s\tremaining: 2m 9s\n",
      "250:\tlearn: 0.7301114\ttotal: 43.3s\tremaining: 2m 9s\n",
      "251:\tlearn: 0.7299853\ttotal: 43.5s\tremaining: 2m 9s\n",
      "252:\tlearn: 0.7298834\ttotal: 43.7s\tremaining: 2m 9s\n",
      "253:\tlearn: 0.7297288\ttotal: 43.9s\tremaining: 2m 8s\n",
      "254:\tlearn: 0.7296621\ttotal: 44s\tremaining: 2m 8s\n",
      "255:\tlearn: 0.7295487\ttotal: 44.2s\tremaining: 2m 8s\n",
      "256:\tlearn: 0.7294689\ttotal: 44.3s\tremaining: 2m 8s\n",
      "257:\tlearn: 0.7293738\ttotal: 44.5s\tremaining: 2m 7s\n",
      "258:\tlearn: 0.7292124\ttotal: 44.6s\tremaining: 2m 7s\n",
      "259:\tlearn: 0.7291121\ttotal: 44.8s\tremaining: 2m 7s\n",
      "260:\tlearn: 0.7289215\ttotal: 45s\tremaining: 2m 7s\n",
      "261:\tlearn: 0.7288578\ttotal: 45.1s\tremaining: 2m 7s\n",
      "262:\tlearn: 0.7287049\ttotal: 45.3s\tremaining: 2m 7s\n",
      "263:\tlearn: 0.7285905\ttotal: 45.5s\tremaining: 2m 6s\n",
      "264:\tlearn: 0.7284662\ttotal: 45.7s\tremaining: 2m 6s\n",
      "265:\tlearn: 0.7283623\ttotal: 45.9s\tremaining: 2m 6s\n",
      "266:\tlearn: 0.7282718\ttotal: 46s\tremaining: 2m 6s\n",
      "267:\tlearn: 0.7281813\ttotal: 46.2s\tremaining: 2m 6s\n",
      "268:\tlearn: 0.7281518\ttotal: 46.3s\tremaining: 2m 5s\n",
      "269:\tlearn: 0.7280761\ttotal: 46.6s\tremaining: 2m 5s\n",
      "270:\tlearn: 0.7279055\ttotal: 46.9s\tremaining: 2m 6s\n",
      "271:\tlearn: 0.7277655\ttotal: 47s\tremaining: 2m 5s\n",
      "272:\tlearn: 0.7276010\ttotal: 47.2s\tremaining: 2m 5s\n",
      "273:\tlearn: 0.7274753\ttotal: 47.4s\tremaining: 2m 5s\n",
      "274:\tlearn: 0.7273329\ttotal: 47.7s\tremaining: 2m 5s\n",
      "275:\tlearn: 0.7272354\ttotal: 47.9s\tremaining: 2m 5s\n",
      "276:\tlearn: 0.7271063\ttotal: 48.1s\tremaining: 2m 5s\n",
      "277:\tlearn: 0.7268991\ttotal: 48.3s\tremaining: 2m 5s\n",
      "278:\tlearn: 0.7268012\ttotal: 48.4s\tremaining: 2m 5s\n",
      "279:\tlearn: 0.7266426\ttotal: 48.6s\tremaining: 2m 4s\n",
      "280:\tlearn: 0.7264732\ttotal: 48.7s\tremaining: 2m 4s\n",
      "281:\tlearn: 0.7263499\ttotal: 48.9s\tremaining: 2m 4s\n",
      "282:\tlearn: 0.7262080\ttotal: 49s\tremaining: 2m 4s\n",
      "283:\tlearn: 0.7260732\ttotal: 49.2s\tremaining: 2m 4s\n",
      "284:\tlearn: 0.7259473\ttotal: 49.4s\tremaining: 2m 3s\n",
      "285:\tlearn: 0.7258970\ttotal: 49.5s\tremaining: 2m 3s\n",
      "286:\tlearn: 0.7257165\ttotal: 49.7s\tremaining: 2m 3s\n",
      "287:\tlearn: 0.7255752\ttotal: 50s\tremaining: 2m 3s\n",
      "288:\tlearn: 0.7254801\ttotal: 50.1s\tremaining: 2m 3s\n",
      "289:\tlearn: 0.7253771\ttotal: 50.3s\tremaining: 2m 3s\n",
      "290:\tlearn: 0.7253125\ttotal: 50.5s\tremaining: 2m 2s\n",
      "291:\tlearn: 0.7251559\ttotal: 50.6s\tremaining: 2m 2s\n",
      "292:\tlearn: 0.7250607\ttotal: 50.7s\tremaining: 2m 2s\n",
      "293:\tlearn: 0.7249864\ttotal: 50.9s\tremaining: 2m 2s\n",
      "294:\tlearn: 0.7248374\ttotal: 51.1s\tremaining: 2m 2s\n",
      "295:\tlearn: 0.7246586\ttotal: 51.3s\tremaining: 2m 1s\n",
      "296:\tlearn: 0.7245940\ttotal: 51.4s\tremaining: 2m 1s\n",
      "297:\tlearn: 0.7244661\ttotal: 51.6s\tremaining: 2m 1s\n",
      "298:\tlearn: 0.7243269\ttotal: 51.7s\tremaining: 2m 1s\n",
      "299:\tlearn: 0.7242951\ttotal: 51.9s\tremaining: 2m 1s\n",
      "300:\tlearn: 0.7242172\ttotal: 52s\tremaining: 2m\n",
      "301:\tlearn: 0.7241273\ttotal: 52.2s\tremaining: 2m\n",
      "302:\tlearn: 0.7240682\ttotal: 52.3s\tremaining: 2m\n",
      "303:\tlearn: 0.7239581\ttotal: 52.5s\tremaining: 2m\n",
      "304:\tlearn: 0.7239199\ttotal: 52.6s\tremaining: 1m 59s\n",
      "305:\tlearn: 0.7238272\ttotal: 52.8s\tremaining: 1m 59s\n",
      "306:\tlearn: 0.7237362\ttotal: 53s\tremaining: 1m 59s\n",
      "307:\tlearn: 0.7237174\ttotal: 53.1s\tremaining: 1m 59s\n",
      "308:\tlearn: 0.7235774\ttotal: 53.3s\tremaining: 1m 59s\n",
      "309:\tlearn: 0.7234930\ttotal: 53.4s\tremaining: 1m 58s\n",
      "310:\tlearn: 0.7234028\ttotal: 53.6s\tremaining: 1m 58s\n",
      "311:\tlearn: 0.7233112\ttotal: 53.7s\tremaining: 1m 58s\n",
      "312:\tlearn: 0.7231763\ttotal: 53.9s\tremaining: 1m 58s\n",
      "313:\tlearn: 0.7230884\ttotal: 54.1s\tremaining: 1m 58s\n",
      "314:\tlearn: 0.7229373\ttotal: 54.2s\tremaining: 1m 57s\n",
      "315:\tlearn: 0.7228175\ttotal: 54.4s\tremaining: 1m 57s\n",
      "316:\tlearn: 0.7227372\ttotal: 54.5s\tremaining: 1m 57s\n",
      "317:\tlearn: 0.7226575\ttotal: 54.7s\tremaining: 1m 57s\n",
      "318:\tlearn: 0.7225916\ttotal: 54.8s\tremaining: 1m 57s\n",
      "319:\tlearn: 0.7225045\ttotal: 55s\tremaining: 1m 56s\n",
      "320:\tlearn: 0.7224013\ttotal: 55.2s\tremaining: 1m 56s\n",
      "321:\tlearn: 0.7222656\ttotal: 55.4s\tremaining: 1m 56s\n",
      "322:\tlearn: 0.7221633\ttotal: 55.5s\tremaining: 1m 56s\n",
      "323:\tlearn: 0.7220755\ttotal: 55.7s\tremaining: 1m 56s\n",
      "324:\tlearn: 0.7219079\ttotal: 55.8s\tremaining: 1m 55s\n",
      "325:\tlearn: 0.7217488\ttotal: 56s\tremaining: 1m 55s\n",
      "326:\tlearn: 0.7216584\ttotal: 56.2s\tremaining: 1m 55s\n",
      "327:\tlearn: 0.7215797\ttotal: 56.3s\tremaining: 1m 55s\n",
      "328:\tlearn: 0.7214894\ttotal: 56.4s\tremaining: 1m 55s\n",
      "329:\tlearn: 0.7214283\ttotal: 56.6s\tremaining: 1m 54s\n",
      "330:\tlearn: 0.7213688\ttotal: 56.8s\tremaining: 1m 54s\n",
      "331:\tlearn: 0.7212889\ttotal: 56.9s\tremaining: 1m 54s\n",
      "332:\tlearn: 0.7212424\ttotal: 57s\tremaining: 1m 54s\n",
      "333:\tlearn: 0.7211782\ttotal: 57.2s\tremaining: 1m 54s\n",
      "334:\tlearn: 0.7210486\ttotal: 57.4s\tremaining: 1m 53s\n",
      "335:\tlearn: 0.7209906\ttotal: 57.5s\tremaining: 1m 53s\n",
      "336:\tlearn: 0.7208786\ttotal: 57.7s\tremaining: 1m 53s\n",
      "337:\tlearn: 0.7208343\ttotal: 57.8s\tremaining: 1m 53s\n",
      "338:\tlearn: 0.7206794\ttotal: 58s\tremaining: 1m 53s\n",
      "339:\tlearn: 0.7205947\ttotal: 58.2s\tremaining: 1m 52s\n",
      "340:\tlearn: 0.7205241\ttotal: 58.4s\tremaining: 1m 52s\n",
      "341:\tlearn: 0.7203919\ttotal: 58.5s\tremaining: 1m 52s\n",
      "342:\tlearn: 0.7202900\ttotal: 58.7s\tremaining: 1m 52s\n",
      "343:\tlearn: 0.7201583\ttotal: 58.9s\tremaining: 1m 52s\n",
      "344:\tlearn: 0.7200517\ttotal: 59.1s\tremaining: 1m 52s\n",
      "345:\tlearn: 0.7199303\ttotal: 59.2s\tremaining: 1m 51s\n",
      "346:\tlearn: 0.7198605\ttotal: 59.4s\tremaining: 1m 51s\n",
      "347:\tlearn: 0.7197205\ttotal: 59.6s\tremaining: 1m 51s\n",
      "348:\tlearn: 0.7195879\ttotal: 59.7s\tremaining: 1m 51s\n",
      "349:\tlearn: 0.7195204\ttotal: 59.9s\tremaining: 1m 51s\n",
      "350:\tlearn: 0.7194140\ttotal: 1m\tremaining: 1m 51s\n",
      "351:\tlearn: 0.7193366\ttotal: 1m\tremaining: 1m 50s\n",
      "352:\tlearn: 0.7192513\ttotal: 1m\tremaining: 1m 50s\n",
      "353:\tlearn: 0.7191889\ttotal: 1m\tremaining: 1m 50s\n",
      "354:\tlearn: 0.7190537\ttotal: 1m\tremaining: 1m 50s\n",
      "355:\tlearn: 0.7189848\ttotal: 1m\tremaining: 1m 49s\n",
      "356:\tlearn: 0.7188723\ttotal: 1m\tremaining: 1m 49s\n",
      "357:\tlearn: 0.7188057\ttotal: 1m 1s\tremaining: 1m 49s\n",
      "358:\tlearn: 0.7187082\ttotal: 1m 1s\tremaining: 1m 49s\n",
      "359:\tlearn: 0.7185853\ttotal: 1m 1s\tremaining: 1m 49s\n",
      "360:\tlearn: 0.7184664\ttotal: 1m 1s\tremaining: 1m 48s\n",
      "361:\tlearn: 0.7183660\ttotal: 1m 1s\tremaining: 1m 48s\n",
      "362:\tlearn: 0.7182603\ttotal: 1m 1s\tremaining: 1m 48s\n",
      "363:\tlearn: 0.7181357\ttotal: 1m 2s\tremaining: 1m 48s\n",
      "364:\tlearn: 0.7180207\ttotal: 1m 2s\tremaining: 1m 48s\n",
      "365:\tlearn: 0.7179317\ttotal: 1m 2s\tremaining: 1m 47s\n",
      "366:\tlearn: 0.7178650\ttotal: 1m 2s\tremaining: 1m 47s\n",
      "367:\tlearn: 0.7178056\ttotal: 1m 2s\tremaining: 1m 47s\n",
      "368:\tlearn: 0.7176388\ttotal: 1m 2s\tremaining: 1m 47s\n",
      "369:\tlearn: 0.7174882\ttotal: 1m 3s\tremaining: 1m 47s\n",
      "370:\tlearn: 0.7174297\ttotal: 1m 3s\tremaining: 1m 47s\n",
      "371:\tlearn: 0.7173235\ttotal: 1m 3s\tremaining: 1m 47s\n",
      "372:\tlearn: 0.7172058\ttotal: 1m 3s\tremaining: 1m 46s\n",
      "373:\tlearn: 0.7170717\ttotal: 1m 3s\tremaining: 1m 46s\n",
      "374:\tlearn: 0.7168859\ttotal: 1m 3s\tremaining: 1m 46s\n",
      "375:\tlearn: 0.7168366\ttotal: 1m 4s\tremaining: 1m 46s\n",
      "376:\tlearn: 0.7167276\ttotal: 1m 4s\tremaining: 1m 46s\n",
      "377:\tlearn: 0.7166081\ttotal: 1m 4s\tremaining: 1m 45s\n",
      "378:\tlearn: 0.7165206\ttotal: 1m 4s\tremaining: 1m 45s\n",
      "379:\tlearn: 0.7164352\ttotal: 1m 4s\tremaining: 1m 45s\n",
      "380:\tlearn: 0.7164082\ttotal: 1m 4s\tremaining: 1m 45s\n",
      "381:\tlearn: 0.7163094\ttotal: 1m 4s\tremaining: 1m 45s\n",
      "382:\tlearn: 0.7162488\ttotal: 1m 5s\tremaining: 1m 44s\n",
      "383:\tlearn: 0.7161720\ttotal: 1m 5s\tremaining: 1m 44s\n",
      "384:\tlearn: 0.7161424\ttotal: 1m 5s\tremaining: 1m 44s\n",
      "385:\tlearn: 0.7161018\ttotal: 1m 5s\tremaining: 1m 44s\n",
      "386:\tlearn: 0.7160073\ttotal: 1m 5s\tremaining: 1m 43s\n",
      "387:\tlearn: 0.7158934\ttotal: 1m 5s\tremaining: 1m 43s\n",
      "388:\tlearn: 0.7158322\ttotal: 1m 5s\tremaining: 1m 43s\n",
      "389:\tlearn: 0.7157557\ttotal: 1m 6s\tremaining: 1m 43s\n",
      "390:\tlearn: 0.7156279\ttotal: 1m 6s\tremaining: 1m 43s\n",
      "391:\tlearn: 0.7154957\ttotal: 1m 6s\tremaining: 1m 43s\n",
      "392:\tlearn: 0.7154009\ttotal: 1m 6s\tremaining: 1m 42s\n",
      "393:\tlearn: 0.7153490\ttotal: 1m 6s\tremaining: 1m 42s\n",
      "394:\tlearn: 0.7152308\ttotal: 1m 6s\tremaining: 1m 42s\n",
      "395:\tlearn: 0.7151858\ttotal: 1m 7s\tremaining: 1m 42s\n",
      "396:\tlearn: 0.7151069\ttotal: 1m 7s\tremaining: 1m 42s\n",
      "397:\tlearn: 0.7150019\ttotal: 1m 7s\tremaining: 1m 41s\n",
      "398:\tlearn: 0.7149689\ttotal: 1m 7s\tremaining: 1m 41s\n",
      "399:\tlearn: 0.7148900\ttotal: 1m 7s\tremaining: 1m 41s\n",
      "400:\tlearn: 0.7148622\ttotal: 1m 7s\tremaining: 1m 41s\n",
      "401:\tlearn: 0.7147498\ttotal: 1m 7s\tremaining: 1m 41s\n",
      "402:\tlearn: 0.7146762\ttotal: 1m 8s\tremaining: 1m 40s\n",
      "403:\tlearn: 0.7145673\ttotal: 1m 8s\tremaining: 1m 40s\n",
      "404:\tlearn: 0.7144450\ttotal: 1m 8s\tremaining: 1m 40s\n",
      "405:\tlearn: 0.7143039\ttotal: 1m 8s\tremaining: 1m 40s\n",
      "406:\tlearn: 0.7142559\ttotal: 1m 8s\tremaining: 1m 40s\n",
      "407:\tlearn: 0.7141982\ttotal: 1m 8s\tremaining: 1m 39s\n",
      "408:\tlearn: 0.7141242\ttotal: 1m 9s\tremaining: 1m 39s\n",
      "409:\tlearn: 0.7140704\ttotal: 1m 9s\tremaining: 1m 39s\n",
      "410:\tlearn: 0.7139628\ttotal: 1m 9s\tremaining: 1m 39s\n",
      "411:\tlearn: 0.7139027\ttotal: 1m 9s\tremaining: 1m 39s\n",
      "412:\tlearn: 0.7138007\ttotal: 1m 9s\tremaining: 1m 38s\n",
      "413:\tlearn: 0.7136971\ttotal: 1m 9s\tremaining: 1m 38s\n",
      "414:\tlearn: 0.7135669\ttotal: 1m 9s\tremaining: 1m 38s\n",
      "415:\tlearn: 0.7135023\ttotal: 1m 10s\tremaining: 1m 38s\n",
      "416:\tlearn: 0.7133775\ttotal: 1m 10s\tremaining: 1m 38s\n",
      "417:\tlearn: 0.7132842\ttotal: 1m 10s\tremaining: 1m 38s\n",
      "418:\tlearn: 0.7131714\ttotal: 1m 10s\tremaining: 1m 37s\n",
      "419:\tlearn: 0.7130209\ttotal: 1m 10s\tremaining: 1m 37s\n",
      "420:\tlearn: 0.7129280\ttotal: 1m 10s\tremaining: 1m 37s\n",
      "421:\tlearn: 0.7128708\ttotal: 1m 11s\tremaining: 1m 37s\n",
      "422:\tlearn: 0.7128259\ttotal: 1m 11s\tremaining: 1m 37s\n",
      "423:\tlearn: 0.7126674\ttotal: 1m 11s\tremaining: 1m 37s\n",
      "424:\tlearn: 0.7125650\ttotal: 1m 11s\tremaining: 1m 36s\n",
      "425:\tlearn: 0.7124585\ttotal: 1m 11s\tremaining: 1m 36s\n",
      "426:\tlearn: 0.7124032\ttotal: 1m 11s\tremaining: 1m 36s\n",
      "427:\tlearn: 0.7122731\ttotal: 1m 12s\tremaining: 1m 36s\n",
      "428:\tlearn: 0.7121400\ttotal: 1m 12s\tremaining: 1m 36s\n",
      "429:\tlearn: 0.7120354\ttotal: 1m 12s\tremaining: 1m 36s\n",
      "430:\tlearn: 0.7118615\ttotal: 1m 12s\tremaining: 1m 35s\n",
      "431:\tlearn: 0.7118014\ttotal: 1m 12s\tremaining: 1m 35s\n",
      "432:\tlearn: 0.7117672\ttotal: 1m 12s\tremaining: 1m 35s\n",
      "433:\tlearn: 0.7116558\ttotal: 1m 13s\tremaining: 1m 35s\n",
      "434:\tlearn: 0.7115943\ttotal: 1m 13s\tremaining: 1m 35s\n",
      "435:\tlearn: 0.7115317\ttotal: 1m 13s\tremaining: 1m 34s\n",
      "436:\tlearn: 0.7114340\ttotal: 1m 13s\tremaining: 1m 34s\n",
      "437:\tlearn: 0.7112860\ttotal: 1m 13s\tremaining: 1m 34s\n",
      "438:\tlearn: 0.7112374\ttotal: 1m 13s\tremaining: 1m 34s\n",
      "439:\tlearn: 0.7111123\ttotal: 1m 14s\tremaining: 1m 34s\n",
      "440:\tlearn: 0.7110568\ttotal: 1m 14s\tremaining: 1m 34s\n",
      "441:\tlearn: 0.7109799\ttotal: 1m 14s\tremaining: 1m 33s\n",
      "442:\tlearn: 0.7109075\ttotal: 1m 14s\tremaining: 1m 33s\n",
      "443:\tlearn: 0.7108372\ttotal: 1m 14s\tremaining: 1m 33s\n",
      "444:\tlearn: 0.7107507\ttotal: 1m 14s\tremaining: 1m 33s\n",
      "445:\tlearn: 0.7106805\ttotal: 1m 15s\tremaining: 1m 33s\n",
      "446:\tlearn: 0.7106403\ttotal: 1m 15s\tremaining: 1m 33s\n",
      "447:\tlearn: 0.7105335\ttotal: 1m 15s\tremaining: 1m 32s\n",
      "448:\tlearn: 0.7104748\ttotal: 1m 15s\tremaining: 1m 32s\n",
      "449:\tlearn: 0.7103551\ttotal: 1m 15s\tremaining: 1m 32s\n",
      "450:\tlearn: 0.7102548\ttotal: 1m 15s\tremaining: 1m 32s\n",
      "451:\tlearn: 0.7101906\ttotal: 1m 15s\tremaining: 1m 32s\n",
      "452:\tlearn: 0.7100411\ttotal: 1m 16s\tremaining: 1m 31s\n",
      "453:\tlearn: 0.7099617\ttotal: 1m 16s\tremaining: 1m 31s\n",
      "454:\tlearn: 0.7099047\ttotal: 1m 16s\tremaining: 1m 31s\n",
      "455:\tlearn: 0.7098473\ttotal: 1m 16s\tremaining: 1m 31s\n",
      "456:\tlearn: 0.7097646\ttotal: 1m 16s\tremaining: 1m 31s\n",
      "457:\tlearn: 0.7095815\ttotal: 1m 16s\tremaining: 1m 31s\n",
      "458:\tlearn: 0.7094871\ttotal: 1m 17s\tremaining: 1m 30s\n",
      "459:\tlearn: 0.7094366\ttotal: 1m 17s\tremaining: 1m 30s\n",
      "460:\tlearn: 0.7093384\ttotal: 1m 17s\tremaining: 1m 30s\n",
      "461:\tlearn: 0.7093067\ttotal: 1m 17s\tremaining: 1m 30s\n",
      "462:\tlearn: 0.7092668\ttotal: 1m 17s\tremaining: 1m 30s\n",
      "463:\tlearn: 0.7091830\ttotal: 1m 17s\tremaining: 1m 29s\n",
      "464:\tlearn: 0.7090174\ttotal: 1m 17s\tremaining: 1m 29s\n",
      "465:\tlearn: 0.7089595\ttotal: 1m 18s\tremaining: 1m 29s\n",
      "466:\tlearn: 0.7088221\ttotal: 1m 18s\tremaining: 1m 29s\n",
      "467:\tlearn: 0.7087300\ttotal: 1m 18s\tremaining: 1m 29s\n",
      "468:\tlearn: 0.7085758\ttotal: 1m 18s\tremaining: 1m 28s\n",
      "469:\tlearn: 0.7084893\ttotal: 1m 18s\tremaining: 1m 28s\n",
      "470:\tlearn: 0.7084693\ttotal: 1m 18s\tremaining: 1m 28s\n",
      "471:\tlearn: 0.7083753\ttotal: 1m 19s\tremaining: 1m 28s\n",
      "472:\tlearn: 0.7082810\ttotal: 1m 19s\tremaining: 1m 28s\n",
      "473:\tlearn: 0.7081690\ttotal: 1m 19s\tremaining: 1m 28s\n",
      "474:\tlearn: 0.7080561\ttotal: 1m 19s\tremaining: 1m 27s\n",
      "475:\tlearn: 0.7079765\ttotal: 1m 19s\tremaining: 1m 27s\n",
      "476:\tlearn: 0.7078983\ttotal: 1m 19s\tremaining: 1m 27s\n",
      "477:\tlearn: 0.7078429\ttotal: 1m 19s\tremaining: 1m 27s\n",
      "478:\tlearn: 0.7077866\ttotal: 1m 20s\tremaining: 1m 27s\n",
      "479:\tlearn: 0.7077163\ttotal: 1m 20s\tremaining: 1m 26s\n",
      "480:\tlearn: 0.7075817\ttotal: 1m 20s\tremaining: 1m 26s\n",
      "481:\tlearn: 0.7075530\ttotal: 1m 20s\tremaining: 1m 26s\n",
      "482:\tlearn: 0.7074258\ttotal: 1m 20s\tremaining: 1m 26s\n",
      "483:\tlearn: 0.7072677\ttotal: 1m 20s\tremaining: 1m 26s\n",
      "484:\tlearn: 0.7071619\ttotal: 1m 21s\tremaining: 1m 26s\n",
      "485:\tlearn: 0.7071125\ttotal: 1m 21s\tremaining: 1m 25s\n",
      "486:\tlearn: 0.7070532\ttotal: 1m 21s\tremaining: 1m 25s\n",
      "487:\tlearn: 0.7069923\ttotal: 1m 21s\tremaining: 1m 25s\n",
      "488:\tlearn: 0.7069404\ttotal: 1m 21s\tremaining: 1m 25s\n",
      "489:\tlearn: 0.7068998\ttotal: 1m 21s\tremaining: 1m 25s\n",
      "490:\tlearn: 0.7067990\ttotal: 1m 21s\tremaining: 1m 24s\n",
      "491:\tlearn: 0.7067438\ttotal: 1m 22s\tremaining: 1m 24s\n",
      "492:\tlearn: 0.7066914\ttotal: 1m 22s\tremaining: 1m 24s\n",
      "493:\tlearn: 0.7065535\ttotal: 1m 22s\tremaining: 1m 24s\n",
      "494:\tlearn: 0.7065183\ttotal: 1m 22s\tremaining: 1m 24s\n",
      "495:\tlearn: 0.7064586\ttotal: 1m 22s\tremaining: 1m 24s\n",
      "496:\tlearn: 0.7063465\ttotal: 1m 22s\tremaining: 1m 23s\n",
      "497:\tlearn: 0.7063151\ttotal: 1m 23s\tremaining: 1m 23s\n",
      "498:\tlearn: 0.7062366\ttotal: 1m 23s\tremaining: 1m 23s\n",
      "499:\tlearn: 0.7061450\ttotal: 1m 23s\tremaining: 1m 23s\n",
      "500:\tlearn: 0.7060951\ttotal: 1m 23s\tremaining: 1m 23s\n",
      "501:\tlearn: 0.7060098\ttotal: 1m 23s\tremaining: 1m 23s\n",
      "502:\tlearn: 0.7058715\ttotal: 1m 23s\tremaining: 1m 22s\n",
      "503:\tlearn: 0.7057509\ttotal: 1m 24s\tremaining: 1m 22s\n",
      "504:\tlearn: 0.7056850\ttotal: 1m 24s\tremaining: 1m 22s\n",
      "505:\tlearn: 0.7056116\ttotal: 1m 24s\tremaining: 1m 22s\n",
      "506:\tlearn: 0.7054863\ttotal: 1m 24s\tremaining: 1m 22s\n",
      "507:\tlearn: 0.7053093\ttotal: 1m 24s\tremaining: 1m 22s\n",
      "508:\tlearn: 0.7052314\ttotal: 1m 24s\tremaining: 1m 21s\n",
      "509:\tlearn: 0.7051430\ttotal: 1m 25s\tremaining: 1m 21s\n",
      "510:\tlearn: 0.7050963\ttotal: 1m 25s\tremaining: 1m 21s\n",
      "511:\tlearn: 0.7050455\ttotal: 1m 25s\tremaining: 1m 21s\n",
      "512:\tlearn: 0.7049772\ttotal: 1m 25s\tremaining: 1m 21s\n",
      "513:\tlearn: 0.7049222\ttotal: 1m 25s\tremaining: 1m 20s\n",
      "514:\tlearn: 0.7048955\ttotal: 1m 25s\tremaining: 1m 20s\n",
      "515:\tlearn: 0.7047825\ttotal: 1m 25s\tremaining: 1m 20s\n",
      "516:\tlearn: 0.7046782\ttotal: 1m 26s\tremaining: 1m 20s\n",
      "517:\tlearn: 0.7046529\ttotal: 1m 26s\tremaining: 1m 20s\n",
      "518:\tlearn: 0.7045509\ttotal: 1m 26s\tremaining: 1m 20s\n",
      "519:\tlearn: 0.7045009\ttotal: 1m 26s\tremaining: 1m 19s\n",
      "520:\tlearn: 0.7044419\ttotal: 1m 26s\tremaining: 1m 19s\n",
      "521:\tlearn: 0.7043725\ttotal: 1m 26s\tremaining: 1m 19s\n",
      "522:\tlearn: 0.7042630\ttotal: 1m 27s\tremaining: 1m 19s\n",
      "523:\tlearn: 0.7041671\ttotal: 1m 27s\tremaining: 1m 19s\n",
      "524:\tlearn: 0.7041119\ttotal: 1m 27s\tremaining: 1m 19s\n",
      "525:\tlearn: 0.7040297\ttotal: 1m 27s\tremaining: 1m 18s\n",
      "526:\tlearn: 0.7038982\ttotal: 1m 27s\tremaining: 1m 18s\n",
      "527:\tlearn: 0.7037917\ttotal: 1m 27s\tremaining: 1m 18s\n",
      "528:\tlearn: 0.7037275\ttotal: 1m 28s\tremaining: 1m 18s\n",
      "529:\tlearn: 0.7035871\ttotal: 1m 28s\tremaining: 1m 18s\n",
      "530:\tlearn: 0.7035308\ttotal: 1m 28s\tremaining: 1m 18s\n",
      "531:\tlearn: 0.7034125\ttotal: 1m 28s\tremaining: 1m 17s\n",
      "532:\tlearn: 0.7033198\ttotal: 1m 28s\tremaining: 1m 17s\n",
      "533:\tlearn: 0.7031979\ttotal: 1m 28s\tremaining: 1m 17s\n",
      "534:\tlearn: 0.7031540\ttotal: 1m 29s\tremaining: 1m 17s\n",
      "535:\tlearn: 0.7031191\ttotal: 1m 29s\tremaining: 1m 17s\n",
      "536:\tlearn: 0.7029382\ttotal: 1m 29s\tremaining: 1m 17s\n",
      "537:\tlearn: 0.7028562\ttotal: 1m 29s\tremaining: 1m 16s\n",
      "538:\tlearn: 0.7028120\ttotal: 1m 29s\tremaining: 1m 16s\n",
      "539:\tlearn: 0.7027047\ttotal: 1m 29s\tremaining: 1m 16s\n",
      "540:\tlearn: 0.7025880\ttotal: 1m 29s\tremaining: 1m 16s\n",
      "541:\tlearn: 0.7025666\ttotal: 1m 30s\tremaining: 1m 16s\n",
      "542:\tlearn: 0.7025039\ttotal: 1m 30s\tremaining: 1m 15s\n",
      "543:\tlearn: 0.7024146\ttotal: 1m 30s\tremaining: 1m 15s\n",
      "544:\tlearn: 0.7023113\ttotal: 1m 30s\tremaining: 1m 15s\n",
      "545:\tlearn: 0.7022802\ttotal: 1m 30s\tremaining: 1m 15s\n",
      "546:\tlearn: 0.7022543\ttotal: 1m 30s\tremaining: 1m 15s\n",
      "547:\tlearn: 0.7021942\ttotal: 1m 30s\tremaining: 1m 15s\n",
      "548:\tlearn: 0.7021741\ttotal: 1m 31s\tremaining: 1m 14s\n",
      "549:\tlearn: 0.7020755\ttotal: 1m 31s\tremaining: 1m 14s\n",
      "550:\tlearn: 0.7020483\ttotal: 1m 31s\tremaining: 1m 14s\n",
      "551:\tlearn: 0.7019917\ttotal: 1m 31s\tremaining: 1m 14s\n",
      "552:\tlearn: 0.7018612\ttotal: 1m 31s\tremaining: 1m 14s\n",
      "553:\tlearn: 0.7017605\ttotal: 1m 31s\tremaining: 1m 13s\n",
      "554:\tlearn: 0.7017118\ttotal: 1m 32s\tremaining: 1m 13s\n",
      "555:\tlearn: 0.7016680\ttotal: 1m 32s\tremaining: 1m 13s\n",
      "556:\tlearn: 0.7015704\ttotal: 1m 32s\tremaining: 1m 13s\n",
      "557:\tlearn: 0.7015095\ttotal: 1m 32s\tremaining: 1m 13s\n",
      "558:\tlearn: 0.7013847\ttotal: 1m 32s\tremaining: 1m 13s\n",
      "559:\tlearn: 0.7012838\ttotal: 1m 32s\tremaining: 1m 12s\n",
      "560:\tlearn: 0.7011783\ttotal: 1m 32s\tremaining: 1m 12s\n",
      "561:\tlearn: 0.7010944\ttotal: 1m 33s\tremaining: 1m 12s\n",
      "562:\tlearn: 0.7010611\ttotal: 1m 33s\tremaining: 1m 12s\n",
      "563:\tlearn: 0.7010061\ttotal: 1m 33s\tremaining: 1m 12s\n",
      "564:\tlearn: 0.7008973\ttotal: 1m 33s\tremaining: 1m 11s\n",
      "565:\tlearn: 0.7008230\ttotal: 1m 33s\tremaining: 1m 11s\n",
      "566:\tlearn: 0.7007650\ttotal: 1m 33s\tremaining: 1m 11s\n",
      "567:\tlearn: 0.7006816\ttotal: 1m 34s\tremaining: 1m 11s\n",
      "568:\tlearn: 0.7006344\ttotal: 1m 34s\tremaining: 1m 11s\n",
      "569:\tlearn: 0.7005457\ttotal: 1m 34s\tremaining: 1m 11s\n",
      "570:\tlearn: 0.7004464\ttotal: 1m 34s\tremaining: 1m 10s\n",
      "571:\tlearn: 0.7003920\ttotal: 1m 34s\tremaining: 1m 10s\n",
      "572:\tlearn: 0.7002830\ttotal: 1m 34s\tremaining: 1m 10s\n",
      "573:\tlearn: 0.7002130\ttotal: 1m 34s\tremaining: 1m 10s\n",
      "574:\tlearn: 0.7001367\ttotal: 1m 35s\tremaining: 1m 10s\n",
      "575:\tlearn: 0.7000809\ttotal: 1m 35s\tremaining: 1m 10s\n",
      "576:\tlearn: 0.6999624\ttotal: 1m 35s\tremaining: 1m 9s\n",
      "577:\tlearn: 0.6998280\ttotal: 1m 35s\tremaining: 1m 9s\n",
      "578:\tlearn: 0.6997463\ttotal: 1m 35s\tremaining: 1m 9s\n",
      "579:\tlearn: 0.6996421\ttotal: 1m 35s\tremaining: 1m 9s\n",
      "580:\tlearn: 0.6995180\ttotal: 1m 36s\tremaining: 1m 9s\n",
      "581:\tlearn: 0.6994954\ttotal: 1m 36s\tremaining: 1m 9s\n",
      "582:\tlearn: 0.6994497\ttotal: 1m 36s\tremaining: 1m 8s\n",
      "583:\tlearn: 0.6993850\ttotal: 1m 36s\tremaining: 1m 8s\n",
      "584:\tlearn: 0.6992816\ttotal: 1m 36s\tremaining: 1m 8s\n",
      "585:\tlearn: 0.6991455\ttotal: 1m 36s\tremaining: 1m 8s\n",
      "586:\tlearn: 0.6990823\ttotal: 1m 37s\tremaining: 1m 8s\n",
      "587:\tlearn: 0.6990241\ttotal: 1m 37s\tremaining: 1m 8s\n",
      "588:\tlearn: 0.6989567\ttotal: 1m 37s\tremaining: 1m 7s\n",
      "589:\tlearn: 0.6988842\ttotal: 1m 37s\tremaining: 1m 7s\n",
      "590:\tlearn: 0.6988327\ttotal: 1m 37s\tremaining: 1m 7s\n",
      "591:\tlearn: 0.6987351\ttotal: 1m 37s\tremaining: 1m 7s\n",
      "592:\tlearn: 0.6986332\ttotal: 1m 37s\tremaining: 1m 7s\n",
      "593:\tlearn: 0.6985173\ttotal: 1m 38s\tremaining: 1m 7s\n",
      "594:\tlearn: 0.6984179\ttotal: 1m 38s\tremaining: 1m 6s\n",
      "595:\tlearn: 0.6983689\ttotal: 1m 38s\tremaining: 1m 6s\n",
      "596:\tlearn: 0.6982640\ttotal: 1m 38s\tremaining: 1m 6s\n",
      "597:\tlearn: 0.6982318\ttotal: 1m 38s\tremaining: 1m 6s\n",
      "598:\tlearn: 0.6981567\ttotal: 1m 38s\tremaining: 1m 6s\n",
      "599:\tlearn: 0.6981208\ttotal: 1m 39s\tremaining: 1m 6s\n",
      "600:\tlearn: 0.6980892\ttotal: 1m 39s\tremaining: 1m 5s\n",
      "601:\tlearn: 0.6980516\ttotal: 1m 39s\tremaining: 1m 5s\n",
      "602:\tlearn: 0.6979873\ttotal: 1m 39s\tremaining: 1m 5s\n",
      "603:\tlearn: 0.6979418\ttotal: 1m 39s\tremaining: 1m 5s\n",
      "604:\tlearn: 0.6978905\ttotal: 1m 39s\tremaining: 1m 5s\n",
      "605:\tlearn: 0.6978351\ttotal: 1m 39s\tremaining: 1m 5s\n",
      "606:\tlearn: 0.6977294\ttotal: 1m 40s\tremaining: 1m 4s\n",
      "607:\tlearn: 0.6976963\ttotal: 1m 40s\tremaining: 1m 4s\n",
      "608:\tlearn: 0.6975950\ttotal: 1m 40s\tremaining: 1m 4s\n",
      "609:\tlearn: 0.6975494\ttotal: 1m 40s\tremaining: 1m 4s\n",
      "610:\tlearn: 0.6975140\ttotal: 1m 40s\tremaining: 1m 4s\n",
      "611:\tlearn: 0.6974063\ttotal: 1m 40s\tremaining: 1m 3s\n",
      "612:\tlearn: 0.6973070\ttotal: 1m 41s\tremaining: 1m 3s\n",
      "613:\tlearn: 0.6972179\ttotal: 1m 41s\tremaining: 1m 3s\n",
      "614:\tlearn: 0.6971944\ttotal: 1m 41s\tremaining: 1m 3s\n",
      "615:\tlearn: 0.6970679\ttotal: 1m 41s\tremaining: 1m 3s\n",
      "616:\tlearn: 0.6969980\ttotal: 1m 41s\tremaining: 1m 3s\n",
      "617:\tlearn: 0.6969389\ttotal: 1m 41s\tremaining: 1m 2s\n",
      "618:\tlearn: 0.6968668\ttotal: 1m 42s\tremaining: 1m 2s\n",
      "619:\tlearn: 0.6968375\ttotal: 1m 42s\tremaining: 1m 2s\n",
      "620:\tlearn: 0.6967215\ttotal: 1m 42s\tremaining: 1m 2s\n",
      "621:\tlearn: 0.6966968\ttotal: 1m 42s\tremaining: 1m 2s\n",
      "622:\tlearn: 0.6966377\ttotal: 1m 42s\tremaining: 1m 2s\n",
      "623:\tlearn: 0.6965242\ttotal: 1m 42s\tremaining: 1m 1s\n",
      "624:\tlearn: 0.6964915\ttotal: 1m 42s\tremaining: 1m 1s\n",
      "625:\tlearn: 0.6963720\ttotal: 1m 43s\tremaining: 1m 1s\n",
      "626:\tlearn: 0.6962190\ttotal: 1m 43s\tremaining: 1m 1s\n",
      "627:\tlearn: 0.6961373\ttotal: 1m 43s\tremaining: 1m 1s\n",
      "628:\tlearn: 0.6960744\ttotal: 1m 43s\tremaining: 1m 1s\n",
      "629:\tlearn: 0.6960129\ttotal: 1m 43s\tremaining: 1m\n",
      "630:\tlearn: 0.6959666\ttotal: 1m 43s\tremaining: 1m\n",
      "631:\tlearn: 0.6959229\ttotal: 1m 43s\tremaining: 1m\n",
      "632:\tlearn: 0.6958273\ttotal: 1m 44s\tremaining: 1m\n",
      "633:\tlearn: 0.6957907\ttotal: 1m 44s\tremaining: 1m\n",
      "634:\tlearn: 0.6957353\ttotal: 1m 44s\tremaining: 1m\n",
      "635:\tlearn: 0.6956742\ttotal: 1m 44s\tremaining: 59.9s\n",
      "636:\tlearn: 0.6956343\ttotal: 1m 44s\tremaining: 59.7s\n",
      "637:\tlearn: 0.6955536\ttotal: 1m 44s\tremaining: 59.5s\n",
      "638:\tlearn: 0.6954327\ttotal: 1m 44s\tremaining: 59.3s\n",
      "639:\tlearn: 0.6953667\ttotal: 1m 45s\tremaining: 59.1s\n",
      "640:\tlearn: 0.6952501\ttotal: 1m 45s\tremaining: 59s\n",
      "641:\tlearn: 0.6951462\ttotal: 1m 45s\tremaining: 58.8s\n",
      "642:\tlearn: 0.6950938\ttotal: 1m 45s\tremaining: 58.6s\n",
      "643:\tlearn: 0.6949521\ttotal: 1m 45s\tremaining: 58.4s\n",
      "644:\tlearn: 0.6949132\ttotal: 1m 45s\tremaining: 58.3s\n",
      "645:\tlearn: 0.6948307\ttotal: 1m 46s\tremaining: 58.1s\n",
      "646:\tlearn: 0.6947393\ttotal: 1m 46s\tremaining: 57.9s\n",
      "647:\tlearn: 0.6947013\ttotal: 1m 46s\tremaining: 57.8s\n",
      "648:\tlearn: 0.6946370\ttotal: 1m 46s\tremaining: 57.6s\n",
      "649:\tlearn: 0.6945448\ttotal: 1m 46s\tremaining: 57.5s\n",
      "650:\tlearn: 0.6944160\ttotal: 1m 46s\tremaining: 57.3s\n",
      "651:\tlearn: 0.6943303\ttotal: 1m 47s\tremaining: 57.2s\n",
      "652:\tlearn: 0.6942163\ttotal: 1m 47s\tremaining: 57s\n",
      "653:\tlearn: 0.6941666\ttotal: 1m 47s\tremaining: 56.8s\n",
      "654:\tlearn: 0.6941308\ttotal: 1m 47s\tremaining: 56.6s\n",
      "655:\tlearn: 0.6940337\ttotal: 1m 47s\tremaining: 56.5s\n",
      "656:\tlearn: 0.6939776\ttotal: 1m 47s\tremaining: 56.3s\n",
      "657:\tlearn: 0.6939557\ttotal: 1m 47s\tremaining: 56.1s\n",
      "658:\tlearn: 0.6938830\ttotal: 1m 48s\tremaining: 55.9s\n",
      "659:\tlearn: 0.6938124\ttotal: 1m 48s\tremaining: 55.8s\n",
      "660:\tlearn: 0.6937614\ttotal: 1m 48s\tremaining: 55.6s\n",
      "661:\tlearn: 0.6937010\ttotal: 1m 48s\tremaining: 55.4s\n",
      "662:\tlearn: 0.6936760\ttotal: 1m 48s\tremaining: 55.2s\n",
      "663:\tlearn: 0.6936190\ttotal: 1m 48s\tremaining: 55s\n",
      "664:\tlearn: 0.6935920\ttotal: 1m 48s\tremaining: 54.9s\n",
      "665:\tlearn: 0.6935027\ttotal: 1m 49s\tremaining: 54.7s\n",
      "666:\tlearn: 0.6934410\ttotal: 1m 49s\tremaining: 54.5s\n",
      "667:\tlearn: 0.6933658\ttotal: 1m 49s\tremaining: 54.3s\n",
      "668:\tlearn: 0.6932998\ttotal: 1m 49s\tremaining: 54.2s\n",
      "669:\tlearn: 0.6931978\ttotal: 1m 49s\tremaining: 54s\n",
      "670:\tlearn: 0.6931355\ttotal: 1m 49s\tremaining: 53.8s\n",
      "671:\tlearn: 0.6930844\ttotal: 1m 49s\tremaining: 53.7s\n",
      "672:\tlearn: 0.6930037\ttotal: 1m 50s\tremaining: 53.5s\n",
      "673:\tlearn: 0.6929486\ttotal: 1m 50s\tremaining: 53.4s\n",
      "674:\tlearn: 0.6928694\ttotal: 1m 50s\tremaining: 53.2s\n",
      "675:\tlearn: 0.6927933\ttotal: 1m 50s\tremaining: 53s\n",
      "676:\tlearn: 0.6927705\ttotal: 1m 50s\tremaining: 52.9s\n",
      "677:\tlearn: 0.6927059\ttotal: 1m 51s\tremaining: 52.7s\n",
      "678:\tlearn: 0.6925940\ttotal: 1m 51s\tremaining: 52.6s\n",
      "679:\tlearn: 0.6924805\ttotal: 1m 51s\tremaining: 52.4s\n",
      "680:\tlearn: 0.6924048\ttotal: 1m 51s\tremaining: 52.2s\n",
      "681:\tlearn: 0.6923264\ttotal: 1m 51s\tremaining: 52.1s\n",
      "682:\tlearn: 0.6922229\ttotal: 1m 51s\tremaining: 51.9s\n",
      "683:\tlearn: 0.6921445\ttotal: 1m 51s\tremaining: 51.7s\n",
      "684:\tlearn: 0.6921136\ttotal: 1m 52s\tremaining: 51.5s\n",
      "685:\tlearn: 0.6920515\ttotal: 1m 52s\tremaining: 51.4s\n",
      "686:\tlearn: 0.6920094\ttotal: 1m 52s\tremaining: 51.2s\n",
      "687:\tlearn: 0.6919284\ttotal: 1m 52s\tremaining: 51.1s\n",
      "688:\tlearn: 0.6918441\ttotal: 1m 52s\tremaining: 50.9s\n",
      "689:\tlearn: 0.6917679\ttotal: 1m 52s\tremaining: 50.7s\n",
      "690:\tlearn: 0.6917514\ttotal: 1m 53s\tremaining: 50.6s\n",
      "691:\tlearn: 0.6917355\ttotal: 1m 53s\tremaining: 50.4s\n",
      "692:\tlearn: 0.6916519\ttotal: 1m 53s\tremaining: 50.2s\n",
      "693:\tlearn: 0.6915972\ttotal: 1m 53s\tremaining: 50s\n",
      "694:\tlearn: 0.6915686\ttotal: 1m 53s\tremaining: 49.9s\n",
      "695:\tlearn: 0.6914678\ttotal: 1m 53s\tremaining: 49.7s\n",
      "696:\tlearn: 0.6914323\ttotal: 1m 53s\tremaining: 49.5s\n",
      "697:\tlearn: 0.6913812\ttotal: 1m 54s\tremaining: 49.4s\n",
      "698:\tlearn: 0.6912969\ttotal: 1m 54s\tremaining: 49.2s\n",
      "699:\tlearn: 0.6912069\ttotal: 1m 54s\tremaining: 49.1s\n",
      "700:\tlearn: 0.6911481\ttotal: 1m 54s\tremaining: 48.9s\n",
      "701:\tlearn: 0.6910968\ttotal: 1m 54s\tremaining: 48.7s\n",
      "702:\tlearn: 0.6909885\ttotal: 1m 54s\tremaining: 48.6s\n",
      "703:\tlearn: 0.6909692\ttotal: 1m 55s\tremaining: 48.4s\n",
      "704:\tlearn: 0.6909022\ttotal: 1m 55s\tremaining: 48.2s\n",
      "705:\tlearn: 0.6908363\ttotal: 1m 55s\tremaining: 48.1s\n",
      "706:\tlearn: 0.6907798\ttotal: 1m 55s\tremaining: 47.9s\n",
      "707:\tlearn: 0.6906819\ttotal: 1m 55s\tremaining: 47.7s\n",
      "708:\tlearn: 0.6906193\ttotal: 1m 55s\tremaining: 47.6s\n",
      "709:\tlearn: 0.6904589\ttotal: 1m 56s\tremaining: 47.4s\n",
      "710:\tlearn: 0.6903802\ttotal: 1m 56s\tremaining: 47.3s\n",
      "711:\tlearn: 0.6903220\ttotal: 1m 56s\tremaining: 47.1s\n",
      "712:\tlearn: 0.6901911\ttotal: 1m 56s\tremaining: 46.9s\n",
      "713:\tlearn: 0.6901644\ttotal: 1m 56s\tremaining: 46.8s\n",
      "714:\tlearn: 0.6901474\ttotal: 1m 56s\tremaining: 46.6s\n",
      "715:\tlearn: 0.6901046\ttotal: 1m 57s\tremaining: 46.4s\n",
      "716:\tlearn: 0.6900480\ttotal: 1m 57s\tremaining: 46.3s\n",
      "717:\tlearn: 0.6899866\ttotal: 1m 57s\tremaining: 46.1s\n",
      "718:\tlearn: 0.6898532\ttotal: 1m 57s\tremaining: 45.9s\n",
      "719:\tlearn: 0.6898444\ttotal: 1m 57s\tremaining: 45.8s\n",
      "720:\tlearn: 0.6897627\ttotal: 1m 57s\tremaining: 45.6s\n",
      "721:\tlearn: 0.6896982\ttotal: 1m 57s\tremaining: 45.4s\n",
      "722:\tlearn: 0.6896395\ttotal: 1m 58s\tremaining: 45.2s\n",
      "723:\tlearn: 0.6895591\ttotal: 1m 58s\tremaining: 45.1s\n",
      "724:\tlearn: 0.6894866\ttotal: 1m 58s\tremaining: 44.9s\n",
      "725:\tlearn: 0.6894455\ttotal: 1m 58s\tremaining: 44.8s\n",
      "726:\tlearn: 0.6893510\ttotal: 1m 58s\tremaining: 44.6s\n",
      "727:\tlearn: 0.6893071\ttotal: 1m 58s\tremaining: 44.4s\n",
      "728:\tlearn: 0.6892645\ttotal: 1m 59s\tremaining: 44.3s\n",
      "729:\tlearn: 0.6891729\ttotal: 1m 59s\tremaining: 44.1s\n",
      "730:\tlearn: 0.6890808\ttotal: 1m 59s\tremaining: 43.9s\n",
      "731:\tlearn: 0.6889832\ttotal: 1m 59s\tremaining: 43.8s\n",
      "732:\tlearn: 0.6888865\ttotal: 1m 59s\tremaining: 43.6s\n",
      "733:\tlearn: 0.6888242\ttotal: 1m 59s\tremaining: 43.5s\n",
      "734:\tlearn: 0.6887659\ttotal: 2m\tremaining: 43.3s\n",
      "735:\tlearn: 0.6887370\ttotal: 2m\tremaining: 43.1s\n",
      "736:\tlearn: 0.6886963\ttotal: 2m\tremaining: 42.9s\n",
      "737:\tlearn: 0.6886401\ttotal: 2m\tremaining: 42.8s\n",
      "738:\tlearn: 0.6886136\ttotal: 2m\tremaining: 42.6s\n",
      "739:\tlearn: 0.6885325\ttotal: 2m\tremaining: 42.4s\n",
      "740:\tlearn: 0.6884732\ttotal: 2m\tremaining: 42.3s\n",
      "741:\tlearn: 0.6884617\ttotal: 2m 1s\tremaining: 42.1s\n",
      "742:\tlearn: 0.6884013\ttotal: 2m 1s\tremaining: 41.9s\n",
      "743:\tlearn: 0.6883488\ttotal: 2m 1s\tremaining: 41.7s\n",
      "744:\tlearn: 0.6883252\ttotal: 2m 1s\tremaining: 41.6s\n",
      "745:\tlearn: 0.6882828\ttotal: 2m 1s\tremaining: 41.4s\n",
      "746:\tlearn: 0.6881488\ttotal: 2m 1s\tremaining: 41.2s\n",
      "747:\tlearn: 0.6881074\ttotal: 2m 1s\tremaining: 41.1s\n",
      "748:\tlearn: 0.6880886\ttotal: 2m 2s\tremaining: 40.9s\n",
      "749:\tlearn: 0.6880079\ttotal: 2m 2s\tremaining: 40.7s\n",
      "750:\tlearn: 0.6878950\ttotal: 2m 2s\tremaining: 40.6s\n",
      "751:\tlearn: 0.6878026\ttotal: 2m 2s\tremaining: 40.4s\n",
      "752:\tlearn: 0.6877628\ttotal: 2m 2s\tremaining: 40.3s\n",
      "753:\tlearn: 0.6877320\ttotal: 2m 2s\tremaining: 40.1s\n",
      "754:\tlearn: 0.6876114\ttotal: 2m 3s\tremaining: 39.9s\n",
      "755:\tlearn: 0.6875811\ttotal: 2m 3s\tremaining: 39.8s\n",
      "756:\tlearn: 0.6874915\ttotal: 2m 3s\tremaining: 39.6s\n",
      "757:\tlearn: 0.6874247\ttotal: 2m 3s\tremaining: 39.4s\n",
      "758:\tlearn: 0.6873528\ttotal: 2m 3s\tremaining: 39.3s\n",
      "759:\tlearn: 0.6872862\ttotal: 2m 3s\tremaining: 39.1s\n",
      "760:\tlearn: 0.6872154\ttotal: 2m 4s\tremaining: 39s\n",
      "761:\tlearn: 0.6871573\ttotal: 2m 4s\tremaining: 38.8s\n",
      "762:\tlearn: 0.6871057\ttotal: 2m 4s\tremaining: 38.6s\n",
      "763:\tlearn: 0.6869802\ttotal: 2m 4s\tremaining: 38.5s\n",
      "764:\tlearn: 0.6869644\ttotal: 2m 4s\tremaining: 38.3s\n",
      "765:\tlearn: 0.6869136\ttotal: 2m 4s\tremaining: 38.1s\n",
      "766:\tlearn: 0.6867763\ttotal: 2m 4s\tremaining: 37.9s\n",
      "767:\tlearn: 0.6867741\ttotal: 2m 5s\tremaining: 37.8s\n",
      "768:\tlearn: 0.6866888\ttotal: 2m 5s\tremaining: 37.6s\n",
      "769:\tlearn: 0.6866339\ttotal: 2m 5s\tremaining: 37.4s\n",
      "770:\tlearn: 0.6865746\ttotal: 2m 5s\tremaining: 37.3s\n",
      "771:\tlearn: 0.6865244\ttotal: 2m 5s\tremaining: 37.1s\n",
      "772:\tlearn: 0.6864287\ttotal: 2m 5s\tremaining: 36.9s\n",
      "773:\tlearn: 0.6863419\ttotal: 2m 5s\tremaining: 36.8s\n",
      "774:\tlearn: 0.6863010\ttotal: 2m 6s\tremaining: 36.6s\n",
      "775:\tlearn: 0.6862366\ttotal: 2m 6s\tremaining: 36.4s\n",
      "776:\tlearn: 0.6861442\ttotal: 2m 6s\tremaining: 36.3s\n",
      "777:\tlearn: 0.6860713\ttotal: 2m 6s\tremaining: 36.1s\n",
      "778:\tlearn: 0.6860133\ttotal: 2m 6s\tremaining: 36s\n",
      "779:\tlearn: 0.6859407\ttotal: 2m 6s\tremaining: 35.8s\n",
      "780:\tlearn: 0.6858947\ttotal: 2m 7s\tremaining: 35.6s\n",
      "781:\tlearn: 0.6858508\ttotal: 2m 7s\tremaining: 35.5s\n",
      "782:\tlearn: 0.6858190\ttotal: 2m 7s\tremaining: 35.3s\n",
      "783:\tlearn: 0.6857476\ttotal: 2m 7s\tremaining: 35.1s\n",
      "784:\tlearn: 0.6856313\ttotal: 2m 7s\tremaining: 35s\n",
      "785:\tlearn: 0.6855013\ttotal: 2m 7s\tremaining: 34.8s\n",
      "786:\tlearn: 0.6854657\ttotal: 2m 8s\tremaining: 34.7s\n",
      "787:\tlearn: 0.6853247\ttotal: 2m 8s\tremaining: 34.5s\n",
      "788:\tlearn: 0.6852522\ttotal: 2m 8s\tremaining: 34.3s\n",
      "789:\tlearn: 0.6852100\ttotal: 2m 8s\tremaining: 34.2s\n",
      "790:\tlearn: 0.6851301\ttotal: 2m 8s\tremaining: 34s\n",
      "791:\tlearn: 0.6840230\ttotal: 2m 8s\tremaining: 33.8s\n",
      "792:\tlearn: 0.6839696\ttotal: 2m 8s\tremaining: 33.7s\n",
      "793:\tlearn: 0.6839186\ttotal: 2m 9s\tremaining: 33.5s\n",
      "794:\tlearn: 0.6839030\ttotal: 2m 9s\tremaining: 33.3s\n",
      "795:\tlearn: 0.6838584\ttotal: 2m 9s\tremaining: 33.2s\n",
      "796:\tlearn: 0.6837791\ttotal: 2m 9s\tremaining: 33s\n",
      "797:\tlearn: 0.6837079\ttotal: 2m 9s\tremaining: 32.8s\n",
      "798:\tlearn: 0.6836750\ttotal: 2m 9s\tremaining: 32.7s\n",
      "799:\tlearn: 0.6835978\ttotal: 2m 10s\tremaining: 32.5s\n",
      "800:\tlearn: 0.6835506\ttotal: 2m 10s\tremaining: 32.3s\n",
      "801:\tlearn: 0.6834903\ttotal: 2m 10s\tremaining: 32.2s\n",
      "802:\tlearn: 0.6834189\ttotal: 2m 10s\tremaining: 32s\n",
      "803:\tlearn: 0.6833917\ttotal: 2m 10s\tremaining: 31.9s\n",
      "804:\tlearn: 0.6833187\ttotal: 2m 10s\tremaining: 31.7s\n",
      "805:\tlearn: 0.6833162\ttotal: 2m 11s\tremaining: 31.5s\n",
      "806:\tlearn: 0.6832672\ttotal: 2m 11s\tremaining: 31.4s\n",
      "807:\tlearn: 0.6831907\ttotal: 2m 11s\tremaining: 31.2s\n",
      "808:\tlearn: 0.6830866\ttotal: 2m 11s\tremaining: 31.1s\n",
      "809:\tlearn: 0.6830124\ttotal: 2m 11s\tremaining: 30.9s\n",
      "810:\tlearn: 0.6829661\ttotal: 2m 11s\tremaining: 30.7s\n",
      "811:\tlearn: 0.6828805\ttotal: 2m 12s\tremaining: 30.6s\n",
      "812:\tlearn: 0.6827997\ttotal: 2m 12s\tremaining: 30.4s\n",
      "813:\tlearn: 0.6827679\ttotal: 2m 12s\tremaining: 30.2s\n",
      "814:\tlearn: 0.6827185\ttotal: 2m 12s\tremaining: 30.1s\n",
      "815:\tlearn: 0.6826686\ttotal: 2m 12s\tremaining: 29.9s\n",
      "816:\tlearn: 0.6825563\ttotal: 2m 12s\tremaining: 29.7s\n",
      "817:\tlearn: 0.6824974\ttotal: 2m 12s\tremaining: 29.6s\n",
      "818:\tlearn: 0.6824536\ttotal: 2m 13s\tremaining: 29.4s\n",
      "819:\tlearn: 0.6824156\ttotal: 2m 13s\tremaining: 29.2s\n",
      "820:\tlearn: 0.6823487\ttotal: 2m 13s\tremaining: 29.1s\n",
      "821:\tlearn: 0.6822626\ttotal: 2m 13s\tremaining: 28.9s\n",
      "822:\tlearn: 0.6822156\ttotal: 2m 13s\tremaining: 28.8s\n",
      "823:\tlearn: 0.6822051\ttotal: 2m 13s\tremaining: 28.6s\n",
      "824:\tlearn: 0.6821433\ttotal: 2m 13s\tremaining: 28.4s\n",
      "825:\tlearn: 0.6820757\ttotal: 2m 14s\tremaining: 28.3s\n",
      "826:\tlearn: 0.6820088\ttotal: 2m 14s\tremaining: 28.1s\n",
      "827:\tlearn: 0.6819301\ttotal: 2m 14s\tremaining: 27.9s\n",
      "828:\tlearn: 0.6818727\ttotal: 2m 14s\tremaining: 27.8s\n",
      "829:\tlearn: 0.6818269\ttotal: 2m 14s\tremaining: 27.6s\n",
      "830:\tlearn: 0.6817823\ttotal: 2m 15s\tremaining: 27.5s\n",
      "831:\tlearn: 0.6817411\ttotal: 2m 15s\tremaining: 27.3s\n",
      "832:\tlearn: 0.6816797\ttotal: 2m 15s\tremaining: 27.1s\n",
      "833:\tlearn: 0.6816481\ttotal: 2m 15s\tremaining: 27s\n",
      "834:\tlearn: 0.6815568\ttotal: 2m 15s\tremaining: 26.8s\n",
      "835:\tlearn: 0.6814819\ttotal: 2m 15s\tremaining: 26.6s\n",
      "836:\tlearn: 0.6814356\ttotal: 2m 15s\tremaining: 26.5s\n",
      "837:\tlearn: 0.6813629\ttotal: 2m 16s\tremaining: 26.3s\n",
      "838:\tlearn: 0.6813185\ttotal: 2m 16s\tremaining: 26.1s\n",
      "839:\tlearn: 0.6812118\ttotal: 2m 16s\tremaining: 26s\n",
      "840:\tlearn: 0.6811634\ttotal: 2m 16s\tremaining: 25.8s\n",
      "841:\tlearn: 0.6810739\ttotal: 2m 16s\tremaining: 25.6s\n",
      "842:\tlearn: 0.6810041\ttotal: 2m 16s\tremaining: 25.5s\n",
      "843:\tlearn: 0.6808980\ttotal: 2m 17s\tremaining: 25.3s\n",
      "844:\tlearn: 0.6808119\ttotal: 2m 17s\tremaining: 25.2s\n",
      "845:\tlearn: 0.6807481\ttotal: 2m 17s\tremaining: 25s\n",
      "846:\tlearn: 0.6806523\ttotal: 2m 17s\tremaining: 24.8s\n",
      "847:\tlearn: 0.6805620\ttotal: 2m 17s\tremaining: 24.7s\n",
      "848:\tlearn: 0.6804642\ttotal: 2m 17s\tremaining: 24.5s\n",
      "849:\tlearn: 0.6804001\ttotal: 2m 18s\tremaining: 24.4s\n",
      "850:\tlearn: 0.6803120\ttotal: 2m 18s\tremaining: 24.2s\n",
      "851:\tlearn: 0.6802424\ttotal: 2m 18s\tremaining: 24s\n",
      "852:\tlearn: 0.6801762\ttotal: 2m 18s\tremaining: 23.9s\n",
      "853:\tlearn: 0.6801285\ttotal: 2m 18s\tremaining: 23.7s\n",
      "854:\tlearn: 0.6800877\ttotal: 2m 18s\tremaining: 23.5s\n",
      "855:\tlearn: 0.6800435\ttotal: 2m 18s\tremaining: 23.4s\n",
      "856:\tlearn: 0.6799116\ttotal: 2m 19s\tremaining: 23.2s\n",
      "857:\tlearn: 0.6798355\ttotal: 2m 19s\tremaining: 23s\n",
      "858:\tlearn: 0.6797254\ttotal: 2m 19s\tremaining: 22.9s\n",
      "859:\tlearn: 0.6796754\ttotal: 2m 19s\tremaining: 22.7s\n",
      "860:\tlearn: 0.6796377\ttotal: 2m 19s\tremaining: 22.6s\n",
      "861:\tlearn: 0.6795263\ttotal: 2m 19s\tremaining: 22.4s\n",
      "862:\tlearn: 0.6794959\ttotal: 2m 20s\tremaining: 22.2s\n",
      "863:\tlearn: 0.6794845\ttotal: 2m 20s\tremaining: 22.1s\n",
      "864:\tlearn: 0.6794487\ttotal: 2m 20s\tremaining: 21.9s\n",
      "865:\tlearn: 0.6794013\ttotal: 2m 20s\tremaining: 21.7s\n",
      "866:\tlearn: 0.6793861\ttotal: 2m 20s\tremaining: 21.6s\n",
      "867:\tlearn: 0.6793583\ttotal: 2m 20s\tremaining: 21.4s\n",
      "868:\tlearn: 0.6793028\ttotal: 2m 20s\tremaining: 21.2s\n",
      "869:\tlearn: 0.6792401\ttotal: 2m 21s\tremaining: 21.1s\n",
      "870:\tlearn: 0.6792141\ttotal: 2m 21s\tremaining: 20.9s\n",
      "871:\tlearn: 0.6791758\ttotal: 2m 21s\tremaining: 20.7s\n",
      "872:\tlearn: 0.6791135\ttotal: 2m 21s\tremaining: 20.6s\n",
      "873:\tlearn: 0.6790142\ttotal: 2m 21s\tremaining: 20.4s\n",
      "874:\tlearn: 0.6789527\ttotal: 2m 21s\tremaining: 20.3s\n",
      "875:\tlearn: 0.6789088\ttotal: 2m 21s\tremaining: 20.1s\n",
      "876:\tlearn: 0.6788959\ttotal: 2m 22s\tremaining: 19.9s\n",
      "877:\tlearn: 0.6778991\ttotal: 2m 22s\tremaining: 19.8s\n",
      "878:\tlearn: 0.6778528\ttotal: 2m 22s\tremaining: 19.6s\n",
      "879:\tlearn: 0.6778503\ttotal: 2m 22s\tremaining: 19.4s\n",
      "880:\tlearn: 0.6777726\ttotal: 2m 22s\tremaining: 19.3s\n",
      "881:\tlearn: 0.6777060\ttotal: 2m 22s\tremaining: 19.1s\n",
      "882:\tlearn: 0.6776124\ttotal: 2m 22s\tremaining: 18.9s\n",
      "883:\tlearn: 0.6775346\ttotal: 2m 23s\tremaining: 18.8s\n",
      "884:\tlearn: 0.6774395\ttotal: 2m 23s\tremaining: 18.6s\n",
      "885:\tlearn: 0.6773169\ttotal: 2m 23s\tremaining: 18.5s\n",
      "886:\tlearn: 0.6772984\ttotal: 2m 23s\tremaining: 18.3s\n",
      "887:\tlearn: 0.6772818\ttotal: 2m 23s\tremaining: 18.1s\n",
      "888:\tlearn: 0.6772163\ttotal: 2m 23s\tremaining: 18s\n",
      "889:\tlearn: 0.6771242\ttotal: 2m 24s\tremaining: 17.8s\n",
      "890:\tlearn: 0.6770977\ttotal: 2m 24s\tremaining: 17.6s\n",
      "891:\tlearn: 0.6762245\ttotal: 2m 24s\tremaining: 17.5s\n",
      "892:\tlearn: 0.6761703\ttotal: 2m 24s\tremaining: 17.3s\n",
      "893:\tlearn: 0.6761566\ttotal: 2m 24s\tremaining: 17.2s\n",
      "894:\tlearn: 0.6761411\ttotal: 2m 24s\tremaining: 17s\n",
      "895:\tlearn: 0.6760938\ttotal: 2m 24s\tremaining: 16.8s\n",
      "896:\tlearn: 0.6760561\ttotal: 2m 25s\tremaining: 16.7s\n",
      "897:\tlearn: 0.6759419\ttotal: 2m 25s\tremaining: 16.5s\n",
      "898:\tlearn: 0.6758317\ttotal: 2m 25s\tremaining: 16.3s\n",
      "899:\tlearn: 0.6758060\ttotal: 2m 25s\tremaining: 16.2s\n",
      "900:\tlearn: 0.6757470\ttotal: 2m 25s\tremaining: 16s\n",
      "901:\tlearn: 0.6756663\ttotal: 2m 26s\tremaining: 15.9s\n",
      "902:\tlearn: 0.6756173\ttotal: 2m 26s\tremaining: 15.7s\n",
      "903:\tlearn: 0.6755773\ttotal: 2m 26s\tremaining: 15.5s\n",
      "904:\tlearn: 0.6755161\ttotal: 2m 26s\tremaining: 15.4s\n",
      "905:\tlearn: 0.6754294\ttotal: 2m 26s\tremaining: 15.2s\n",
      "906:\tlearn: 0.6753893\ttotal: 2m 26s\tremaining: 15.1s\n",
      "907:\tlearn: 0.6753360\ttotal: 2m 26s\tremaining: 14.9s\n",
      "908:\tlearn: 0.6752537\ttotal: 2m 27s\tremaining: 14.7s\n",
      "909:\tlearn: 0.6752287\ttotal: 2m 27s\tremaining: 14.6s\n",
      "910:\tlearn: 0.6752229\ttotal: 2m 27s\tremaining: 14.4s\n",
      "911:\tlearn: 0.6751462\ttotal: 2m 27s\tremaining: 14.2s\n",
      "912:\tlearn: 0.6750863\ttotal: 2m 27s\tremaining: 14.1s\n",
      "913:\tlearn: 0.6750184\ttotal: 2m 27s\tremaining: 13.9s\n",
      "914:\tlearn: 0.6749905\ttotal: 2m 27s\tremaining: 13.7s\n",
      "915:\tlearn: 0.6749001\ttotal: 2m 28s\tremaining: 13.6s\n",
      "916:\tlearn: 0.6748422\ttotal: 2m 28s\tremaining: 13.4s\n",
      "917:\tlearn: 0.6747673\ttotal: 2m 28s\tremaining: 13.3s\n",
      "918:\tlearn: 0.6746831\ttotal: 2m 28s\tremaining: 13.1s\n",
      "919:\tlearn: 0.6745888\ttotal: 2m 28s\tremaining: 12.9s\n",
      "920:\tlearn: 0.6744952\ttotal: 2m 28s\tremaining: 12.8s\n",
      "921:\tlearn: 0.6744554\ttotal: 2m 29s\tremaining: 12.6s\n",
      "922:\tlearn: 0.6744150\ttotal: 2m 29s\tremaining: 12.4s\n",
      "923:\tlearn: 0.6743855\ttotal: 2m 29s\tremaining: 12.3s\n",
      "924:\tlearn: 0.6743111\ttotal: 2m 29s\tremaining: 12.1s\n",
      "925:\tlearn: 0.6742610\ttotal: 2m 29s\tremaining: 12s\n",
      "926:\tlearn: 0.6741282\ttotal: 2m 29s\tremaining: 11.8s\n",
      "927:\tlearn: 0.6741264\ttotal: 2m 29s\tremaining: 11.6s\n",
      "928:\tlearn: 0.6740858\ttotal: 2m 30s\tremaining: 11.5s\n",
      "929:\tlearn: 0.6740682\ttotal: 2m 30s\tremaining: 11.3s\n",
      "930:\tlearn: 0.6740434\ttotal: 2m 30s\tremaining: 11.1s\n",
      "931:\tlearn: 0.6739970\ttotal: 2m 30s\tremaining: 11s\n",
      "932:\tlearn: 0.6739163\ttotal: 2m 30s\tremaining: 10.8s\n",
      "933:\tlearn: 0.6738092\ttotal: 2m 30s\tremaining: 10.7s\n",
      "934:\tlearn: 0.6737240\ttotal: 2m 31s\tremaining: 10.5s\n",
      "935:\tlearn: 0.6737183\ttotal: 2m 31s\tremaining: 10.3s\n",
      "936:\tlearn: 0.6736686\ttotal: 2m 31s\tremaining: 10.2s\n",
      "937:\tlearn: 0.6736267\ttotal: 2m 31s\tremaining: 10s\n",
      "938:\tlearn: 0.6735260\ttotal: 2m 31s\tremaining: 9.85s\n",
      "939:\tlearn: 0.6734870\ttotal: 2m 31s\tremaining: 9.69s\n",
      "940:\tlearn: 0.6734074\ttotal: 2m 31s\tremaining: 9.53s\n",
      "941:\tlearn: 0.6733480\ttotal: 2m 32s\tremaining: 9.36s\n",
      "942:\tlearn: 0.6732782\ttotal: 2m 32s\tremaining: 9.2s\n",
      "943:\tlearn: 0.6732354\ttotal: 2m 32s\tremaining: 9.04s\n",
      "944:\tlearn: 0.6731965\ttotal: 2m 32s\tremaining: 8.88s\n",
      "945:\tlearn: 0.6731836\ttotal: 2m 32s\tremaining: 8.71s\n",
      "946:\tlearn: 0.6730980\ttotal: 2m 32s\tremaining: 8.55s\n",
      "947:\tlearn: 0.6730570\ttotal: 2m 32s\tremaining: 8.39s\n",
      "948:\tlearn: 0.6730230\ttotal: 2m 33s\tremaining: 8.23s\n",
      "949:\tlearn: 0.6729457\ttotal: 2m 33s\tremaining: 8.07s\n",
      "950:\tlearn: 0.6728826\ttotal: 2m 33s\tremaining: 7.91s\n",
      "951:\tlearn: 0.6728235\ttotal: 2m 33s\tremaining: 7.74s\n",
      "952:\tlearn: 0.6727953\ttotal: 2m 33s\tremaining: 7.58s\n",
      "953:\tlearn: 0.6727035\ttotal: 2m 33s\tremaining: 7.42s\n",
      "954:\tlearn: 0.6726100\ttotal: 2m 34s\tremaining: 7.26s\n",
      "955:\tlearn: 0.6725639\ttotal: 2m 34s\tremaining: 7.1s\n",
      "956:\tlearn: 0.6725389\ttotal: 2m 34s\tremaining: 6.94s\n",
      "957:\tlearn: 0.6724763\ttotal: 2m 34s\tremaining: 6.78s\n",
      "958:\tlearn: 0.6723891\ttotal: 2m 34s\tremaining: 6.62s\n",
      "959:\tlearn: 0.6723602\ttotal: 2m 34s\tremaining: 6.46s\n",
      "960:\tlearn: 0.6722968\ttotal: 2m 35s\tremaining: 6.3s\n",
      "961:\tlearn: 0.6722677\ttotal: 2m 35s\tremaining: 6.13s\n",
      "962:\tlearn: 0.6721570\ttotal: 2m 35s\tremaining: 5.97s\n",
      "963:\tlearn: 0.6721122\ttotal: 2m 35s\tremaining: 5.81s\n",
      "964:\tlearn: 0.6720748\ttotal: 2m 35s\tremaining: 5.65s\n",
      "965:\tlearn: 0.6720361\ttotal: 2m 35s\tremaining: 5.49s\n",
      "966:\tlearn: 0.6719812\ttotal: 2m 36s\tremaining: 5.33s\n",
      "967:\tlearn: 0.6719157\ttotal: 2m 36s\tremaining: 5.16s\n",
      "968:\tlearn: 0.6718441\ttotal: 2m 36s\tremaining: 5s\n",
      "969:\tlearn: 0.6717696\ttotal: 2m 36s\tremaining: 4.84s\n",
      "970:\tlearn: 0.6717454\ttotal: 2m 36s\tremaining: 4.68s\n",
      "971:\tlearn: 0.6717148\ttotal: 2m 36s\tremaining: 4.52s\n",
      "972:\tlearn: 0.6716641\ttotal: 2m 37s\tremaining: 4.36s\n",
      "973:\tlearn: 0.6716208\ttotal: 2m 37s\tremaining: 4.2s\n",
      "974:\tlearn: 0.6715899\ttotal: 2m 37s\tremaining: 4.04s\n",
      "975:\tlearn: 0.6715431\ttotal: 2m 37s\tremaining: 3.88s\n",
      "976:\tlearn: 0.6715067\ttotal: 2m 37s\tremaining: 3.71s\n",
      "977:\tlearn: 0.6713791\ttotal: 2m 38s\tremaining: 3.55s\n",
      "978:\tlearn: 0.6713149\ttotal: 2m 38s\tremaining: 3.39s\n",
      "979:\tlearn: 0.6713043\ttotal: 2m 38s\tremaining: 3.23s\n",
      "980:\tlearn: 0.6712874\ttotal: 2m 38s\tremaining: 3.07s\n",
      "981:\tlearn: 0.6712286\ttotal: 2m 38s\tremaining: 2.91s\n",
      "982:\tlearn: 0.6711790\ttotal: 2m 38s\tremaining: 2.75s\n",
      "983:\tlearn: 0.6710660\ttotal: 2m 38s\tremaining: 2.58s\n",
      "984:\tlearn: 0.6710338\ttotal: 2m 39s\tremaining: 2.42s\n",
      "985:\tlearn: 0.6709657\ttotal: 2m 39s\tremaining: 2.26s\n",
      "986:\tlearn: 0.6709522\ttotal: 2m 39s\tremaining: 2.1s\n",
      "987:\tlearn: 0.6708852\ttotal: 2m 39s\tremaining: 1.94s\n",
      "988:\tlearn: 0.6708619\ttotal: 2m 39s\tremaining: 1.78s\n",
      "989:\tlearn: 0.6707749\ttotal: 2m 39s\tremaining: 1.61s\n",
      "990:\tlearn: 0.6707184\ttotal: 2m 40s\tremaining: 1.45s\n",
      "991:\tlearn: 0.6706561\ttotal: 2m 40s\tremaining: 1.29s\n",
      "992:\tlearn: 0.6706237\ttotal: 2m 40s\tremaining: 1.13s\n",
      "993:\tlearn: 0.6705509\ttotal: 2m 40s\tremaining: 969ms\n",
      "994:\tlearn: 0.6704924\ttotal: 2m 40s\tremaining: 807ms\n",
      "995:\tlearn: 0.6704277\ttotal: 2m 40s\tremaining: 646ms\n",
      "996:\tlearn: 0.6703206\ttotal: 2m 40s\tremaining: 484ms\n",
      "997:\tlearn: 0.6702844\ttotal: 2m 41s\tremaining: 323ms\n",
      "998:\tlearn: 0.6702246\ttotal: 2m 41s\tremaining: 161ms\n",
      "999:\tlearn: 0.6701958\ttotal: 2m 41s\tremaining: 0us\n",
      "0.7166957215795158\n"
     ]
    }
   ],
   "source": [
    "from catboost import CatBoostRegressor\n",
    "from sklearn.metrics import mean_squared_error\n",
    "\n",
    "model = CatBoostRegressor(random_state=random_state)\n",
    "model.fit(X_train, y_train)\n",
    "y_pred = model.predict(X_test)\n",
    "\n",
    "print(mean_squared_error(y_test, y_pred, squared=False))"
   ]
  },
  {
   "cell_type": "code",
   "execution_count": 71,
   "metadata": {},
   "outputs": [],
   "source": [
    "import optuna\n",
    "\n",
    "from lightgbm import LGBMRegressor\n",
    "from sklearn.metrics import mean_squared_error\n",
    "\n",
    "def objective(trial):\n",
    "    param = {\n",
    "        'metric': 'rmse', \n",
    "        'random_state': 1,\n",
    "        'n_estimators': trial.suggest_int('n_estimators', 500, 1000),\n",
    "        'reg_alpha': trial.suggest_categorical('reg_alpha', [0.4, 0.5, 0.6, 0.7, 0.8]),\n",
    "        'reg_lambda': trial.suggest_categorical('reg_lambda', [0.4, 0.5, 0.6, 0.7, 0.8, 0.9]),\n",
    "        'colsample_bytree': trial.suggest_categorical('colsample_bytree', [0.5, 0.6, 0.7, 0.8, 0.9]),\n",
    "        'subsample': trial.suggest_categorical('subsample', [0.6, 0.7, 0.8, 0.9, 1]),\n",
    "        'learning_rate': trial.suggest_categorical('learning_rate', [0.01, 0.015, 0.02, 0.025]),\n",
    "        'max_depth': trial.suggest_int('max_depth', 1, 50),\n",
    "        'min_child_samples': trial.suggest_int('min_child_samples', 1, 50),\n",
    "        'min_child_weight': trial.suggest_int('min_child_weight', 1, 5),\n",
    "        'n_jobs': -1\n",
    "    }\n",
    "\n",
    "    model = LGBMRegressor(**param)\n",
    "    model.fit(X_train, y_train)\n",
    "    y_pred = model.predict(X_test)\n",
    "    rmse = mean_squared_error(y_test, y_pred, squared=False)\n",
    "\n",
    "    return rmse"
   ]
  },
  {
   "cell_type": "code",
   "execution_count": 15,
   "metadata": {},
   "outputs": [],
   "source": [
    "import optuna\n",
    "\n",
    "from catboost import CatBoostClassifier\n",
    "from sklearn.metrics import mean_squared_error\n",
    "\n",
    "def objective(trial):\n",
    "    param = {\n",
    "        'random_state': 1,\n",
    "        'iterations':trial.suggest_categorical(\"iterations\", [1000, 1200]),\n",
    "        'learning_rate':trial.suggest_float(\"learning_rate\", .05, .12),\n",
    "        'depth':trial.suggest_int(\"depth\", 6, 16),\n",
    "        'l2_leaf_reg':trial.suggest_int('l2_leaf_reg', 1, 10),\n",
    "        \"used_ram_limit\": \"3gb\"\n",
    "    }\n",
    "\n",
    "    CBmodel = CatBoostClassifier(**param)\n",
    "    CBmodel.fit(X_train, y_train)\n",
    "    y_pred = CBmodel.predict(X_test)\n",
    "    rmse = mean_squared_error(y_test, y_pred, squared=False)\n",
    "\n",
    "    return rmse"
   ]
  },
  {
   "cell_type": "code",
   "execution_count": 72,
   "metadata": {},
   "outputs": [
    {
     "name": "stderr",
     "output_type": "stream",
     "text": [
      "\u001b[32m[I 2023-09-23 00:55:54,714]\u001b[0m A new study created in memory with name: no-name-56776c82-8a2b-461c-b0cf-fa16d7ccdf56\u001b[0m\n"
     ]
    }
   ],
   "source": [
    "study = optuna.create_study(direction='minimize')\n",
    "study.optimize(objective, n_trials=10, n_jobs=-1)\n",
    "print('Number of finished trials:', len(study.trials))\n",
    "print('Best trial:', study.best_trial.params)"
   ]
  },
  {
   "cell_type": "code",
   "execution_count": 14,
   "metadata": {},
   "outputs": [],
   "source": [
    "from sklearn.ensemble import ExtraTreesRegressor\n",
    "\n",
    "model = ExtraTreesRegressor(random_state=random_state)\n",
    "model.fit(X_train, y_train)\n",
    "y_pred = model.predict(X_test)"
   ]
  },
  {
   "cell_type": "code",
   "execution_count": 20,
   "metadata": {},
   "outputs": [
    {
     "name": "stdout",
     "output_type": "stream",
     "text": [
      "0.7164093353068077\n"
     ]
    }
   ],
   "source": [
    "from sklearn.ensemble import StackingRegressor\n",
    "from flaml.default import LGBMRegressor\n",
    "from catboost import CatBoostRegressor\n",
    "from sklearn.metrics import mean_squared_error\n",
    "\n",
    "stacked_model = StackingRegressor(estimators=[('lgbm', clas), ('cb', model)], cv='prefit', n_jobs=-1)\n",
    "\n",
    "stacked_model.fit(X_train, y_train)\n",
    "y_pred = stacked_model.predict(X_test)\n",
    "print(mean_squared_error(y_test, y_pred, squared=False))"
   ]
  },
  {
   "cell_type": "code",
   "execution_count": 67,
   "metadata": {},
   "outputs": [
    {
     "name": "stdout",
     "output_type": "stream",
     "text": [
      "0.7217939998531816\n"
     ]
    }
   ],
   "source": [
    "from sklearn.metrics import mean_squared_error\n",
    "\n",
    "print(mean_squared_error(y_test, y_pred, squared=False))"
   ]
  },
  {
   "cell_type": "markdown",
   "metadata": {},
   "source": [
    "## Application"
   ]
  },
  {
   "cell_type": "code",
   "execution_count": 269,
   "metadata": {},
   "outputs": [],
   "source": [
    "test = pd.read_csv('dataset/test_clean.csv', index_col=[0])"
   ]
  },
  {
   "cell_type": "code",
   "execution_count": 270,
   "metadata": {},
   "outputs": [],
   "source": [
    "test['parsed_datetime'] = pd.to_datetime(test['parsed_datetime'])\n",
    "\n",
    "test['month'] = [x.month for x in test['parsed_datetime']]\n",
    "test['hour'] = [x.hour for x in test['parsed_datetime']]\n",
    "test['dayofyear'] = [x.dayofyear for x in test['parsed_datetime']]\n",
    "\n",
    "test.drop('parsed_datetime', axis=1, inplace=True)"
   ]
  },
  {
   "cell_type": "code",
   "execution_count": 271,
   "metadata": {},
   "outputs": [],
   "source": [
    "test['month_sorted'] = test['month'].replace(month_list, month)\n",
    "test['hour_sorted'] = test['hour'].replace(hour_list, hour)\n",
    "test['dayofyear_sorted'] = test['dayofyear'].replace(day_of_year_list, dayofyear)"
   ]
  },
  {
   "cell_type": "code",
   "execution_count": 272,
   "metadata": {},
   "outputs": [],
   "source": [
    "test['temp_range'] = test['max_temp'] - test['min_temp']"
   ]
  },
  {
   "cell_type": "code",
   "execution_count": 273,
   "metadata": {},
   "outputs": [],
   "source": [
    "for i in range(backstep):\n",
    "    j = str(i+1)\n",
    "    test['prssr_trend_hourly'+j] = test['prssr'].diff(periods=i+1)\n",
    "    test['temp_trend_hourly'+j] = test['temp'].diff(periods=i+1)\n",
    "    test['min_temp_trend_hourly'+j] = test['min_temp'].diff(periods=i+1)\n",
    "    test['max_temp_trend_hourly'+j] = test['max_temp'].diff(periods=i+1)\n",
    "    test['d_point_trend_hourly'+j] = test['d_point'].diff(periods=i+1)\n",
    "    test['hum_trend_hourly'+j] = test['hum'].diff(periods=i+1)"
   ]
  },
  {
   "cell_type": "code",
   "execution_count": 274,
   "metadata": {},
   "outputs": [],
   "source": [
    "test = pd.concat([train_df[-backstep:], test]).reset_index()\n",
    "test = test.drop(['index', 'rain_1h'], axis=1)\n"
   ]
  },
  {
   "cell_type": "code",
   "execution_count": 298,
   "metadata": {},
   "outputs": [
    {
     "name": "stdout",
     "output_type": "stream",
     "text": [
      "<class 'pandas.core.frame.DataFrame'>\n",
      "RangeIndex: 49368 entries, 0 to 49367\n",
      "Columns: 193 entries, temp0 to hum_trend_hourly8\n",
      "dtypes: float64(187), int64(6)\n",
      "memory usage: 72.7 MB\n"
     ]
    }
   ],
   "source": [
    "new_test = to_feature(test, features_list, backstep)\n",
    "new_test.info()"
   ]
  },
  {
   "cell_type": "code",
   "execution_count": 301,
   "metadata": {},
   "outputs": [],
   "source": [
    "new_test = pd.concat([train_df[-window:], new_test]).reset_index()\n",
    "new_test = new_test.drop(['index', 'rain_1h'], axis=1)"
   ]
  },
  {
   "cell_type": "code",
   "execution_count": 313,
   "metadata": {},
   "outputs": [],
   "source": [
    "new_test = sma(new_test, ma_features, window)"
   ]
  },
  {
   "cell_type": "code",
   "execution_count": 314,
   "metadata": {},
   "outputs": [
    {
     "name": "stdout",
     "output_type": "stream",
     "text": [
      "<class 'pandas.core.frame.DataFrame'>\n",
      "RangeIndex: 49368 entries, 8 to 49375\n",
      "Columns: 199 entries, temp to prssr_lsma\n",
      "dtypes: float64(187), int64(6), object(6)\n",
      "memory usage: 75.0+ MB\n"
     ]
    }
   ],
   "source": [
    "new_test.info()"
   ]
  },
  {
   "cell_type": "code",
   "execution_count": 315,
   "metadata": {},
   "outputs": [],
   "source": [
    "hour_bins = [-1, 2, 10, np.inf]\n",
    "month_bins = [0, 4, 10, np.inf]\n",
    "hour_labels = [0, 1, 0]\n",
    "month_labels = [1, 0, 1]\n",
    "\n",
    "new_test['new_hour'] = pd.cut(new_test['hour'], hour_bins, labels=hour_labels, ordered=False).astype('int')\n",
    "new_test['new_month'] = pd.cut(new_test['month'], month_bins, labels=month_labels, ordered=False).astype('int')"
   ]
  },
  {
   "cell_type": "code",
   "execution_count": 316,
   "metadata": {},
   "outputs": [],
   "source": [
    "new_test['wind_x'] = new_test['wind_spd'] * np.cos(np.deg2rad(new_test['wind_deg']))\n",
    "new_test['wind_y'] = new_test['wind_spd'] * np.sin(np.deg2rad(new_test['wind_deg']))"
   ]
  },
  {
   "cell_type": "code",
   "execution_count": 317,
   "metadata": {},
   "outputs": [],
   "source": [
    "bins = [0, 22.5, 67.5, 112.5, 157.5, 202.5, 247.5, 292.5, 337.5, np.inf]\n",
    "labels = ['n', 'ne', 'e', 'se', 's', 'sw', 'w', 'nw', 'n']\n",
    "\n",
    "new_test['wind_deg'] = pd.cut(new_test['wind_deg'], bins, labels=labels, ordered=False)\n",
    "new_test = pd.get_dummies(new_test, prefix='wind_deg', columns=['wind_deg'])"
   ]
  },
  {
   "cell_type": "code",
   "execution_count": 318,
   "metadata": {},
   "outputs": [
    {
     "name": "stdout",
     "output_type": "stream",
     "text": [
      "<class 'pandas.core.frame.DataFrame'>\n",
      "RangeIndex: 49368 entries, 8 to 49375\n",
      "Columns: 210 entries, temp to wind_deg_w\n",
      "dtypes: float64(188), int32(2), int64(6), object(6), uint8(8)\n",
      "memory usage: 76.1+ MB\n"
     ]
    }
   ],
   "source": [
    "new_test.info()"
   ]
  },
  {
   "cell_type": "code",
   "execution_count": 319,
   "metadata": {},
   "outputs": [],
   "source": [
    "preds = model.predict(new_test)"
   ]
  },
  {
   "cell_type": "code",
   "execution_count": 224,
   "metadata": {},
   "outputs": [
    {
     "data": {
      "text/plain": [
       "array([0.29024826, 0.26770143, 0.29169453, ..., 0.22125601, 0.16793778,\n",
       "       0.11418194])"
      ]
     },
     "execution_count": 224,
     "metadata": {},
     "output_type": "execute_result"
    }
   ],
   "source": [
    "preds"
   ]
  },
  {
   "cell_type": "code",
   "execution_count": 320,
   "metadata": {},
   "outputs": [],
   "source": [
    "new_preds = []\n",
    "\n",
    "for x in preds:\n",
    "    if x < 0:\n",
    "        new_preds.append(0)\n",
    "    else:\n",
    "        new_preds.append(x)\n",
    "\n",
    "new_preds = np.array(new_preds)"
   ]
  },
  {
   "cell_type": "code",
   "execution_count": 321,
   "metadata": {},
   "outputs": [
    {
     "data": {
      "text/plain": [
       "[<matplotlib.lines.Line2D at 0x20ba7473130>]"
      ]
     },
     "execution_count": 321,
     "metadata": {},
     "output_type": "execute_result"
    },
    {
     "data": {
      "image/png": "[encoded data removed]",
      "text/plain": [
       "<Figure size 640x480 with 1 Axes>"
      ]
     },
     "metadata": {},
     "output_type": "display_data"
    }
   ],
   "source": [
    "plt.plot(new_preds)"
   ]
  },
  {
   "cell_type": "code",
   "execution_count": 322,
   "metadata": {},
   "outputs": [
    {
     "data": {
      "text/html": [
       "<div>\n",
       "<style scoped>\n",
       "    .dataframe tbody tr th:only-of-type {\n",
       "        vertical-align: middle;\n",
       "    }\n",
       "\n",
       "    .dataframe tbody tr th {\n",
       "        vertical-align: top;\n",
       "    }\n",
       "\n",
       "    .dataframe thead th {\n",
       "        text-align: right;\n",
       "    }\n",
       "</style>\n",
       "<table border=\"1\" class=\"dataframe\">\n",
       "  <thead>\n",
       "    <tr style=\"text-align: right;\">\n",
       "      <th></th>\n",
       "      <th>datetime_iso</th>\n",
       "      <th>rain_1h</th>\n",
       "    </tr>\n",
       "  </thead>\n",
       "  <tbody>\n",
       "    <tr>\n",
       "      <th>0</th>\n",
       "      <td>2018-01-01 00:00:00+00:00</td>\n",
       "      <td>0.708585</td>\n",
       "    </tr>\n",
       "    <tr>\n",
       "      <th>1</th>\n",
       "      <td>2018-01-01 01:00:00+00:00</td>\n",
       "      <td>0.184519</td>\n",
       "    </tr>\n",
       "    <tr>\n",
       "      <th>2</th>\n",
       "      <td>2018-01-01 02:00:00+00:00</td>\n",
       "      <td>0.127118</td>\n",
       "    </tr>\n",
       "    <tr>\n",
       "      <th>3</th>\n",
       "      <td>2018-01-01 03:00:00+00:00</td>\n",
       "      <td>1.377634</td>\n",
       "    </tr>\n",
       "    <tr>\n",
       "      <th>4</th>\n",
       "      <td>2018-01-01 04:00:00+00:00</td>\n",
       "      <td>1.397839</td>\n",
       "    </tr>\n",
       "    <tr>\n",
       "      <th>...</th>\n",
       "      <td>...</td>\n",
       "      <td>...</td>\n",
       "    </tr>\n",
       "    <tr>\n",
       "      <th>49363</th>\n",
       "      <td>2023-08-19 19:00:00+00:00</td>\n",
       "      <td>0.010879</td>\n",
       "    </tr>\n",
       "    <tr>\n",
       "      <th>49364</th>\n",
       "      <td>2023-08-19 20:00:00+00:00</td>\n",
       "      <td>0.000000</td>\n",
       "    </tr>\n",
       "    <tr>\n",
       "      <th>49365</th>\n",
       "      <td>2023-08-19 21:00:00+00:00</td>\n",
       "      <td>0.000000</td>\n",
       "    </tr>\n",
       "    <tr>\n",
       "      <th>49366</th>\n",
       "      <td>2023-08-19 22:00:00+00:00</td>\n",
       "      <td>0.000000</td>\n",
       "    </tr>\n",
       "    <tr>\n",
       "      <th>49367</th>\n",
       "      <td>2023-08-19 23:00:00+00:00</td>\n",
       "      <td>0.020341</td>\n",
       "    </tr>\n",
       "  </tbody>\n",
       "</table>\n",
       "<p>49368 rows × 2 columns</p>\n",
       "</div>"
      ],
      "text/plain": [
       "                    datetime_iso   rain_1h\n",
       "0      2018-01-01 00:00:00+00:00  0.708585\n",
       "1      2018-01-01 01:00:00+00:00  0.184519\n",
       "2      2018-01-01 02:00:00+00:00  0.127118\n",
       "3      2018-01-01 03:00:00+00:00  1.377634\n",
       "4      2018-01-01 04:00:00+00:00  1.397839\n",
       "...                          ...       ...\n",
       "49363  2023-08-19 19:00:00+00:00  0.010879\n",
       "49364  2023-08-19 20:00:00+00:00  0.000000\n",
       "49365  2023-08-19 21:00:00+00:00  0.000000\n",
       "49366  2023-08-19 22:00:00+00:00  0.000000\n",
       "49367  2023-08-19 23:00:00+00:00  0.020341\n",
       "\n",
       "[49368 rows x 2 columns]"
      ]
     },
     "execution_count": 322,
     "metadata": {},
     "output_type": "execute_result"
    }
   ],
   "source": [
    "new = pd.read_csv('dataset/test_clean.csv', index_col=[0])\n",
    "\n",
    "submission = new['parsed_datetime']\n",
    "submission = pd.DataFrame(submission)\n",
    "submission['rain_1h'] = new_preds\n",
    "submission.columns = ['datetime_iso', 'rain_1h']\n",
    "submission"
   ]
  },
  {
   "cell_type": "code",
   "execution_count": 81,
   "metadata": {},
   "outputs": [],
   "source": [
    "submission.to_csv('submission/submission_e11.csv', index=False)"
   ]
  },
  {
   "cell_type": "code",
   "execution_count": 2,
   "metadata": {},
   "outputs": [
    {
     "data": {
      "text/plain": [
       "[<matplotlib.lines.Line2D at 0x1c9dd00a9d0>]"
      ]
     },
     "execution_count": 2,
     "metadata": {},
     "output_type": "execute_result"
    },
    {
     "data": {
      "image/png": "[encoded data removed]",
      "text/plain": [
       "<Figure size 640x480 with 1 Axes>"
      ]
     },
     "metadata": {},
     "output_type": "display_data"
    }
   ],
   "source": [
    "xyz = pd.read_csv('submission/submission_e5.csv')\n",
    "plt.plot(xyz['rain_1h'])"
   ]
  }
 ],
 "metadata": {
  "kernelspec": {
   "display_name": "base",
   "language": "python",
   "name": "python3"
  },
  "language_info": {
   "codemirror_mode": {
    "name": "ipython",
    "version": 3
   },
   "file_extension": ".py",
   "mimetype": "text/x-python",
   "name": "python",
   "nbconvert_exporter": "python",
   "pygments_lexer": "ipython3",
   "version": "3.9.13"
  },
  "orig_nbformat": 4
 },
 "nbformat": 4,
 "nbformat_minor": 2
}
